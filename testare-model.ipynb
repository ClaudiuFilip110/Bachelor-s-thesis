{
 "cells": [
  {
   "cell_type": "code",
   "execution_count": 1,
   "metadata": {},
   "outputs": [],
   "source": [
    "import tensorflow as tf\n",
    "import pandas as pd\n",
    "import numpy as np\n",
    "import time\n",
    "\n",
    "from tensorflow.compat.v1 import ConfigProto\n",
    "from tensorflow.compat.v1 import InteractiveSession\n",
    "\n",
    "config = ConfigProto()\n",
    "config.gpu_options.allow_growth = True\n",
    "session = InteractiveSession(config=config)"
   ]
  },
  {
   "cell_type": "code",
   "execution_count": 4,
   "metadata": {},
   "outputs": [],
   "source": [
    "model = tf.keras.models.load_model('models\\Model-final-arhitectura-mare')"
   ]
  },
  {
   "cell_type": "code",
   "execution_count": 117,
   "metadata": {},
   "outputs": [],
   "source": [
    "from passwords import API_KEY, API_SECRET\n",
    "from binance.client import Client\n",
    "binance_api_key = API_KEY\n",
    "binance_api_secret = API_SECRET\n",
    "binance_client = Client(api_key=binance_api_key, api_secret=binance_api_secret)\n",
    "\n",
    "klines1 = binance_client.get_klines(symbol='BCHUSDT', interval=Client.KLINE_INTERVAL_1HOUR)\n",
    "data_orig1 = pd.DataFrame(klines1, columns = ['time', 'open', 'high', 'low', 'close', 'volume', 'close_time', 'quote_av', 'trades', 'tb_base_av', 'tb_quote_av', 'ignore' ])\n",
    "klines2 = binance_client.get_klines(symbol='BTCUSDT', interval=Client.KLINE_INTERVAL_1HOUR)\n",
    "data_orig2 = pd.DataFrame(klines2, columns = ['time', 'open', 'high', 'low', 'close', 'volume', 'close_time', 'quote_av', 'trades', 'tb_base_av', 'tb_quote_av', 'ignore' ])\n",
    "klines3 = binance_client.get_klines(symbol='ETHUSDT', interval=Client.KLINE_INTERVAL_1HOUR)\n",
    "data_orig3 = pd.DataFrame(klines3, columns = ['time', 'open', 'high', 'low', 'close', 'volume', 'close_time', 'quote_av', 'trades', 'tb_base_av', 'tb_quote_av', 'ignore' ])\n",
    "klines4 = binance_client.get_klines(symbol='LTCUSDT', interval=Client.KLINE_INTERVAL_1HOUR)\n",
    "data_orig4 = pd.DataFrame(klines4, columns = ['time', 'open', 'high', 'low', 'close', 'volume', 'close_time', 'quote_av', 'trades', 'tb_base_av', 'tb_quote_av', 'ignore' ])\n",
    "\n",
    "\n",
    "data_orig1.drop(['close_time', 'quote_av', 'trades', 'tb_base_av', 'tb_quote_av', 'ignore'], axis=1, inplace=True)\n",
    "data_orig2.drop(['close_time', 'quote_av', 'trades', 'tb_base_av', 'tb_quote_av', 'ignore'], axis=1, inplace=True)\n",
    "data_orig3.drop(['close_time', 'quote_av', 'trades', 'tb_base_av', 'tb_quote_av', 'ignore'], axis=1, inplace=True)\n",
    "data_orig4.drop(['close_time', 'quote_av', 'trades', 'tb_base_av', 'tb_quote_av', 'ignore'], axis=1, inplace=True)\n",
    "\n",
    "\n",
    "data_orig1.set_index(\"time\", inplace=True)\n",
    "data_orig1.drop([\"low\", \"high\", \"open\"], axis=1, inplace=True)\n",
    "data_orig2.set_index(\"time\", inplace=True)\n",
    "data_orig2.drop([\"low\", \"high\", \"open\"], axis=1, inplace=True)\n",
    "data_orig3.set_index(\"time\", inplace=True)\n",
    "data_orig3.drop([\"low\", \"high\", \"open\"], axis=1, inplace=True)\n",
    "data_orig4.set_index(\"time\", inplace=True)\n",
    "data_orig4.drop([\"low\", \"high\", \"open\"], axis=1, inplace=True)"
   ]
  },
  {
   "cell_type": "code",
   "execution_count": 118,
   "metadata": {},
   "outputs": [],
   "source": [
    "data1 = data_orig1.copy()\n",
    "data2 = data_orig2.copy()\n",
    "data3 = data_orig3.copy()\n",
    "data4 = data_orig4.copy()"
   ]
  },
  {
   "cell_type": "code",
   "execution_count": 119,
   "metadata": {},
   "outputs": [],
   "source": [
    "frames = ['BTCUSDT', 'ETHUSDT', 'LTCUSDT']\n",
    "data1.rename(\n",
    "        columns={\"close\": \"BCHUSDT-close\", \"volume\": \"BCHUSDT-volume\"}, inplace=True\n",
    "    )\n",
    "data2.rename(\n",
    "        columns={\"close\": \"BTCUSDT-close\", \"volume\": \"BTCUSDT-volume\"}, inplace=True\n",
    "    )\n",
    "data3.rename(\n",
    "        columns={\"close\": \"ETHUSDT-close\", \"volume\": \"ETHUSDT-volume\"}, inplace=True\n",
    "    )\n",
    "data4.rename(\n",
    "        columns={\"close\": \"LTCUSDT-close\", \"volume\": \"LTCUSDT-volume\"}, inplace=True\n",
    "    )\n",
    "\n",
    "df_temp = data1\n",
    "df_temp = df_temp.join(data2)\n",
    "df_temp = df_temp.join(data3)\n",
    "df_temp = df_temp.join(data4)"
   ]
  },
  {
   "cell_type": "code",
   "execution_count": 120,
   "metadata": {},
   "outputs": [],
   "source": [
    "inference_data = df_temp.tail(16)"
   ]
  },
  {
   "cell_type": "code",
   "execution_count": 125,
   "metadata": {},
   "outputs": [
    {
     "output_type": "execute_result",
     "data": {
      "text/plain": [
       "(1, 16, 9)"
      ]
     },
     "metadata": {},
     "execution_count": 125
    }
   ],
   "source": [
    "sequencial_data = []\n",
    "for row in inference_data.values:\n",
    "    sequencial_data.append([x for x in row])\n",
    "\n",
    "for row in sequencial_data:\n",
    "    row.append(0)\n",
    "\n",
    "d = np.asarray(sequencial_data, dtype=np.float32)\n",
    "df = np.expand_dims(d, 0)\n",
    "df.shape"
   ]
  },
  {
   "cell_type": "code",
   "execution_count": 128,
   "metadata": {},
   "outputs": [],
   "source": [
    "with open('cod_convertire_model\\INFERENCE_DATA.npy', 'wb') as f:\n",
    "    np.save(f, df)"
   ]
  }
 ],
 "metadata": {
  "kernelspec": {
   "name": "python386jvsc74a57bd0b9a242c6537588eb330d6ba27f8e10bfddd67786fd8e8be485b429576a694def",
   "display_name": "Python 3.8.6 64-bit"
  },
  "language_info": {
   "codemirror_mode": {
    "name": "ipython",
    "version": 3
   },
   "file_extension": ".py",
   "mimetype": "text/x-python",
   "name": "python",
   "nbconvert_exporter": "python",
   "pygments_lexer": "ipython3",
   "version": "3.8.6"
  }
 },
 "nbformat": 4,
 "nbformat_minor": 2
}