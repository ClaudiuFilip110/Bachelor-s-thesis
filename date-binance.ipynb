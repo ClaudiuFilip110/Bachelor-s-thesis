{
 "cells": [
  {
   "cell_type": "markdown",
   "metadata": {},
   "source": [
    "In this notebook we will retrieve the training data from the Binance API."
   ]
  },
  {
   "cell_type": "markdown",
   "metadata": {},
   "source": [
    "# Imports"
   ]
  },
  {
   "cell_type": "code",
   "execution_count": 1,
   "metadata": {
    "scrolled": false
   },
   "outputs": [],
   "source": [
    "from binance.client import Client\n",
    "from datetime import timedelta, datetime\n",
    "from dateutil import parser\n",
    "import pandas as pd\n",
    "import math\n",
    "import os.path\n",
    "import time"
   ]
  },
  {
   "cell_type": "markdown",
   "metadata": {},
   "source": [
    "# Constants"
   ]
  },
  {
   "cell_type": "code",
   "execution_count": 2,
   "metadata": {},
   "outputs": [],
   "source": [
    "binance_api_key = 'mUeGlErejtn44czuuFhJdfX9kjhTzbLQWN9sKPmw8Zijwi8EyIHqTN5w1EpZMgaq'\n",
    "binance_api_secret = 'X6bEtPljPY91aw9AvlY2yusNCZt78ERq57sOM7yXGVa2Wem4z1SA8eBNCknnrGUc'\n",
    "binance_client = Client(api_key=binance_api_key, api_secret=binance_api_secret)\n",
    "start_date = '1 Jan, 2020'"
   ]
  },
  {
   "cell_type": "code",
   "execution_count": 3,
   "metadata": {},
   "outputs": [],
   "source": [
    "def get_data_from_binance(coin, kline_size, test_date=False):\n",
    "    filename = f'crypto_data/{coin}-binance.csv'\n",
    "    print(f'Descarcarea tuturor datelor de {kline_size} pentru {coin} de la {start_date} pana in prezent a inceput. Aveti rabdare..!')\n",
    "    if not test_date: klines = binance_client.get_historical_klines(coin, kline_size, start_date)\n",
    "    else:\n",
    "        klines = binance_client.get_historical_klines(coin, kline_size, start_date, '1 Feb, 2020')\n",
    "            \n",
    "    data = pd.DataFrame(klines, columns = ['time', 'open', 'high', 'low', 'close', 'volume', 'close_time', 'quote_av', 'trades', 'tb_base_av', 'tb_quote_av', 'ignore' ])\n",
    "    \n",
    "    data.drop(['close_time', 'quote_av', 'trades', 'tb_base_av', 'tb_quote_av', 'ignore'], axis=1, inplace=True)\n",
    "    data.to_csv(filename)\n",
    "    print(f'Descarcarea datelor despre {coin} terminata!')\n",
    "    return data"
   ]
  },
  {
   "cell_type": "markdown",
   "metadata": {},
   "source": [
    "## Example of bad request"
   ]
  },
  {
   "cell_type": "code",
   "execution_count": 4,
   "metadata": {
    "scrolled": true
   },
   "outputs": [
    {
     "data": {
      "text/plain": [
       "0    1574899200000\n",
       "Name: timestamp, dtype: int64"
      ]
     },
     "execution_count": 4,
     "metadata": {},
     "output_type": "execute_result"
    }
   ],
   "source": [
    "klines = binance_client.get_historical_klines('BCHUSDT', Client.KLINE_INTERVAL_1DAY, '1 Jan, 2018', '1 Jan, 2020')\n",
    "data = pd.DataFrame(klines, columns = ['timestamp', 'open', 'high', 'low', 'close', 'volume', 'close_time', 'quote_av', 'trades', 'tb_base_av', 'tb_quote_av', 'ignore' ])\n",
    "\n",
    "data['timestamp'].head(1)"
   ]
  },
  {
   "cell_type": "markdown",
   "metadata": {},
   "source": [
    "    1 Ianuarie 2018   - 1577836800000\n",
    "    28 Noiembrie 2019 - 1574892000000\n",
    "    \n",
    "    Chiar daca request'ul este pentru 1 Ian 2018, timestamp'ul indica ca dataFrame'ul incepe din Noiembrie 28, 2019 (1574892000).\n",
    "    \n",
    "    Acest detaliu indica ca nu exista date mai vechi de 28 Noiembrie 2019 pentru moneda BCH (BitcoinCash), cel putin folosind API'ul Binance.\n",
    "\n"
   ]
  },
  {
   "cell_type": "code",
   "execution_count": 5,
   "metadata": {
    "scrolled": true
   },
   "outputs": [
    {
     "name": "stdout",
     "output_type": "stream",
     "text": [
      "Descarcarea tuturor datelor de 15m pentru BTCUSDT de la 1 Jan, 2020 pana in prezent a inceput. Aveti rabdare..!\n",
      "Descarcarea datelor despre BTCUSDT terminata!\n",
      "Descarcarea tuturor datelor de 15m pentru BCHUSDT de la 1 Jan, 2020 pana in prezent a inceput. Aveti rabdare..!\n",
      "Descarcarea datelor despre BCHUSDT terminata!\n",
      "Descarcarea tuturor datelor de 15m pentru ETHUSDT de la 1 Jan, 2020 pana in prezent a inceput. Aveti rabdare..!\n",
      "Descarcarea datelor despre ETHUSDT terminata!\n",
      "Descarcarea tuturor datelor de 15m pentru LTCUSDT de la 1 Jan, 2020 pana in prezent a inceput. Aveti rabdare..!\n",
      "Descarcarea datelor despre LTCUSDT terminata!\n"
     ]
    }
   ],
   "source": [
    "coins = ['BTCUSDT','BCHUSDT','ETHUSDT','LTCUSDT']\n",
    "\n",
    "for coin in coins:\n",
    "    get_data_from_binance(coin, Client.KLINE_INTERVAL_15MINUTE)    "
   ]
  }
 ],
 "metadata": {
  "kernelspec": {
   "display_name": "Python 3",
   "language": "python",
   "name": "python3"
  },
  "language_info": {
   "codemirror_mode": {
    "name": "ipython",
    "version": 3
   },
   "file_extension": ".py",
   "mimetype": "text/x-python",
   "name": "python",
   "nbconvert_exporter": "python",
   "pygments_lexer": "ipython3",
   "version": "3.8.6"
  }
 },
 "nbformat": 4,
 "nbformat_minor": 4
}
