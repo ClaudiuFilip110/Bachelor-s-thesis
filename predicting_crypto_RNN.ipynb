{
 "metadata": {
  "language_info": {
   "codemirror_mode": {
    "name": "ipython",
    "version": 3
   },
   "file_extension": ".py",
   "mimetype": "text/x-python",
   "name": "python",
   "nbconvert_exporter": "python",
   "pygments_lexer": "ipython3",
   "version": "3.8.6-final"
  },
  "orig_nbformat": 2,
  "kernelspec": {
   "name": "python3",
   "display_name": "Python 3.8.6 64-bit",
   "metadata": {
    "interpreter": {
     "hash": "b9a242c6537588eb330d6ba27f8e10bfddd67786fd8e8be485b429576a694def"
    }
   }
  }
 },
 "nbformat": 4,
 "nbformat_minor": 2,
 "cells": [
  {
   "source": [
    "## Imports"
   ],
   "cell_type": "markdown",
   "metadata": {}
  },
  {
   "cell_type": "code",
   "execution_count": 1,
   "metadata": {},
   "outputs": [],
   "source": [
    "import pandas as pd\n",
    "\n",
    "from sklearn import preprocessing\n",
    "from collections import deque\n",
    "import numpy as np\n",
    "import random\n",
    "import time\n",
    "\n",
    "import tensorflow as tf\n",
    "from tensorflow.keras.models import Sequential \n",
    "from tensorflow.keras.layers import Dense, Dropout, LSTM, BatchNormalization\n",
    "from tensorflow.keras.callbacks import TensorBoard, ModelCheckpoint, LearningRateScheduler\n",
    "from tensorflow.keras.optimizers import SGD, Adam\n",
    "from tensorflow.keras.optimizers.schedules import ExponentialDecay\n",
    "from tensorflow.keras.regularizers import l1\n",
    "from tensorflow.keras.regularizers import l2\n",
    "# pt CuDNNLSTM look at this https://stackoverflow.com/questions/60468385/is-there-cudnnlstm-or-cudnngru-alternative-in-tensorflow-2-0\n",
    "\n",
    "from tensorflow.compat.v1 import ConfigProto\n",
    "from tensorflow.compat.v1 import InteractiveSession"
   ]
  },
  {
   "source": [
    "The next steps are as follow:\n",
    "### 1. create the main dataframe\n",
    "### 2. load the data"
   ],
   "cell_type": "markdown",
   "metadata": {}
  },
  {
   "cell_type": "code",
   "execution_count": 2,
   "metadata": {},
   "outputs": [],
   "source": [
    "main_df = pd.DataFrame()\n",
    "\n",
    "ratios = [\"BCH-USD\", \"BTC-USD\", \"ETH-USD\", \"LTC-USD\"]\n",
    "\n",
    "for ratio in ratios:\n",
    "    dataset = pd.read_csv(\n",
    "        f\"crypto_data/{ratio}.csv\",\n",
    "        names=[\"time\", \"low\", \"high\", \"open\", \"close\", \"volume\"],\n",
    "    )\n",
    "    # we only need the close and volume\n",
    "    dataset.rename(\n",
    "        columns={\"close\": f\"{ratio}-close\", \"volume\": f\"{ratio}-volume\"}, inplace=True\n",
    "    )\n",
    "    # print(dataset.head())\n",
    "\n",
    "    # set the time as the index\n",
    "    dataset.set_index(\"time\", inplace=True)\n",
    "\n",
    "    # drop the ones we don't need\n",
    "    dataset.drop([\"low\", \"high\", \"open\"], axis=1, inplace=True)\n",
    "\n",
    "    # merge all the columns on the index\n",
    "    if main_df.empty:\n",
    "        main_df = dataset\n",
    "    else:\n",
    "        main_df = main_df.join(dataset)"
   ]
  },
  {
   "cell_type": "code",
   "execution_count": 3,
   "metadata": {},
   "outputs": [
    {
     "output_type": "execute_result",
     "data": {
      "text/plain": [
       "            BCH-USD-close  BCH-USD-volume  BTC-USD-close  BTC-USD-volume  \\\n",
       "time                                                                       \n",
       "1528968660     871.719971        5.675361    6489.549805        0.587100   \n",
       "1528968720     870.859985       26.856577    6487.379883        7.706374   \n",
       "1528968780     870.099976        1.124300    6479.410156        3.088252   \n",
       "1528968840     870.789978        1.749862    6479.410156        1.404100   \n",
       "1528968900     870.000000        1.680500    6479.979980        0.753000   \n",
       "\n",
       "            ETH-USD-close  ETH-USD-volume  LTC-USD-close  LTC-USD-volume  \n",
       "time                                                                      \n",
       "1528968660            NaN             NaN      96.580002        9.647200  \n",
       "1528968720      486.01001       26.019083      96.660004      314.387024  \n",
       "1528968780      486.00000        8.449400      96.570000       77.129799  \n",
       "1528968840      485.75000       26.994646      96.500000        7.216067  \n",
       "1528968900      486.00000       77.355759      96.389999      524.539978  "
      ],
      "text/html": "<div>\n<style scoped>\n    .dataframe tbody tr th:only-of-type {\n        vertical-align: middle;\n    }\n\n    .dataframe tbody tr th {\n        vertical-align: top;\n    }\n\n    .dataframe thead th {\n        text-align: right;\n    }\n</style>\n<table border=\"1\" class=\"dataframe\">\n  <thead>\n    <tr style=\"text-align: right;\">\n      <th></th>\n      <th>BCH-USD-close</th>\n      <th>BCH-USD-volume</th>\n      <th>BTC-USD-close</th>\n      <th>BTC-USD-volume</th>\n      <th>ETH-USD-close</th>\n      <th>ETH-USD-volume</th>\n      <th>LTC-USD-close</th>\n      <th>LTC-USD-volume</th>\n    </tr>\n    <tr>\n      <th>time</th>\n      <th></th>\n      <th></th>\n      <th></th>\n      <th></th>\n      <th></th>\n      <th></th>\n      <th></th>\n      <th></th>\n    </tr>\n  </thead>\n  <tbody>\n    <tr>\n      <th>1528968660</th>\n      <td>871.719971</td>\n      <td>5.675361</td>\n      <td>6489.549805</td>\n      <td>0.587100</td>\n      <td>NaN</td>\n      <td>NaN</td>\n      <td>96.580002</td>\n      <td>9.647200</td>\n    </tr>\n    <tr>\n      <th>1528968720</th>\n      <td>870.859985</td>\n      <td>26.856577</td>\n      <td>6487.379883</td>\n      <td>7.706374</td>\n      <td>486.01001</td>\n      <td>26.019083</td>\n      <td>96.660004</td>\n      <td>314.387024</td>\n    </tr>\n    <tr>\n      <th>1528968780</th>\n      <td>870.099976</td>\n      <td>1.124300</td>\n      <td>6479.410156</td>\n      <td>3.088252</td>\n      <td>486.00000</td>\n      <td>8.449400</td>\n      <td>96.570000</td>\n      <td>77.129799</td>\n    </tr>\n    <tr>\n      <th>1528968840</th>\n      <td>870.789978</td>\n      <td>1.749862</td>\n      <td>6479.410156</td>\n      <td>1.404100</td>\n      <td>485.75000</td>\n      <td>26.994646</td>\n      <td>96.500000</td>\n      <td>7.216067</td>\n    </tr>\n    <tr>\n      <th>1528968900</th>\n      <td>870.000000</td>\n      <td>1.680500</td>\n      <td>6479.979980</td>\n      <td>0.753000</td>\n      <td>486.00000</td>\n      <td>77.355759</td>\n      <td>96.389999</td>\n      <td>524.539978</td>\n    </tr>\n  </tbody>\n</table>\n</div>"
     },
     "metadata": {},
     "execution_count": 3
    }
   ],
   "source": [
    "main_df.head()"
   ]
  },
  {
   "cell_type": "code",
   "execution_count": 4,
   "metadata": {},
   "outputs": [
    {
     "output_type": "execute_result",
     "data": {
      "text/plain": [
       "array(['BCH-USD-close', 'BCH-USD-volume', 'BTC-USD-close',\n",
       "       'BTC-USD-volume', 'ETH-USD-close', 'ETH-USD-volume',\n",
       "       'LTC-USD-close', 'LTC-USD-volume'], dtype=object)"
      ]
     },
     "metadata": {},
     "execution_count": 4
    }
   ],
   "source": [
    "main_df.columns.values"
   ]
  },
  {
   "source": [
    "## Define the parameters of the dataset."
   ],
   "cell_type": "markdown",
   "metadata": {}
  },
  {
   "cell_type": "code",
   "execution_count": 5,
   "metadata": {},
   "outputs": [],
   "source": [
    "SEQ_LEN = 60\n",
    "FUTURE_PRED = 60\n",
    "COIN = \"BTC-USD\"\n",
    "VAL_PCT = 0.20"
   ]
  },
  {
   "source": [
    "## Create a classifier that specifies when to buy/sell\n"
   ],
   "cell_type": "markdown",
   "metadata": {}
  },
  {
   "cell_type": "code",
   "execution_count": 6,
   "metadata": {},
   "outputs": [],
   "source": [
    "def classify(current, future):\n",
    "    if float(current) <= float(future):\n",
    "        return 1 # when the price is higher we buy\n",
    "    else:\n",
    "        return 0 # when the price is lower we sell"
   ]
  },
  {
   "source": [
    "## Let's do some feature engineering\n",
    "- add a 'future' column\n",
    "- add a 'target' column"
   ],
   "cell_type": "markdown",
   "metadata": {}
  },
  {
   "cell_type": "code",
   "execution_count": 7,
   "metadata": {},
   "outputs": [
    {
     "output_type": "execute_result",
     "data": {
      "text/plain": [
       "            BTC-USD-close       future\n",
       "time                                  \n",
       "1528968660    6489.549805  6485.000000\n",
       "1528968720    6487.379883  6484.990234\n",
       "1528968780    6479.410156  6493.399902\n",
       "1528968840    6479.410156  6487.830078\n",
       "1528968900    6479.979980  6487.830078"
      ],
      "text/html": "<div>\n<style scoped>\n    .dataframe tbody tr th:only-of-type {\n        vertical-align: middle;\n    }\n\n    .dataframe tbody tr th {\n        vertical-align: top;\n    }\n\n    .dataframe thead th {\n        text-align: right;\n    }\n</style>\n<table border=\"1\" class=\"dataframe\">\n  <thead>\n    <tr style=\"text-align: right;\">\n      <th></th>\n      <th>BTC-USD-close</th>\n      <th>future</th>\n    </tr>\n    <tr>\n      <th>time</th>\n      <th></th>\n      <th></th>\n    </tr>\n  </thead>\n  <tbody>\n    <tr>\n      <th>1528968660</th>\n      <td>6489.549805</td>\n      <td>6485.000000</td>\n    </tr>\n    <tr>\n      <th>1528968720</th>\n      <td>6487.379883</td>\n      <td>6484.990234</td>\n    </tr>\n    <tr>\n      <th>1528968780</th>\n      <td>6479.410156</td>\n      <td>6493.399902</td>\n    </tr>\n    <tr>\n      <th>1528968840</th>\n      <td>6479.410156</td>\n      <td>6487.830078</td>\n    </tr>\n    <tr>\n      <th>1528968900</th>\n      <td>6479.979980</td>\n      <td>6487.830078</td>\n    </tr>\n  </tbody>\n</table>\n</div>"
     },
     "metadata": {},
     "execution_count": 7
    }
   ],
   "source": [
    "main_df[\"future\"] = main_df[f\"{COIN}-close\"].shift(-FUTURE_PRED)\n",
    "main_df[[f'{COIN}-close', 'future']].head()"
   ]
  },
  {
   "cell_type": "code",
   "execution_count": 8,
   "metadata": {},
   "outputs": [
    {
     "output_type": "execute_result",
     "data": {
      "text/plain": [
       "            BCH-USD-close  BCH-USD-volume  BTC-USD-close  BTC-USD-volume  \\\n",
       "time                                                                       \n",
       "1528968660     871.719971        5.675361    6489.549805        0.587100   \n",
       "1528968720     870.859985       26.856577    6487.379883        7.706374   \n",
       "1528968780     870.099976        1.124300    6479.410156        3.088252   \n",
       "1528968840     870.789978        1.749862    6479.410156        1.404100   \n",
       "1528968900     870.000000        1.680500    6479.979980        0.753000   \n",
       "\n",
       "            ETH-USD-close  ETH-USD-volume  LTC-USD-close  LTC-USD-volume  \\\n",
       "time                                                                       \n",
       "1528968660            NaN             NaN      96.580002        9.647200   \n",
       "1528968720      486.01001       26.019083      96.660004      314.387024   \n",
       "1528968780      486.00000        8.449400      96.570000       77.129799   \n",
       "1528968840      485.75000       26.994646      96.500000        7.216067   \n",
       "1528968900      486.00000       77.355759      96.389999      524.539978   \n",
       "\n",
       "                 future  target  \n",
       "time                             \n",
       "1528968660  6485.000000       0  \n",
       "1528968720  6484.990234       0  \n",
       "1528968780  6493.399902       1  \n",
       "1528968840  6487.830078       1  \n",
       "1528968900  6487.830078       1  "
      ],
      "text/html": "<div>\n<style scoped>\n    .dataframe tbody tr th:only-of-type {\n        vertical-align: middle;\n    }\n\n    .dataframe tbody tr th {\n        vertical-align: top;\n    }\n\n    .dataframe thead th {\n        text-align: right;\n    }\n</style>\n<table border=\"1\" class=\"dataframe\">\n  <thead>\n    <tr style=\"text-align: right;\">\n      <th></th>\n      <th>BCH-USD-close</th>\n      <th>BCH-USD-volume</th>\n      <th>BTC-USD-close</th>\n      <th>BTC-USD-volume</th>\n      <th>ETH-USD-close</th>\n      <th>ETH-USD-volume</th>\n      <th>LTC-USD-close</th>\n      <th>LTC-USD-volume</th>\n      <th>future</th>\n      <th>target</th>\n    </tr>\n    <tr>\n      <th>time</th>\n      <th></th>\n      <th></th>\n      <th></th>\n      <th></th>\n      <th></th>\n      <th></th>\n      <th></th>\n      <th></th>\n      <th></th>\n      <th></th>\n    </tr>\n  </thead>\n  <tbody>\n    <tr>\n      <th>1528968660</th>\n      <td>871.719971</td>\n      <td>5.675361</td>\n      <td>6489.549805</td>\n      <td>0.587100</td>\n      <td>NaN</td>\n      <td>NaN</td>\n      <td>96.580002</td>\n      <td>9.647200</td>\n      <td>6485.000000</td>\n      <td>0</td>\n    </tr>\n    <tr>\n      <th>1528968720</th>\n      <td>870.859985</td>\n      <td>26.856577</td>\n      <td>6487.379883</td>\n      <td>7.706374</td>\n      <td>486.01001</td>\n      <td>26.019083</td>\n      <td>96.660004</td>\n      <td>314.387024</td>\n      <td>6484.990234</td>\n      <td>0</td>\n    </tr>\n    <tr>\n      <th>1528968780</th>\n      <td>870.099976</td>\n      <td>1.124300</td>\n      <td>6479.410156</td>\n      <td>3.088252</td>\n      <td>486.00000</td>\n      <td>8.449400</td>\n      <td>96.570000</td>\n      <td>77.129799</td>\n      <td>6493.399902</td>\n      <td>1</td>\n    </tr>\n    <tr>\n      <th>1528968840</th>\n      <td>870.789978</td>\n      <td>1.749862</td>\n      <td>6479.410156</td>\n      <td>1.404100</td>\n      <td>485.75000</td>\n      <td>26.994646</td>\n      <td>96.500000</td>\n      <td>7.216067</td>\n      <td>6487.830078</td>\n      <td>1</td>\n    </tr>\n    <tr>\n      <th>1528968900</th>\n      <td>870.000000</td>\n      <td>1.680500</td>\n      <td>6479.979980</td>\n      <td>0.753000</td>\n      <td>486.00000</td>\n      <td>77.355759</td>\n      <td>96.389999</td>\n      <td>524.539978</td>\n      <td>6487.830078</td>\n      <td>1</td>\n    </tr>\n  </tbody>\n</table>\n</div>"
     },
     "metadata": {},
     "execution_count": 8
    }
   ],
   "source": [
    "main_df[\"target\"] = list(\n",
    "    map(classify, main_df[f\"{COIN}-close\"], main_df[\"future\"])\n",
    ")\n",
    "main_df.head()"
   ]
  },
  {
   "source": [
    "## Split the data into training and validation sets"
   ],
   "cell_type": "markdown",
   "metadata": {}
  },
  {
   "cell_type": "code",
   "execution_count": 9,
   "metadata": {},
   "outputs": [
    {
     "output_type": "execute_result",
     "data": {
      "text/plain": [
       "Empty DataFrame\n",
       "Columns: [BCH-USD-close, BCH-USD-volume, BTC-USD-close, BTC-USD-volume, ETH-USD-close, ETH-USD-volume, LTC-USD-close, LTC-USD-volume, future, target]\n",
       "Index: []"
      ],
      "text/html": "<div>\n<style scoped>\n    .dataframe tbody tr th:only-of-type {\n        vertical-align: middle;\n    }\n\n    .dataframe tbody tr th {\n        vertical-align: top;\n    }\n\n    .dataframe thead th {\n        text-align: right;\n    }\n</style>\n<table border=\"1\" class=\"dataframe\">\n  <thead>\n    <tr style=\"text-align: right;\">\n      <th></th>\n      <th>BCH-USD-close</th>\n      <th>BCH-USD-volume</th>\n      <th>BTC-USD-close</th>\n      <th>BTC-USD-volume</th>\n      <th>ETH-USD-close</th>\n      <th>ETH-USD-volume</th>\n      <th>LTC-USD-close</th>\n      <th>LTC-USD-volume</th>\n      <th>future</th>\n      <th>target</th>\n    </tr>\n    <tr>\n      <th>time</th>\n      <th></th>\n      <th></th>\n      <th></th>\n      <th></th>\n      <th></th>\n      <th></th>\n      <th></th>\n      <th></th>\n      <th></th>\n      <th></th>\n    </tr>\n  </thead>\n  <tbody>\n  </tbody>\n</table>\n</div>"
     },
     "metadata": {},
     "execution_count": 9
    }
   ],
   "source": [
    "times = main_df.index.values\n",
    "last_x_pct = main_df.index.values[-int(VAL_PCT * len(times))]\n",
    "\n",
    "validation_main_df = main_df[main_df.index >= last_x_pct]\n",
    "main_df = main_df[main_df.index < last_x_pct]\n",
    "\n",
    "main_df.loc[main_df.index == last_x_pct] #the splitting place"
   ]
  },
  {
   "cell_type": "code",
   "execution_count": 10,
   "metadata": {},
   "outputs": [
    {
     "output_type": "execute_result",
     "data": {
      "text/plain": [
       "       BCH-USD-close  BCH-USD-volume  BTC-USD-close  BTC-USD-volume  \\\n",
       "count   73780.000000    73780.000000   68659.000000    68659.000000   \n",
       "mean      762.449577       11.751972    6868.055547        6.258522   \n",
       "std        73.228726       34.029166     682.278698       16.738563   \n",
       "min       559.479980        0.000002    5778.109863        0.001915   \n",
       "25%       708.580017        0.420771    6350.584961        0.864259   \n",
       "50%       759.000000        2.020262    6635.700195        2.077186   \n",
       "75%       819.140015        9.129493    7415.069824        5.135763   \n",
       "max       927.000000     1520.833862    8482.799805      471.660889   \n",
       "\n",
       "       ETH-USD-close  ETH-USD-volume  LTC-USD-close  LTC-USD-volume  \\\n",
       "count   73625.000000    73625.000000   73107.000000    73107.000000   \n",
       "mean      455.072312       49.440810      82.332467      118.398840   \n",
       "std        38.534674      129.805149       8.303777      272.419967   \n",
       "min       326.320007        0.000030      58.290001        0.009593   \n",
       "25%       434.299988        5.499268      77.279999       12.922469   \n",
       "50%       461.700012       14.897300      82.339996       35.887356   \n",
       "75%       475.200012       42.180565      86.150002      106.874336   \n",
       "max       547.000000     9310.024414     103.040001    10263.191406   \n",
       "\n",
       "             future        target  \n",
       "count  68659.000000  73780.000000  \n",
       "mean    6867.720904      0.462591  \n",
       "std      682.557930      0.498602  \n",
       "min     5778.109863      0.000000  \n",
       "25%     6350.109863      0.000000  \n",
       "50%     6635.700195      0.000000  \n",
       "75%     7415.069824      1.000000  \n",
       "max     8482.799805      1.000000  "
      ],
      "text/html": "<div>\n<style scoped>\n    .dataframe tbody tr th:only-of-type {\n        vertical-align: middle;\n    }\n\n    .dataframe tbody tr th {\n        vertical-align: top;\n    }\n\n    .dataframe thead th {\n        text-align: right;\n    }\n</style>\n<table border=\"1\" class=\"dataframe\">\n  <thead>\n    <tr style=\"text-align: right;\">\n      <th></th>\n      <th>BCH-USD-close</th>\n      <th>BCH-USD-volume</th>\n      <th>BTC-USD-close</th>\n      <th>BTC-USD-volume</th>\n      <th>ETH-USD-close</th>\n      <th>ETH-USD-volume</th>\n      <th>LTC-USD-close</th>\n      <th>LTC-USD-volume</th>\n      <th>future</th>\n      <th>target</th>\n    </tr>\n  </thead>\n  <tbody>\n    <tr>\n      <th>count</th>\n      <td>73780.000000</td>\n      <td>73780.000000</td>\n      <td>68659.000000</td>\n      <td>68659.000000</td>\n      <td>73625.000000</td>\n      <td>73625.000000</td>\n      <td>73107.000000</td>\n      <td>73107.000000</td>\n      <td>68659.000000</td>\n      <td>73780.000000</td>\n    </tr>\n    <tr>\n      <th>mean</th>\n      <td>762.449577</td>\n      <td>11.751972</td>\n      <td>6868.055547</td>\n      <td>6.258522</td>\n      <td>455.072312</td>\n      <td>49.440810</td>\n      <td>82.332467</td>\n      <td>118.398840</td>\n      <td>6867.720904</td>\n      <td>0.462591</td>\n    </tr>\n    <tr>\n      <th>std</th>\n      <td>73.228726</td>\n      <td>34.029166</td>\n      <td>682.278698</td>\n      <td>16.738563</td>\n      <td>38.534674</td>\n      <td>129.805149</td>\n      <td>8.303777</td>\n      <td>272.419967</td>\n      <td>682.557930</td>\n      <td>0.498602</td>\n    </tr>\n    <tr>\n      <th>min</th>\n      <td>559.479980</td>\n      <td>0.000002</td>\n      <td>5778.109863</td>\n      <td>0.001915</td>\n      <td>326.320007</td>\n      <td>0.000030</td>\n      <td>58.290001</td>\n      <td>0.009593</td>\n      <td>5778.109863</td>\n      <td>0.000000</td>\n    </tr>\n    <tr>\n      <th>25%</th>\n      <td>708.580017</td>\n      <td>0.420771</td>\n      <td>6350.584961</td>\n      <td>0.864259</td>\n      <td>434.299988</td>\n      <td>5.499268</td>\n      <td>77.279999</td>\n      <td>12.922469</td>\n      <td>6350.109863</td>\n      <td>0.000000</td>\n    </tr>\n    <tr>\n      <th>50%</th>\n      <td>759.000000</td>\n      <td>2.020262</td>\n      <td>6635.700195</td>\n      <td>2.077186</td>\n      <td>461.700012</td>\n      <td>14.897300</td>\n      <td>82.339996</td>\n      <td>35.887356</td>\n      <td>6635.700195</td>\n      <td>0.000000</td>\n    </tr>\n    <tr>\n      <th>75%</th>\n      <td>819.140015</td>\n      <td>9.129493</td>\n      <td>7415.069824</td>\n      <td>5.135763</td>\n      <td>475.200012</td>\n      <td>42.180565</td>\n      <td>86.150002</td>\n      <td>106.874336</td>\n      <td>7415.069824</td>\n      <td>1.000000</td>\n    </tr>\n    <tr>\n      <th>max</th>\n      <td>927.000000</td>\n      <td>1520.833862</td>\n      <td>8482.799805</td>\n      <td>471.660889</td>\n      <td>547.000000</td>\n      <td>9310.024414</td>\n      <td>103.040001</td>\n      <td>10263.191406</td>\n      <td>8482.799805</td>\n      <td>1.000000</td>\n    </tr>\n  </tbody>\n</table>\n</div>"
     },
     "metadata": {},
     "execution_count": 10
    }
   ],
   "source": [
    "main_df.describe()"
   ]
  },
  {
   "cell_type": "code",
   "execution_count": 11,
   "metadata": {},
   "outputs": [
    {
     "output_type": "stream",
     "name": "stdout",
     "text": [
      "6.94%\n"
     ]
    }
   ],
   "source": [
    "missing_target_values_pct = main_df['future'].isna().sum() * 100 /len(main_df['future'])\n",
    "print(f'{missing_target_values_pct:0.3}%')"
   ]
  },
  {
   "source": [
    "There are 6% missing values in the target column alone."
   ],
   "cell_type": "markdown",
   "metadata": {}
  },
  {
   "cell_type": "code",
   "execution_count": 12,
   "metadata": {},
   "outputs": [
    {
     "output_type": "execute_result",
     "data": {
      "text/plain": [
       "BCH-USD-close        0\n",
       "BCH-USD-volume       0\n",
       "BTC-USD-close     5121\n",
       "BTC-USD-volume    5121\n",
       "ETH-USD-close      155\n",
       "ETH-USD-volume     155\n",
       "LTC-USD-close      673\n",
       "LTC-USD-volume     673\n",
       "future            5121\n",
       "target               0\n",
       "dtype: int64"
      ]
     },
     "metadata": {},
     "execution_count": 12
    }
   ],
   "source": [
    "main_df.isna().sum()"
   ]
  },
  {
   "cell_type": "code",
   "execution_count": 13,
   "metadata": {},
   "outputs": [
    {
     "output_type": "execute_result",
     "data": {
      "text/plain": [
       "(73780, 10)"
      ]
     },
     "metadata": {},
     "execution_count": 13
    }
   ],
   "source": [
    "main_df.shape"
   ]
  },
  {
   "source": [
    "## We now remove/fill in the missing values with values that we believe to be correct."
   ],
   "cell_type": "markdown",
   "metadata": {}
  },
  {
   "cell_type": "code",
   "execution_count": 14,
   "metadata": {},
   "outputs": [
    {
     "output_type": "execute_result",
     "data": {
      "text/plain": [
       "(BCH-USD-close     0\n",
       " BCH-USD-volume    0\n",
       " BTC-USD-close     0\n",
       " BTC-USD-volume    0\n",
       " ETH-USD-close     0\n",
       " ETH-USD-volume    0\n",
       " LTC-USD-close     0\n",
       " LTC-USD-volume    0\n",
       " future            0\n",
       " target            0\n",
       " dtype: int64,\n",
       " BCH-USD-close     0\n",
       " BCH-USD-volume    0\n",
       " BTC-USD-close     0\n",
       " BTC-USD-volume    0\n",
       " ETH-USD-close     0\n",
       " ETH-USD-volume    0\n",
       " LTC-USD-close     0\n",
       " LTC-USD-volume    0\n",
       " future            0\n",
       " target            0\n",
       " dtype: int64)"
      ]
     },
     "metadata": {},
     "execution_count": 14
    }
   ],
   "source": [
    "main_df.fillna(method=\"ffill\", inplace=True)\n",
    "validation_main_df.fillna(method=\"ffill\", inplace=True)\n",
    "\n",
    "main_df.dropna(inplace=True)\n",
    "validation_main_df.dropna(inplace=True)\n",
    "main_df.isna().sum(), validation_main_df.isna().sum()"
   ]
  },
  {
   "source": [
    "### The data is still not ready for processing. There is one last step required: preprocessing.\n",
    "# Normalizing, Scaling and Balancing the dataset\n",
    "\n",
    "The steps required are: dropping the future column, creating pct_change so that the data is clearer and normalizare + scale the data.\n",
    "\n",
    "# SEQ_LEN\n",
    "With a normal dataset, we would randomize the order in which the data is so that the model doesn't overfit; instead it learns on random data.\n",
    "\n",
    "We can't do that here cuz the data would be too random and the model can't learn. Instead, what we'll do is take sequences of predefined lengths then shuffle those sequences. It's a really smart thing to do. We get continuous 1 hour (60 mins) periods and then shuffle them around."
   ],
   "cell_type": "markdown",
   "metadata": {}
  },
  {
   "cell_type": "code",
   "execution_count": 15,
   "metadata": {},
   "outputs": [],
   "source": [
    "def preprocessing_df(df):\n",
    "    df.drop(\"future\", axis=1)  # we drop the future column\n",
    "\n",
    "    # use pct change to figure the change in price\n",
    "    for col in df.columns:\n",
    "        if col != \"target\":\n",
    "            df[col] = df[col].pct_change()\n",
    "            df.dropna(inplace=True)\n",
    "\n",
    "            # normalize the data 0 -> 1 NOTE: normalization is a form of scaling\n",
    "            df[col] = preprocessing.scale(df[col])\n",
    "    df.dropna(inplace=True)\n",
    "    sequencial_data = []\n",
    "    prev_days = deque(maxlen=SEQ_LEN)\n",
    "    for row in df.values:\n",
    "        prev_days.append([x for x in row[:-1]])\n",
    "        if len(prev_days) == SEQ_LEN:\n",
    "            #separate the label/target\n",
    "            sequencial_data.append([np.array(prev_days), row[-1]])\n",
    "\n",
    "    random.shuffle(sequencial_data)\n",
    "\n",
    "    \"\"\"\n",
    "    the last step in our preprocessing will be to balance the learning set\n",
    "    \"\"\"\n",
    "    buys = []\n",
    "    sells = []\n",
    "\n",
    "    for seq, target in sequencial_data:\n",
    "        if target == 0: # you need to sell\n",
    "            sells.append([seq, target])\n",
    "        elif target == 1: # you need to buy\n",
    "            buys.append([seq, target])\n",
    "\n",
    "    random.shuffle(buys)\n",
    "    random.shuffle(sells)\n",
    "\n",
    "    # how do we balance? Simple. we remove the excess\n",
    "\n",
    "    lower_nr = min(len(buys), len(sells))\n",
    "\n",
    "    buys = buys[:lower_nr]\n",
    "    sells = sells[:lower_nr]\n",
    "\n",
    "    sequencial_data = buys + sells\n",
    "\n",
    "    random.shuffle(sequencial_data)\n",
    "\n",
    "    # split into x and Y\n",
    "    x = []\n",
    "    Y = []\n",
    "\n",
    "    for seq, target in sequencial_data:\n",
    "        x.append(seq)\n",
    "        Y.append(target)\n",
    "    return np.array(x), np.array(Y)"
   ]
  },
  {
   "cell_type": "code",
   "execution_count": 16,
   "metadata": {},
   "outputs": [],
   "source": [
    "train_x, train_Y = preprocessing_df(main_df)\n",
    "test_x, test_Y = preprocessing_df(validation_main_df)"
   ]
  },
  {
   "cell_type": "code",
   "execution_count": 17,
   "metadata": {},
   "outputs": [
    {
     "output_type": "stream",
     "name": "stdout",
     "text": [
      "Training data: 68188, Validation data: 17404\n Training set Sells: 34094, Buys: 34094\n Validation set Sells: 8702, Buys: 8702\n"
     ]
    }
   ],
   "source": [
    "print(f\"Training data: {len(train_x)}, Validation data: {len(test_x)}\")\n",
    "print(f\" Training set Sells: {(train_Y.astype('int32') == 0).sum()}, Buys: {(train_Y.astype('int32') == 1).sum()}\")\n",
    "print(f\" Validation set Sells: {(test_Y.astype('int32') == 0).sum()}, Buys: {(test_Y.astype('int32') == 1).sum()}\")"
   ]
  },
  {
   "source": [
    "As we can see, the total of entries is 68.010 + 17.120 = 85130 (after filling/dropping the missing values) and the ratio is 80/20.\n",
    "\n",
    "# Now that the preprocessing is complete, we can go and train the model."
   ],
   "cell_type": "markdown",
   "metadata": {}
  },
  {
   "cell_type": "code",
   "execution_count": 18,
   "metadata": {},
   "outputs": [],
   "source": [
    "config = ConfigProto()\n",
    "config.gpu_options.allow_growth = True\n",
    "session = InteractiveSession(config=config)\n",
    "\n",
    "model = Sequential()\n",
    "model.add(LSTM(64, kernel_regularizer=l2(1e-6), recurrent_regularizer=l2(1e-6), bias_regularizer=l2(1e-6), return_sequences=True))\n",
    "model.add(Dropout(0.2))\n",
    "model.add(BatchNormalization())\n",
    "\n",
    "model.add(LSTM(64, kernel_regularizer=l2(1e-6), recurrent_regularizer=l2(1e-6), bias_regularizer=l2(1e-6), return_sequences=True))\n",
    "model.add(Dropout(0.2))\n",
    "model.add(BatchNormalization())\n",
    "\n",
    "model.add(LSTM(64, kernel_regularizer=l2(1e-6), recurrent_regularizer=l2(1e-6), bias_regularizer=l2(1e-6)))\n",
    "model.add(Dropout(0.2))\n",
    "model.add(BatchNormalization())\n",
    "\n",
    "model.add(Dense(10, activation='relu'))\n",
    "model.add(Dropout(0.2))\n",
    "\n",
    "model.add(Dense(2, activation='softmax'))"
   ]
  },
  {
   "source": [
    "# Learning rate Finder"
   ],
   "cell_type": "markdown",
   "metadata": {}
  },
  {
   "cell_type": "code",
   "execution_count": 19,
   "metadata": {},
   "outputs": [],
   "source": [
    "from matplotlib import pyplot as plt\n",
    "import math\n",
    "from keras.callbacks import LambdaCallback\n",
    "import keras.backend as K\n",
    "\n",
    "class LRFinder:\n",
    "    \"\"\"\n",
    "    Plots the change of the loss function of a Keras model when the learning rate is exponentially increasing.\n",
    "    See for details:\n",
    "    https://towardsdatascience.com/estimating-optimal-learning-rate-for-a-deep-neural-network-ce32f2556ce0\n",
    "    \"\"\"\n",
    "    def __init__(self, model):\n",
    "        self.model = model\n",
    "        self.losses = []\n",
    "        self.lrs = []\n",
    "        self.best_loss = 1e9\n",
    "\n",
    "    def on_batch_end(self, batch, logs):\n",
    "        # Log the learning rate\n",
    "        lr = K.get_value(self.model.optimizer.lr)\n",
    "        self.lrs.append(lr)\n",
    "\n",
    "        # Log the loss\n",
    "        loss = logs['loss']\n",
    "        self.losses.append(loss)\n",
    "\n",
    "        # Check whether the loss got too large or NaN\n",
    "        if math.isnan(loss) or loss > self.best_loss * 4:\n",
    "            self.model.stop_training = True\n",
    "            return\n",
    "\n",
    "        if loss < self.best_loss:\n",
    "            self.best_loss = loss\n",
    "\n",
    "        # Increase the learning rate for the next batch\n",
    "        lr *= self.lr_mult\n",
    "        K.set_value(self.model.optimizer.lr, lr)\n",
    "\n",
    "    def find(self, x_train, y_train, start_lr, end_lr, batch_size=64, epochs=1):\n",
    "        num_batches = epochs * x_train.shape[0] / batch_size\n",
    "        self.lr_mult = (end_lr / start_lr) ** (1 / num_batches)\n",
    "\n",
    "        # Remember the original learning rate\n",
    "        original_lr = K.get_value(self.model.optimizer.lr)\n",
    "\n",
    "        # Set the initial learning rate\n",
    "        K.set_value(self.model.optimizer.lr, start_lr)\n",
    "\n",
    "        callback = LambdaCallback(on_batch_end=lambda batch, logs: self.on_batch_end(batch, logs))\n",
    "\n",
    "        self.model.fit(x_train, y_train,\n",
    "                        batch_size=batch_size, epochs=epochs,\n",
    "                        callbacks=[tensorboard, callback])\n",
    "\n",
    "        # Restore the original learning rate\n",
    "        K.set_value(self.model.optimizer.lr, original_lr)\n",
    "\n",
    "    def plot_loss(self, n_skip_beginning=10, n_skip_end=5):\n",
    "        \"\"\"\n",
    "        Plots the loss.\n",
    "        Parameters:\n",
    "            n_skip_beginning - number of batches to skip on the left.\n",
    "            n_skip_end - number of batches to skip on the right.\n",
    "        \"\"\"\n",
    "        plt.ylabel(\"loss\")\n",
    "        plt.xlabel(\"learning rate (log scale)\")\n",
    "        plt.plot(self.lrs[n_skip_beginning:-n_skip_end], self.losses[n_skip_beginning:-n_skip_end])\n",
    "        plt.xscale('log')\n",
    "\n",
    "    def plot_loss_change(self, sma=1, n_skip_beginning=10, n_skip_end=5, y_lim=(-0.01, 0.01)):\n",
    "        \"\"\"\n",
    "        Plots rate of change of the loss function.\n",
    "        Parameters:\n",
    "            sma - number of batches for simple moving average to smooth out the curve.\n",
    "            n_skip_beginning - number of batches to skip on the left.\n",
    "            n_skip_end - number of batches to skip on the right.\n",
    "            y_lim - limits for the y axis.\n",
    "        \"\"\"\n",
    "        assert sma >= 1\n",
    "        derivatives = [0] * sma\n",
    "        for i in range(sma, len(self.lrs)):\n",
    "            derivative = (self.losses[i] - self.losses[i - sma]) / sma\n",
    "            derivatives.append(derivative)\n",
    "\n",
    "        plt.ylabel(\"rate of loss change\")\n",
    "        plt.xlabel(\"learning rate (log scale)\")\n",
    "        plt.plot(self.lrs[n_skip_beginning:-n_skip_end], derivatives[n_skip_beginning:-n_skip_end])\n",
    "        plt.xscale('log')\n",
    "        plt.ylim(y_lim)"
   ]
  },
  {
   "cell_type": "code",
   "execution_count": 20,
   "metadata": {},
   "outputs": [],
   "source": [
    "opt = Adam(learning_rate=1e-4, decay=1e-7)\n",
    "\n",
    "# opt = Adam(learning_rate=0.01)\n",
    "# tf.summary.scalar('learning rate', data=1e-10)\n",
    "# lr = ExponentialDecay(initial_learning_rate=1e-2, decay_steps=10, decay_rate=.1)\n",
    "# opt = SGD(learning_rate=learning_rate)\n",
    "LOSS='sparse_categorical_crossentropy'\n",
    "\n",
    "# learning_rate = tf.compat.v1.train.exponential_decay(1e-10, global_step=global_step, decay_steps=100, decay_rate=1.3)\n",
    "\n",
    "model.compile(loss=LOSS, optimizer=opt, metrics=['accuracy'])"
   ]
  },
  {
   "source": [
    "## Hyperparameters, tensorboard and checkpoint"
   ],
   "cell_type": "markdown",
   "metadata": {}
  },
  {
   "cell_type": "code",
   "execution_count": 21,
   "metadata": {},
   "outputs": [],
   "source": [
    "EPOCHS = 10\n",
    "BATCH_SIZE = 32\n",
    "# NAME = f\"{COIN}-{SEQ_LEN}-{FUTURE_PRED}-VALID-PCT-{VAL_PCT}-LOSS-{LOSS}-OPT-{'Adam'}-{int(time.time())}\"\n",
    "# NAME = f\"{COIN}-{SEQ_LEN}-{FUTURE_PRED}-VALID-PCT-model-without-normalization-LOSS-{LOSS}-OPT-{'SGD'}-{int(time.time())}\"\n",
    "NAME = f\"LRFinder-{COIN}-{SEQ_LEN}-{FUTURE_PRED}-{int(time.time())}\""
   ]
  },
  {
   "cell_type": "code",
   "execution_count": 22,
   "metadata": {},
   "outputs": [],
   "source": [
    "tensorboard = TensorBoard(log_dir=f'logs/{NAME}')\n",
    "filepath = \"RNN_Final-{epoch:02d}-{val_accuracy:.3f}\"\n",
    "checkpoint = ModelCheckpoint(\"models/{}.model\".format(filepath, monitor='val_accuracy', verbose=1, save_best_only=True, mode='max')) # saves only the best ones"
   ]
  },
  {
   "source": [
    "# Fitting the model"
   ],
   "cell_type": "markdown",
   "metadata": {}
  },
  {
   "cell_type": "code",
   "execution_count": 23,
   "metadata": {},
   "outputs": [
    {
     "output_type": "execute_result",
     "data": {
      "text/plain": [
       "'\\nfor now this is deprecated\\n\\nhistory = model.fit(train_x, train_Y, \\n        batch_size=BATCH_SIZE, \\n        epochs=EPOCHS,\\n        validation_data=(test_x, test_Y),\\n        # callbacks=[tensorboard, checkpoint])\\n        callbacks=[tensorboard])\\n\\n'"
      ]
     },
     "metadata": {},
     "execution_count": 23
    }
   ],
   "source": [
    "\"\"\"\n",
    "for now this is deprecated\n",
    "\n",
    "history = model.fit(train_x, train_Y, \n",
    "        batch_size=BATCH_SIZE, \n",
    "        epochs=EPOCHS,\n",
    "        validation_data=(test_x, test_Y),\n",
    "        # callbacks=[tensorboard, checkpoint])\n",
    "        callbacks=[tensorboard])\n",
    "\n",
    "\"\"\""
   ]
  },
  {
   "cell_type": "code",
   "execution_count": 24,
   "metadata": {},
   "outputs": [
    {
     "output_type": "stream",
     "name": "stdout",
     "text": [
      "Epoch 1/10\n",
      "533/533 [==============================] - 33s 37ms/step - loss: 0.9740 - accuracy: 0.4887\n",
      "Epoch 2/10\n",
      "533/533 [==============================] - 18s 33ms/step - loss: 0.9834 - accuracy: 0.4847\n",
      "Epoch 3/10\n",
      "533/533 [==============================] - 23s 43ms/step - loss: 0.9852 - accuracy: 0.4846\n",
      "Epoch 4/10\n",
      "533/533 [==============================] - 23s 44ms/step - loss: 0.9584 - accuracy: 0.4894\n",
      "Epoch 5/10\n",
      "533/533 [==============================] - 19s 36ms/step - loss: 0.8003 - accuracy: 0.5584\n",
      "Epoch 6/10\n",
      "533/533 [==============================] - 17s 33ms/step - loss: 0.4603 - accuracy: 0.7795\n",
      "Epoch 7/10\n",
      "533/533 [==============================] - 20s 37ms/step - loss: 0.2169 - accuracy: 0.9148\n",
      "Epoch 8/10\n",
      "533/533 [==============================] - 22s 41ms/step - loss: 0.3938 - accuracy: 0.7908\n",
      "Epoch 9/10\n",
      "533/533 [==============================] - 0s 6us/step - loss: 0.7371 - accuracy: 0.4922\n"
     ]
    },
    {
     "output_type": "display_data",
     "data": {
      "text/plain": "<Figure size 432x288 with 1 Axes>",
      "image/svg+xml": "<?xml version=\"1.0\" encoding=\"utf-8\" standalone=\"no\"?>\r\n<!DOCTYPE svg PUBLIC \"-//W3C//DTD SVG 1.1//EN\"\r\n  \"http://www.w3.org/Graphics/SVG/1.1/DTD/svg11.dtd\">\r\n<!-- Created with matplotlib (https://matplotlib.org/) -->\r\n<svg height=\"262.19625pt\" version=\"1.1\" viewBox=\"0 0 385.78125 262.19625\" width=\"385.78125pt\" xmlns=\"http://www.w3.org/2000/svg\" xmlns:xlink=\"http://www.w3.org/1999/xlink\">\r\n <metadata>\r\n  <rdf:RDF xmlns:cc=\"http://creativecommons.org/ns#\" xmlns:dc=\"http://purl.org/dc/elements/1.1/\" xmlns:rdf=\"http://www.w3.org/1999/02/22-rdf-syntax-ns#\">\r\n   <cc:Work>\r\n    <dc:type rdf:resource=\"http://purl.org/dc/dcmitype/StillImage\"/>\r\n    <dc:date>2021-03-08T10:31:42.915657</dc:date>\r\n    <dc:format>image/svg+xml</dc:format>\r\n    <dc:creator>\r\n     <cc:Agent>\r\n      <dc:title>Matplotlib v3.3.2, https://matplotlib.org/</dc:title>\r\n     </cc:Agent>\r\n    </dc:creator>\r\n   </cc:Work>\r\n  </rdf:RDF>\r\n </metadata>\r\n <defs>\r\n  <style type=\"text/css\">*{stroke-linecap:butt;stroke-linejoin:round;}</style>\r\n </defs>\r\n <g id=\"figure_1\">\r\n  <g id=\"patch_1\">\r\n   <path d=\"M 0 262.19625 \r\nL 385.78125 262.19625 \r\nL 385.78125 0 \r\nL 0 0 \r\nz\r\n\" style=\"fill:none;\"/>\r\n  </g>\r\n  <g id=\"axes_1\">\r\n   <g id=\"patch_2\">\r\n    <path d=\"M 43.78125 224.64 \r\nL 378.58125 224.64 \r\nL 378.58125 7.2 \r\nL 43.78125 7.2 \r\nz\r\n\" style=\"fill:#ffffff;\"/>\r\n   </g>\r\n   <g id=\"matplotlib.axis_1\">\r\n    <g id=\"xtick_1\">\r\n     <g id=\"line2d_1\">\r\n      <defs>\r\n       <path d=\"M 0 0 \r\nL 0 3.5 \r\n\" id=\"md15f726920\" style=\"stroke:#000000;stroke-width:0.8;\"/>\r\n      </defs>\r\n      <g>\r\n       <use style=\"stroke:#000000;stroke-width:0.8;\" x=\"89.438112\" xlink:href=\"#md15f726920\" y=\"224.64\"/>\r\n      </g>\r\n     </g>\r\n     <g id=\"text_1\">\r\n      <!-- $\\mathdefault{10^{-9}}$ -->\r\n      <g transform=\"translate(77.688112 239.238437)scale(0.1 -0.1)\">\r\n       <defs>\r\n        <path d=\"M 12.40625 8.296875 \r\nL 28.515625 8.296875 \r\nL 28.515625 63.921875 \r\nL 10.984375 60.40625 \r\nL 10.984375 69.390625 \r\nL 28.421875 72.90625 \r\nL 38.28125 72.90625 \r\nL 38.28125 8.296875 \r\nL 54.390625 8.296875 \r\nL 54.390625 0 \r\nL 12.40625 0 \r\nz\r\n\" id=\"DejaVuSans-49\"/>\r\n        <path d=\"M 31.78125 66.40625 \r\nQ 24.171875 66.40625 20.328125 58.90625 \r\nQ 16.5 51.421875 16.5 36.375 \r\nQ 16.5 21.390625 20.328125 13.890625 \r\nQ 24.171875 6.390625 31.78125 6.390625 \r\nQ 39.453125 6.390625 43.28125 13.890625 \r\nQ 47.125 21.390625 47.125 36.375 \r\nQ 47.125 51.421875 43.28125 58.90625 \r\nQ 39.453125 66.40625 31.78125 66.40625 \r\nz\r\nM 31.78125 74.21875 \r\nQ 44.046875 74.21875 50.515625 64.515625 \r\nQ 56.984375 54.828125 56.984375 36.375 \r\nQ 56.984375 17.96875 50.515625 8.265625 \r\nQ 44.046875 -1.421875 31.78125 -1.421875 \r\nQ 19.53125 -1.421875 13.0625 8.265625 \r\nQ 6.59375 17.96875 6.59375 36.375 \r\nQ 6.59375 54.828125 13.0625 64.515625 \r\nQ 19.53125 74.21875 31.78125 74.21875 \r\nz\r\n\" id=\"DejaVuSans-48\"/>\r\n        <path d=\"M 10.59375 35.5 \r\nL 73.1875 35.5 \r\nL 73.1875 27.203125 \r\nL 10.59375 27.203125 \r\nz\r\n\" id=\"DejaVuSans-8722\"/>\r\n        <path d=\"M 10.984375 1.515625 \r\nL 10.984375 10.5 \r\nQ 14.703125 8.734375 18.5 7.8125 \r\nQ 22.3125 6.890625 25.984375 6.890625 \r\nQ 35.75 6.890625 40.890625 13.453125 \r\nQ 46.046875 20.015625 46.78125 33.40625 \r\nQ 43.953125 29.203125 39.59375 26.953125 \r\nQ 35.25 24.703125 29.984375 24.703125 \r\nQ 19.046875 24.703125 12.671875 31.3125 \r\nQ 6.296875 37.9375 6.296875 49.421875 \r\nQ 6.296875 60.640625 12.9375 67.421875 \r\nQ 19.578125 74.21875 30.609375 74.21875 \r\nQ 43.265625 74.21875 49.921875 64.515625 \r\nQ 56.59375 54.828125 56.59375 36.375 \r\nQ 56.59375 19.140625 48.40625 8.859375 \r\nQ 40.234375 -1.421875 26.421875 -1.421875 \r\nQ 22.703125 -1.421875 18.890625 -0.6875 \r\nQ 15.09375 0.046875 10.984375 1.515625 \r\nz\r\nM 30.609375 32.421875 \r\nQ 37.25 32.421875 41.125 36.953125 \r\nQ 45.015625 41.5 45.015625 49.421875 \r\nQ 45.015625 57.28125 41.125 61.84375 \r\nQ 37.25 66.40625 30.609375 66.40625 \r\nQ 23.96875 66.40625 20.09375 61.84375 \r\nQ 16.21875 57.28125 16.21875 49.421875 \r\nQ 16.21875 41.5 20.09375 36.953125 \r\nQ 23.96875 32.421875 30.609375 32.421875 \r\nz\r\n\" id=\"DejaVuSans-57\"/>\r\n       </defs>\r\n       <use transform=\"translate(0 0.765625)\" xlink:href=\"#DejaVuSans-49\"/>\r\n       <use transform=\"translate(63.623047 0.765625)\" xlink:href=\"#DejaVuSans-48\"/>\r\n       <use transform=\"translate(128.203125 39.046875)scale(0.7)\" xlink:href=\"#DejaVuSans-8722\"/>\r\n       <use transform=\"translate(186.855469 39.046875)scale(0.7)\" xlink:href=\"#DejaVuSans-57\"/>\r\n      </g>\r\n     </g>\r\n    </g>\r\n    <g id=\"xtick_2\">\r\n     <g id=\"line2d_2\">\r\n      <g>\r\n       <use style=\"stroke:#000000;stroke-width:0.8;\" x=\"153.187508\" xlink:href=\"#md15f726920\" y=\"224.64\"/>\r\n      </g>\r\n     </g>\r\n     <g id=\"text_2\">\r\n      <!-- $\\mathdefault{10^{-7}}$ -->\r\n      <g transform=\"translate(141.437508 239.238437)scale(0.1 -0.1)\">\r\n       <defs>\r\n        <path d=\"M 8.203125 72.90625 \r\nL 55.078125 72.90625 \r\nL 55.078125 68.703125 \r\nL 28.609375 0 \r\nL 18.3125 0 \r\nL 43.21875 64.59375 \r\nL 8.203125 64.59375 \r\nz\r\n\" id=\"DejaVuSans-55\"/>\r\n       </defs>\r\n       <use transform=\"translate(0 0.684375)\" xlink:href=\"#DejaVuSans-49\"/>\r\n       <use transform=\"translate(63.623047 0.684375)\" xlink:href=\"#DejaVuSans-48\"/>\r\n       <use transform=\"translate(128.203125 38.965625)scale(0.7)\" xlink:href=\"#DejaVuSans-8722\"/>\r\n       <use transform=\"translate(186.855469 38.965625)scale(0.7)\" xlink:href=\"#DejaVuSans-55\"/>\r\n      </g>\r\n     </g>\r\n    </g>\r\n    <g id=\"xtick_3\">\r\n     <g id=\"line2d_3\">\r\n      <g>\r\n       <use style=\"stroke:#000000;stroke-width:0.8;\" x=\"216.936903\" xlink:href=\"#md15f726920\" y=\"224.64\"/>\r\n      </g>\r\n     </g>\r\n     <g id=\"text_3\">\r\n      <!-- $\\mathdefault{10^{-5}}$ -->\r\n      <g transform=\"translate(205.186903 239.238437)scale(0.1 -0.1)\">\r\n       <defs>\r\n        <path d=\"M 10.796875 72.90625 \r\nL 49.515625 72.90625 \r\nL 49.515625 64.59375 \r\nL 19.828125 64.59375 \r\nL 19.828125 46.734375 \r\nQ 21.96875 47.46875 24.109375 47.828125 \r\nQ 26.265625 48.1875 28.421875 48.1875 \r\nQ 40.625 48.1875 47.75 41.5 \r\nQ 54.890625 34.8125 54.890625 23.390625 \r\nQ 54.890625 11.625 47.5625 5.09375 \r\nQ 40.234375 -1.421875 26.90625 -1.421875 \r\nQ 22.3125 -1.421875 17.546875 -0.640625 \r\nQ 12.796875 0.140625 7.71875 1.703125 \r\nL 7.71875 11.625 \r\nQ 12.109375 9.234375 16.796875 8.0625 \r\nQ 21.484375 6.890625 26.703125 6.890625 \r\nQ 35.15625 6.890625 40.078125 11.328125 \r\nQ 45.015625 15.765625 45.015625 23.390625 \r\nQ 45.015625 31 40.078125 35.4375 \r\nQ 35.15625 39.890625 26.703125 39.890625 \r\nQ 22.75 39.890625 18.8125 39.015625 \r\nQ 14.890625 38.140625 10.796875 36.28125 \r\nz\r\n\" id=\"DejaVuSans-53\"/>\r\n       </defs>\r\n       <use transform=\"translate(0 0.684375)\" xlink:href=\"#DejaVuSans-49\"/>\r\n       <use transform=\"translate(63.623047 0.684375)\" xlink:href=\"#DejaVuSans-48\"/>\r\n       <use transform=\"translate(128.203125 38.965625)scale(0.7)\" xlink:href=\"#DejaVuSans-8722\"/>\r\n       <use transform=\"translate(186.855469 38.965625)scale(0.7)\" xlink:href=\"#DejaVuSans-53\"/>\r\n      </g>\r\n     </g>\r\n    </g>\r\n    <g id=\"xtick_4\">\r\n     <g id=\"line2d_4\">\r\n      <g>\r\n       <use style=\"stroke:#000000;stroke-width:0.8;\" x=\"280.686298\" xlink:href=\"#md15f726920\" y=\"224.64\"/>\r\n      </g>\r\n     </g>\r\n     <g id=\"text_4\">\r\n      <!-- $\\mathdefault{10^{-3}}$ -->\r\n      <g transform=\"translate(268.936298 239.238437)scale(0.1 -0.1)\">\r\n       <defs>\r\n        <path d=\"M 40.578125 39.3125 \r\nQ 47.65625 37.796875 51.625 33 \r\nQ 55.609375 28.21875 55.609375 21.1875 \r\nQ 55.609375 10.40625 48.1875 4.484375 \r\nQ 40.765625 -1.421875 27.09375 -1.421875 \r\nQ 22.515625 -1.421875 17.65625 -0.515625 \r\nQ 12.796875 0.390625 7.625 2.203125 \r\nL 7.625 11.71875 \r\nQ 11.71875 9.328125 16.59375 8.109375 \r\nQ 21.484375 6.890625 26.8125 6.890625 \r\nQ 36.078125 6.890625 40.9375 10.546875 \r\nQ 45.796875 14.203125 45.796875 21.1875 \r\nQ 45.796875 27.640625 41.28125 31.265625 \r\nQ 36.765625 34.90625 28.71875 34.90625 \r\nL 20.21875 34.90625 \r\nL 20.21875 43.015625 \r\nL 29.109375 43.015625 \r\nQ 36.375 43.015625 40.234375 45.921875 \r\nQ 44.09375 48.828125 44.09375 54.296875 \r\nQ 44.09375 59.90625 40.109375 62.90625 \r\nQ 36.140625 65.921875 28.71875 65.921875 \r\nQ 24.65625 65.921875 20.015625 65.03125 \r\nQ 15.375 64.15625 9.8125 62.3125 \r\nL 9.8125 71.09375 \r\nQ 15.4375 72.65625 20.34375 73.4375 \r\nQ 25.25 74.21875 29.59375 74.21875 \r\nQ 40.828125 74.21875 47.359375 69.109375 \r\nQ 53.90625 64.015625 53.90625 55.328125 \r\nQ 53.90625 49.265625 50.4375 45.09375 \r\nQ 46.96875 40.921875 40.578125 39.3125 \r\nz\r\n\" id=\"DejaVuSans-51\"/>\r\n       </defs>\r\n       <use transform=\"translate(0 0.765625)\" xlink:href=\"#DejaVuSans-49\"/>\r\n       <use transform=\"translate(63.623047 0.765625)\" xlink:href=\"#DejaVuSans-48\"/>\r\n       <use transform=\"translate(128.203125 39.046875)scale(0.7)\" xlink:href=\"#DejaVuSans-8722\"/>\r\n       <use transform=\"translate(186.855469 39.046875)scale(0.7)\" xlink:href=\"#DejaVuSans-51\"/>\r\n      </g>\r\n     </g>\r\n    </g>\r\n    <g id=\"xtick_5\">\r\n     <g id=\"line2d_5\">\r\n      <g>\r\n       <use style=\"stroke:#000000;stroke-width:0.8;\" x=\"344.435694\" xlink:href=\"#md15f726920\" y=\"224.64\"/>\r\n      </g>\r\n     </g>\r\n     <g id=\"text_5\">\r\n      <!-- $\\mathdefault{10^{-1}}$ -->\r\n      <g transform=\"translate(332.685694 239.238437)scale(0.1 -0.1)\">\r\n       <use transform=\"translate(0 0.684375)\" xlink:href=\"#DejaVuSans-49\"/>\r\n       <use transform=\"translate(63.623047 0.684375)\" xlink:href=\"#DejaVuSans-48\"/>\r\n       <use transform=\"translate(128.203125 38.965625)scale(0.7)\" xlink:href=\"#DejaVuSans-8722\"/>\r\n       <use transform=\"translate(186.855469 38.965625)scale(0.7)\" xlink:href=\"#DejaVuSans-49\"/>\r\n      </g>\r\n     </g>\r\n    </g>\r\n    <g id=\"text_6\">\r\n     <!-- learning rate (log scale) -->\r\n     <g transform=\"translate(151.451562 252.916562)scale(0.1 -0.1)\">\r\n      <defs>\r\n       <path d=\"M 9.421875 75.984375 \r\nL 18.40625 75.984375 \r\nL 18.40625 0 \r\nL 9.421875 0 \r\nz\r\n\" id=\"DejaVuSans-108\"/>\r\n       <path d=\"M 56.203125 29.59375 \r\nL 56.203125 25.203125 \r\nL 14.890625 25.203125 \r\nQ 15.484375 15.921875 20.484375 11.0625 \r\nQ 25.484375 6.203125 34.421875 6.203125 \r\nQ 39.59375 6.203125 44.453125 7.46875 \r\nQ 49.3125 8.734375 54.109375 11.28125 \r\nL 54.109375 2.78125 \r\nQ 49.265625 0.734375 44.1875 -0.34375 \r\nQ 39.109375 -1.421875 33.890625 -1.421875 \r\nQ 20.796875 -1.421875 13.15625 6.1875 \r\nQ 5.515625 13.8125 5.515625 26.8125 \r\nQ 5.515625 40.234375 12.765625 48.109375 \r\nQ 20.015625 56 32.328125 56 \r\nQ 43.359375 56 49.78125 48.890625 \r\nQ 56.203125 41.796875 56.203125 29.59375 \r\nz\r\nM 47.21875 32.234375 \r\nQ 47.125 39.59375 43.09375 43.984375 \r\nQ 39.0625 48.390625 32.421875 48.390625 \r\nQ 24.90625 48.390625 20.390625 44.140625 \r\nQ 15.875 39.890625 15.1875 32.171875 \r\nz\r\n\" id=\"DejaVuSans-101\"/>\r\n       <path d=\"M 34.28125 27.484375 \r\nQ 23.390625 27.484375 19.1875 25 \r\nQ 14.984375 22.515625 14.984375 16.5 \r\nQ 14.984375 11.71875 18.140625 8.90625 \r\nQ 21.296875 6.109375 26.703125 6.109375 \r\nQ 34.1875 6.109375 38.703125 11.40625 \r\nQ 43.21875 16.703125 43.21875 25.484375 \r\nL 43.21875 27.484375 \r\nz\r\nM 52.203125 31.203125 \r\nL 52.203125 0 \r\nL 43.21875 0 \r\nL 43.21875 8.296875 \r\nQ 40.140625 3.328125 35.546875 0.953125 \r\nQ 30.953125 -1.421875 24.3125 -1.421875 \r\nQ 15.921875 -1.421875 10.953125 3.296875 \r\nQ 6 8.015625 6 15.921875 \r\nQ 6 25.140625 12.171875 29.828125 \r\nQ 18.359375 34.515625 30.609375 34.515625 \r\nL 43.21875 34.515625 \r\nL 43.21875 35.40625 \r\nQ 43.21875 41.609375 39.140625 45 \r\nQ 35.0625 48.390625 27.6875 48.390625 \r\nQ 23 48.390625 18.546875 47.265625 \r\nQ 14.109375 46.140625 10.015625 43.890625 \r\nL 10.015625 52.203125 \r\nQ 14.9375 54.109375 19.578125 55.046875 \r\nQ 24.21875 56 28.609375 56 \r\nQ 40.484375 56 46.34375 49.84375 \r\nQ 52.203125 43.703125 52.203125 31.203125 \r\nz\r\n\" id=\"DejaVuSans-97\"/>\r\n       <path d=\"M 41.109375 46.296875 \r\nQ 39.59375 47.171875 37.8125 47.578125 \r\nQ 36.03125 48 33.890625 48 \r\nQ 26.265625 48 22.1875 43.046875 \r\nQ 18.109375 38.09375 18.109375 28.8125 \r\nL 18.109375 0 \r\nL 9.078125 0 \r\nL 9.078125 54.6875 \r\nL 18.109375 54.6875 \r\nL 18.109375 46.1875 \r\nQ 20.953125 51.171875 25.484375 53.578125 \r\nQ 30.03125 56 36.53125 56 \r\nQ 37.453125 56 38.578125 55.875 \r\nQ 39.703125 55.765625 41.0625 55.515625 \r\nz\r\n\" id=\"DejaVuSans-114\"/>\r\n       <path d=\"M 54.890625 33.015625 \r\nL 54.890625 0 \r\nL 45.90625 0 \r\nL 45.90625 32.71875 \r\nQ 45.90625 40.484375 42.875 44.328125 \r\nQ 39.84375 48.1875 33.796875 48.1875 \r\nQ 26.515625 48.1875 22.3125 43.546875 \r\nQ 18.109375 38.921875 18.109375 30.90625 \r\nL 18.109375 0 \r\nL 9.078125 0 \r\nL 9.078125 54.6875 \r\nL 18.109375 54.6875 \r\nL 18.109375 46.1875 \r\nQ 21.34375 51.125 25.703125 53.5625 \r\nQ 30.078125 56 35.796875 56 \r\nQ 45.21875 56 50.046875 50.171875 \r\nQ 54.890625 44.34375 54.890625 33.015625 \r\nz\r\n\" id=\"DejaVuSans-110\"/>\r\n       <path d=\"M 9.421875 54.6875 \r\nL 18.40625 54.6875 \r\nL 18.40625 0 \r\nL 9.421875 0 \r\nz\r\nM 9.421875 75.984375 \r\nL 18.40625 75.984375 \r\nL 18.40625 64.59375 \r\nL 9.421875 64.59375 \r\nz\r\n\" id=\"DejaVuSans-105\"/>\r\n       <path d=\"M 45.40625 27.984375 \r\nQ 45.40625 37.75 41.375 43.109375 \r\nQ 37.359375 48.484375 30.078125 48.484375 \r\nQ 22.859375 48.484375 18.828125 43.109375 \r\nQ 14.796875 37.75 14.796875 27.984375 \r\nQ 14.796875 18.265625 18.828125 12.890625 \r\nQ 22.859375 7.515625 30.078125 7.515625 \r\nQ 37.359375 7.515625 41.375 12.890625 \r\nQ 45.40625 18.265625 45.40625 27.984375 \r\nz\r\nM 54.390625 6.78125 \r\nQ 54.390625 -7.171875 48.1875 -13.984375 \r\nQ 42 -20.796875 29.203125 -20.796875 \r\nQ 24.46875 -20.796875 20.265625 -20.09375 \r\nQ 16.0625 -19.390625 12.109375 -17.921875 \r\nL 12.109375 -9.1875 \r\nQ 16.0625 -11.328125 19.921875 -12.34375 \r\nQ 23.78125 -13.375 27.78125 -13.375 \r\nQ 36.625 -13.375 41.015625 -8.765625 \r\nQ 45.40625 -4.15625 45.40625 5.171875 \r\nL 45.40625 9.625 \r\nQ 42.625 4.78125 38.28125 2.390625 \r\nQ 33.9375 0 27.875 0 \r\nQ 17.828125 0 11.671875 7.65625 \r\nQ 5.515625 15.328125 5.515625 27.984375 \r\nQ 5.515625 40.671875 11.671875 48.328125 \r\nQ 17.828125 56 27.875 56 \r\nQ 33.9375 56 38.28125 53.609375 \r\nQ 42.625 51.21875 45.40625 46.390625 \r\nL 45.40625 54.6875 \r\nL 54.390625 54.6875 \r\nz\r\n\" id=\"DejaVuSans-103\"/>\r\n       <path id=\"DejaVuSans-32\"/>\r\n       <path d=\"M 18.3125 70.21875 \r\nL 18.3125 54.6875 \r\nL 36.8125 54.6875 \r\nL 36.8125 47.703125 \r\nL 18.3125 47.703125 \r\nL 18.3125 18.015625 \r\nQ 18.3125 11.328125 20.140625 9.421875 \r\nQ 21.96875 7.515625 27.59375 7.515625 \r\nL 36.8125 7.515625 \r\nL 36.8125 0 \r\nL 27.59375 0 \r\nQ 17.1875 0 13.234375 3.875 \r\nQ 9.28125 7.765625 9.28125 18.015625 \r\nL 9.28125 47.703125 \r\nL 2.6875 47.703125 \r\nL 2.6875 54.6875 \r\nL 9.28125 54.6875 \r\nL 9.28125 70.21875 \r\nz\r\n\" id=\"DejaVuSans-116\"/>\r\n       <path d=\"M 31 75.875 \r\nQ 24.46875 64.65625 21.28125 53.65625 \r\nQ 18.109375 42.671875 18.109375 31.390625 \r\nQ 18.109375 20.125 21.3125 9.0625 \r\nQ 24.515625 -2 31 -13.1875 \r\nL 23.1875 -13.1875 \r\nQ 15.875 -1.703125 12.234375 9.375 \r\nQ 8.59375 20.453125 8.59375 31.390625 \r\nQ 8.59375 42.28125 12.203125 53.3125 \r\nQ 15.828125 64.359375 23.1875 75.875 \r\nz\r\n\" id=\"DejaVuSans-40\"/>\r\n       <path d=\"M 30.609375 48.390625 \r\nQ 23.390625 48.390625 19.1875 42.75 \r\nQ 14.984375 37.109375 14.984375 27.296875 \r\nQ 14.984375 17.484375 19.15625 11.84375 \r\nQ 23.34375 6.203125 30.609375 6.203125 \r\nQ 37.796875 6.203125 41.984375 11.859375 \r\nQ 46.1875 17.53125 46.1875 27.296875 \r\nQ 46.1875 37.015625 41.984375 42.703125 \r\nQ 37.796875 48.390625 30.609375 48.390625 \r\nz\r\nM 30.609375 56 \r\nQ 42.328125 56 49.015625 48.375 \r\nQ 55.71875 40.765625 55.71875 27.296875 \r\nQ 55.71875 13.875 49.015625 6.21875 \r\nQ 42.328125 -1.421875 30.609375 -1.421875 \r\nQ 18.84375 -1.421875 12.171875 6.21875 \r\nQ 5.515625 13.875 5.515625 27.296875 \r\nQ 5.515625 40.765625 12.171875 48.375 \r\nQ 18.84375 56 30.609375 56 \r\nz\r\n\" id=\"DejaVuSans-111\"/>\r\n       <path d=\"M 44.28125 53.078125 \r\nL 44.28125 44.578125 \r\nQ 40.484375 46.53125 36.375 47.5 \r\nQ 32.28125 48.484375 27.875 48.484375 \r\nQ 21.1875 48.484375 17.84375 46.4375 \r\nQ 14.5 44.390625 14.5 40.28125 \r\nQ 14.5 37.15625 16.890625 35.375 \r\nQ 19.28125 33.59375 26.515625 31.984375 \r\nL 29.59375 31.296875 \r\nQ 39.15625 29.25 43.1875 25.515625 \r\nQ 47.21875 21.78125 47.21875 15.09375 \r\nQ 47.21875 7.46875 41.1875 3.015625 \r\nQ 35.15625 -1.421875 24.609375 -1.421875 \r\nQ 20.21875 -1.421875 15.453125 -0.5625 \r\nQ 10.6875 0.296875 5.421875 2 \r\nL 5.421875 11.28125 \r\nQ 10.40625 8.6875 15.234375 7.390625 \r\nQ 20.0625 6.109375 24.8125 6.109375 \r\nQ 31.15625 6.109375 34.5625 8.28125 \r\nQ 37.984375 10.453125 37.984375 14.40625 \r\nQ 37.984375 18.0625 35.515625 20.015625 \r\nQ 33.0625 21.96875 24.703125 23.78125 \r\nL 21.578125 24.515625 \r\nQ 13.234375 26.265625 9.515625 29.90625 \r\nQ 5.8125 33.546875 5.8125 39.890625 \r\nQ 5.8125 47.609375 11.28125 51.796875 \r\nQ 16.75 56 26.8125 56 \r\nQ 31.78125 56 36.171875 55.265625 \r\nQ 40.578125 54.546875 44.28125 53.078125 \r\nz\r\n\" id=\"DejaVuSans-115\"/>\r\n       <path d=\"M 48.78125 52.59375 \r\nL 48.78125 44.1875 \r\nQ 44.96875 46.296875 41.140625 47.34375 \r\nQ 37.3125 48.390625 33.40625 48.390625 \r\nQ 24.65625 48.390625 19.8125 42.84375 \r\nQ 14.984375 37.3125 14.984375 27.296875 \r\nQ 14.984375 17.28125 19.8125 11.734375 \r\nQ 24.65625 6.203125 33.40625 6.203125 \r\nQ 37.3125 6.203125 41.140625 7.25 \r\nQ 44.96875 8.296875 48.78125 10.40625 \r\nL 48.78125 2.09375 \r\nQ 45.015625 0.34375 40.984375 -0.53125 \r\nQ 36.96875 -1.421875 32.421875 -1.421875 \r\nQ 20.0625 -1.421875 12.78125 6.34375 \r\nQ 5.515625 14.109375 5.515625 27.296875 \r\nQ 5.515625 40.671875 12.859375 48.328125 \r\nQ 20.21875 56 33.015625 56 \r\nQ 37.15625 56 41.109375 55.140625 \r\nQ 45.0625 54.296875 48.78125 52.59375 \r\nz\r\n\" id=\"DejaVuSans-99\"/>\r\n       <path d=\"M 8.015625 75.875 \r\nL 15.828125 75.875 \r\nQ 23.140625 64.359375 26.78125 53.3125 \r\nQ 30.421875 42.28125 30.421875 31.390625 \r\nQ 30.421875 20.453125 26.78125 9.375 \r\nQ 23.140625 -1.703125 15.828125 -13.1875 \r\nL 8.015625 -13.1875 \r\nQ 14.5 -2 17.703125 9.0625 \r\nQ 20.90625 20.125 20.90625 31.390625 \r\nQ 20.90625 42.671875 17.703125 53.65625 \r\nQ 14.5 64.65625 8.015625 75.875 \r\nz\r\n\" id=\"DejaVuSans-41\"/>\r\n      </defs>\r\n      <use xlink:href=\"#DejaVuSans-108\"/>\r\n      <use x=\"27.783203\" xlink:href=\"#DejaVuSans-101\"/>\r\n      <use x=\"89.306641\" xlink:href=\"#DejaVuSans-97\"/>\r\n      <use x=\"150.585938\" xlink:href=\"#DejaVuSans-114\"/>\r\n      <use x=\"189.949219\" xlink:href=\"#DejaVuSans-110\"/>\r\n      <use x=\"253.328125\" xlink:href=\"#DejaVuSans-105\"/>\r\n      <use x=\"281.111328\" xlink:href=\"#DejaVuSans-110\"/>\r\n      <use x=\"344.490234\" xlink:href=\"#DejaVuSans-103\"/>\r\n      <use x=\"407.966797\" xlink:href=\"#DejaVuSans-32\"/>\r\n      <use x=\"439.753906\" xlink:href=\"#DejaVuSans-114\"/>\r\n      <use x=\"480.867188\" xlink:href=\"#DejaVuSans-97\"/>\r\n      <use x=\"542.146484\" xlink:href=\"#DejaVuSans-116\"/>\r\n      <use x=\"581.355469\" xlink:href=\"#DejaVuSans-101\"/>\r\n      <use x=\"642.878906\" xlink:href=\"#DejaVuSans-32\"/>\r\n      <use x=\"674.666016\" xlink:href=\"#DejaVuSans-40\"/>\r\n      <use x=\"713.679688\" xlink:href=\"#DejaVuSans-108\"/>\r\n      <use x=\"741.462891\" xlink:href=\"#DejaVuSans-111\"/>\r\n      <use x=\"802.644531\" xlink:href=\"#DejaVuSans-103\"/>\r\n      <use x=\"866.121094\" xlink:href=\"#DejaVuSans-32\"/>\r\n      <use x=\"897.908203\" xlink:href=\"#DejaVuSans-115\"/>\r\n      <use x=\"950.007812\" xlink:href=\"#DejaVuSans-99\"/>\r\n      <use x=\"1004.988281\" xlink:href=\"#DejaVuSans-97\"/>\r\n      <use x=\"1066.267578\" xlink:href=\"#DejaVuSans-108\"/>\r\n      <use x=\"1094.050781\" xlink:href=\"#DejaVuSans-101\"/>\r\n      <use x=\"1155.574219\" xlink:href=\"#DejaVuSans-41\"/>\r\n     </g>\r\n    </g>\r\n   </g>\r\n   <g id=\"matplotlib.axis_2\">\r\n    <g id=\"ytick_1\">\r\n     <g id=\"line2d_6\">\r\n      <defs>\r\n       <path d=\"M 0 0 \r\nL -3.5 0 \r\n\" id=\"m1574af4067\" style=\"stroke:#000000;stroke-width:0.8;\"/>\r\n      </defs>\r\n      <g>\r\n       <use style=\"stroke:#000000;stroke-width:0.8;\" x=\"43.78125\" xlink:href=\"#m1574af4067\" y=\"209.703363\"/>\r\n      </g>\r\n     </g>\r\n     <g id=\"text_7\">\r\n      <!-- 0.2 -->\r\n      <g transform=\"translate(20.878125 213.502582)scale(0.1 -0.1)\">\r\n       <defs>\r\n        <path d=\"M 10.6875 12.40625 \r\nL 21 12.40625 \r\nL 21 0 \r\nL 10.6875 0 \r\nz\r\n\" id=\"DejaVuSans-46\"/>\r\n        <path d=\"M 19.1875 8.296875 \r\nL 53.609375 8.296875 \r\nL 53.609375 0 \r\nL 7.328125 0 \r\nL 7.328125 8.296875 \r\nQ 12.9375 14.109375 22.625 23.890625 \r\nQ 32.328125 33.6875 34.8125 36.53125 \r\nQ 39.546875 41.84375 41.421875 45.53125 \r\nQ 43.3125 49.21875 43.3125 52.78125 \r\nQ 43.3125 58.59375 39.234375 62.25 \r\nQ 35.15625 65.921875 28.609375 65.921875 \r\nQ 23.96875 65.921875 18.8125 64.3125 \r\nQ 13.671875 62.703125 7.8125 59.421875 \r\nL 7.8125 69.390625 \r\nQ 13.765625 71.78125 18.9375 73 \r\nQ 24.125 74.21875 28.421875 74.21875 \r\nQ 39.75 74.21875 46.484375 68.546875 \r\nQ 53.21875 62.890625 53.21875 53.421875 \r\nQ 53.21875 48.921875 51.53125 44.890625 \r\nQ 49.859375 40.875 45.40625 35.40625 \r\nQ 44.1875 33.984375 37.640625 27.21875 \r\nQ 31.109375 20.453125 19.1875 8.296875 \r\nz\r\n\" id=\"DejaVuSans-50\"/>\r\n       </defs>\r\n       <use xlink:href=\"#DejaVuSans-48\"/>\r\n       <use x=\"63.623047\" xlink:href=\"#DejaVuSans-46\"/>\r\n       <use x=\"95.410156\" xlink:href=\"#DejaVuSans-50\"/>\r\n      </g>\r\n     </g>\r\n    </g>\r\n    <g id=\"ytick_2\">\r\n     <g id=\"line2d_7\">\r\n      <g>\r\n       <use style=\"stroke:#000000;stroke-width:0.8;\" x=\"43.78125\" xlink:href=\"#m1574af4067\" y=\"163.10039\"/>\r\n      </g>\r\n     </g>\r\n     <g id=\"text_8\">\r\n      <!-- 0.4 -->\r\n      <g transform=\"translate(20.878125 166.899609)scale(0.1 -0.1)\">\r\n       <defs>\r\n        <path d=\"M 37.796875 64.3125 \r\nL 12.890625 25.390625 \r\nL 37.796875 25.390625 \r\nz\r\nM 35.203125 72.90625 \r\nL 47.609375 72.90625 \r\nL 47.609375 25.390625 \r\nL 58.015625 25.390625 \r\nL 58.015625 17.1875 \r\nL 47.609375 17.1875 \r\nL 47.609375 0 \r\nL 37.796875 0 \r\nL 37.796875 17.1875 \r\nL 4.890625 17.1875 \r\nL 4.890625 26.703125 \r\nz\r\n\" id=\"DejaVuSans-52\"/>\r\n       </defs>\r\n       <use xlink:href=\"#DejaVuSans-48\"/>\r\n       <use x=\"63.623047\" xlink:href=\"#DejaVuSans-46\"/>\r\n       <use x=\"95.410156\" xlink:href=\"#DejaVuSans-52\"/>\r\n      </g>\r\n     </g>\r\n    </g>\r\n    <g id=\"ytick_3\">\r\n     <g id=\"line2d_8\">\r\n      <g>\r\n       <use style=\"stroke:#000000;stroke-width:0.8;\" x=\"43.78125\" xlink:href=\"#m1574af4067\" y=\"116.497417\"/>\r\n      </g>\r\n     </g>\r\n     <g id=\"text_9\">\r\n      <!-- 0.6 -->\r\n      <g transform=\"translate(20.878125 120.296636)scale(0.1 -0.1)\">\r\n       <defs>\r\n        <path d=\"M 33.015625 40.375 \r\nQ 26.375 40.375 22.484375 35.828125 \r\nQ 18.609375 31.296875 18.609375 23.390625 \r\nQ 18.609375 15.53125 22.484375 10.953125 \r\nQ 26.375 6.390625 33.015625 6.390625 \r\nQ 39.65625 6.390625 43.53125 10.953125 \r\nQ 47.40625 15.53125 47.40625 23.390625 \r\nQ 47.40625 31.296875 43.53125 35.828125 \r\nQ 39.65625 40.375 33.015625 40.375 \r\nz\r\nM 52.59375 71.296875 \r\nL 52.59375 62.3125 \r\nQ 48.875 64.0625 45.09375 64.984375 \r\nQ 41.3125 65.921875 37.59375 65.921875 \r\nQ 27.828125 65.921875 22.671875 59.328125 \r\nQ 17.53125 52.734375 16.796875 39.40625 \r\nQ 19.671875 43.65625 24.015625 45.921875 \r\nQ 28.375 48.1875 33.59375 48.1875 \r\nQ 44.578125 48.1875 50.953125 41.515625 \r\nQ 57.328125 34.859375 57.328125 23.390625 \r\nQ 57.328125 12.15625 50.6875 5.359375 \r\nQ 44.046875 -1.421875 33.015625 -1.421875 \r\nQ 20.359375 -1.421875 13.671875 8.265625 \r\nQ 6.984375 17.96875 6.984375 36.375 \r\nQ 6.984375 53.65625 15.1875 63.9375 \r\nQ 23.390625 74.21875 37.203125 74.21875 \r\nQ 40.921875 74.21875 44.703125 73.484375 \r\nQ 48.484375 72.75 52.59375 71.296875 \r\nz\r\n\" id=\"DejaVuSans-54\"/>\r\n       </defs>\r\n       <use xlink:href=\"#DejaVuSans-48\"/>\r\n       <use x=\"63.623047\" xlink:href=\"#DejaVuSans-46\"/>\r\n       <use x=\"95.410156\" xlink:href=\"#DejaVuSans-54\"/>\r\n      </g>\r\n     </g>\r\n    </g>\r\n    <g id=\"ytick_4\">\r\n     <g id=\"line2d_9\">\r\n      <g>\r\n       <use style=\"stroke:#000000;stroke-width:0.8;\" x=\"43.78125\" xlink:href=\"#m1574af4067\" y=\"69.894444\"/>\r\n      </g>\r\n     </g>\r\n     <g id=\"text_10\">\r\n      <!-- 0.8 -->\r\n      <g transform=\"translate(20.878125 73.693663)scale(0.1 -0.1)\">\r\n       <defs>\r\n        <path d=\"M 31.78125 34.625 \r\nQ 24.75 34.625 20.71875 30.859375 \r\nQ 16.703125 27.09375 16.703125 20.515625 \r\nQ 16.703125 13.921875 20.71875 10.15625 \r\nQ 24.75 6.390625 31.78125 6.390625 \r\nQ 38.8125 6.390625 42.859375 10.171875 \r\nQ 46.921875 13.96875 46.921875 20.515625 \r\nQ 46.921875 27.09375 42.890625 30.859375 \r\nQ 38.875 34.625 31.78125 34.625 \r\nz\r\nM 21.921875 38.8125 \r\nQ 15.578125 40.375 12.03125 44.71875 \r\nQ 8.5 49.078125 8.5 55.328125 \r\nQ 8.5 64.0625 14.71875 69.140625 \r\nQ 20.953125 74.21875 31.78125 74.21875 \r\nQ 42.671875 74.21875 48.875 69.140625 \r\nQ 55.078125 64.0625 55.078125 55.328125 \r\nQ 55.078125 49.078125 51.53125 44.71875 \r\nQ 48 40.375 41.703125 38.8125 \r\nQ 48.828125 37.15625 52.796875 32.3125 \r\nQ 56.78125 27.484375 56.78125 20.515625 \r\nQ 56.78125 9.90625 50.3125 4.234375 \r\nQ 43.84375 -1.421875 31.78125 -1.421875 \r\nQ 19.734375 -1.421875 13.25 4.234375 \r\nQ 6.78125 9.90625 6.78125 20.515625 \r\nQ 6.78125 27.484375 10.78125 32.3125 \r\nQ 14.796875 37.15625 21.921875 38.8125 \r\nz\r\nM 18.3125 54.390625 \r\nQ 18.3125 48.734375 21.84375 45.5625 \r\nQ 25.390625 42.390625 31.78125 42.390625 \r\nQ 38.140625 42.390625 41.71875 45.5625 \r\nQ 45.3125 48.734375 45.3125 54.390625 \r\nQ 45.3125 60.0625 41.71875 63.234375 \r\nQ 38.140625 66.40625 31.78125 66.40625 \r\nQ 25.390625 66.40625 21.84375 63.234375 \r\nQ 18.3125 60.0625 18.3125 54.390625 \r\nz\r\n\" id=\"DejaVuSans-56\"/>\r\n       </defs>\r\n       <use xlink:href=\"#DejaVuSans-48\"/>\r\n       <use x=\"63.623047\" xlink:href=\"#DejaVuSans-46\"/>\r\n       <use x=\"95.410156\" xlink:href=\"#DejaVuSans-56\"/>\r\n      </g>\r\n     </g>\r\n    </g>\r\n    <g id=\"ytick_5\">\r\n     <g id=\"line2d_10\">\r\n      <g>\r\n       <use style=\"stroke:#000000;stroke-width:0.8;\" x=\"43.78125\" xlink:href=\"#m1574af4067\" y=\"23.291471\"/>\r\n      </g>\r\n     </g>\r\n     <g id=\"text_11\">\r\n      <!-- 1.0 -->\r\n      <g transform=\"translate(20.878125 27.09069)scale(0.1 -0.1)\">\r\n       <use xlink:href=\"#DejaVuSans-49\"/>\r\n       <use x=\"63.623047\" xlink:href=\"#DejaVuSans-46\"/>\r\n       <use x=\"95.410156\" xlink:href=\"#DejaVuSans-48\"/>\r\n      </g>\r\n     </g>\r\n    </g>\r\n    <g id=\"text_12\">\r\n     <!-- loss -->\r\n     <g transform=\"translate(14.798438 125.577812)rotate(-90)scale(0.1 -0.1)\">\r\n      <use xlink:href=\"#DejaVuSans-108\"/>\r\n      <use x=\"27.783203\" xlink:href=\"#DejaVuSans-111\"/>\r\n      <use x=\"88.964844\" xlink:href=\"#DejaVuSans-115\"/>\r\n      <use x=\"141.064453\" xlink:href=\"#DejaVuSans-115\"/>\r\n     </g>\r\n    </g>\r\n   </g>\r\n   <g id=\"line2d_11\">\r\n    <path clip-path=\"url(#pe36db277e8)\" d=\"M 58.999432 27.170924 \r\nL 59.071233 27.51824 \r\nL 59.143034 27.406241 \r\nL 59.214835 27.05548 \r\nL 59.286635 27.191479 \r\nL 59.358437 27.392408 \r\nL 59.430237 27.356894 \r\nL 59.502039 27.038578 \r\nL 59.932843 28.225081 \r\nL 60.004644 28.111388 \r\nL 60.220047 29.432724 \r\nL 60.579053 30.630546 \r\nL 60.650853 30.093579 \r\nL 60.794455 31.228847 \r\nL 60.938056 30.673782 \r\nL 61.081657 31.121112 \r\nL 61.153458 30.38891 \r\nL 61.225258 30.860017 \r\nL 61.297059 30.629894 \r\nL 61.36886 30.516214 \r\nL 61.512461 30.837697 \r\nL 61.656063 30.014802 \r\nL 62.086867 31.336054 \r\nL 62.158668 31.139292 \r\nL 62.30227 30.412451 \r\nL 62.374071 30.617991 \r\nL 62.445872 30.378743 \r\nL 62.517672 30.427632 \r\nL 62.589473 30.474659 \r\nL 62.733074 29.876789 \r\nL 62.948477 30.891572 \r\nL 63.163878 30.153898 \r\nL 63.307481 30.302355 \r\nL 63.379282 30.218286 \r\nL 63.451082 30.053954 \r\nL 63.522883 30.138551 \r\nL 63.666486 30.77492 \r\nL 63.738286 30.502061 \r\nL 63.953689 30.886253 \r\nL 64.384494 31.596691 \r\nL 64.456295 31.380512 \r\nL 64.743498 31.853841 \r\nL 64.887101 31.817425 \r\nL 65.030703 32.145714 \r\nL 65.102503 32.089367 \r\nL 65.174304 31.916577 \r\nL 65.246104 31.968493 \r\nL 65.389705 31.967604 \r\nL 65.461507 32.00909 \r\nL 65.676909 31.318735 \r\nL 65.74871 31.552344 \r\nL 65.82051 31.493039 \r\nL 65.892311 31.14957 \r\nL 65.964111 31.236333 \r\nL 66.251314 30.730504 \r\nL 66.610319 30.362299 \r\nL 66.753921 30.342216 \r\nL 66.897522 30.292883 \r\nL 67.041124 30.314966 \r\nL 67.184726 30.56088 \r\nL 67.256526 30.2248 \r\nL 67.328328 30.25448 \r\nL 67.400128 30.447604 \r\nL 67.54373 30.129023 \r\nL 67.615531 30.187828 \r\nL 67.830933 30.021066 \r\nL 68.118136 29.906858 \r\nL 68.333538 29.482043 \r\nL 68.477139 29.847442 \r\nL 68.62074 29.707846 \r\nL 68.836143 29.731513 \r\nL 68.979745 29.542945 \r\nL 69.051546 29.636541 \r\nL 69.123347 29.509959 \r\nL 69.195148 29.565264 \r\nL 69.482349 29.905511 \r\nL 69.625951 29.625625 \r\nL 69.769553 29.679485 \r\nL 69.841354 29.749054 \r\nL 69.913155 29.498181 \r\nL 69.984956 29.527695 \r\nL 70.128557 29.603361 \r\nL 70.272158 29.154018 \r\nL 70.343959 29.185101 \r\nL 70.487561 29.117698 \r\nL 70.631163 29.358183 \r\nL 70.774765 29.378724 \r\nL 70.990168 29.237197 \r\nL 71.20557 29.336683 \r\nL 71.420972 29.516987 \r\nL 71.564573 29.391627 \r\nL 71.779976 29.479445 \r\nL 71.851777 29.601472 \r\nL 71.923579 29.526223 \r\nL 72.06718 29.427918 \r\nL 72.282583 29.509084 \r\nL 72.426184 29.505709 \r\nL 73.00059 29.509542 \r\nL 73.144192 29.516626 \r\nL 73.359595 29.708554 \r\nL 73.790401 29.689416 \r\nL 73.934003 29.948955 \r\nL 74.149406 29.823859 \r\nL 74.221207 29.964483 \r\nL 74.293008 29.705513 \r\nL 74.364808 29.802873 \r\nL 74.436609 29.890803 \r\nL 74.50841 29.805623 \r\nL 74.580211 29.717846 \r\nL 74.723812 29.836553 \r\nL 74.867414 29.760707 \r\nL 75.298219 29.919983 \r\nL 75.44182 30.218647 \r\nL 75.585422 30.243633 \r\nL 75.657222 30.420423 \r\nL 75.729023 30.382243 \r\nL 75.944426 30.260452 \r\nL 76.088028 30.262286 \r\nL 76.23163 30.197397 \r\nL 76.734236 30.213036 \r\nL 76.806036 30.303438 \r\nL 77.165041 30.01476 \r\nL 77.739448 30.110718 \r\nL 77.811249 30.219397 \r\nL 77.883049 30.158245 \r\nL 78.170253 29.98976 \r\nL 78.313854 30.055454 \r\nL 78.529256 29.834734 \r\nL 78.601057 29.950552 \r\nL 78.744659 29.776748 \r\nL 78.888261 29.749193 \r\nL 79.175465 29.47232 \r\nL 79.60627 29.286044 \r\nL 79.678071 29.208253 \r\nL 79.821673 29.356071 \r\nL 80.037074 29.306197 \r\nL 80.252478 29.377905 \r\nL 80.39608 29.294739 \r\nL 80.826885 29.39871 \r\nL 81.042288 29.384627 \r\nL 81.401291 29.412182 \r\nL 81.616694 29.375307 \r\nL 81.760294 29.416501 \r\nL 81.975698 29.273475 \r\nL 82.2629 29.16042 \r\nL 82.406502 29.017408 \r\nL 82.550104 28.988214 \r\nL 82.765505 28.857909 \r\nL 82.980907 28.911631 \r\nL 83.26811 29.008144 \r\nL 83.555312 28.913686 \r\nL 83.842516 28.977825 \r\nL 83.914317 28.879978 \r\nL 83.986117 28.939894 \r\nL 84.416923 28.783743 \r\nL 84.560524 28.858492 \r\nL 84.991329 28.900061 \r\nL 85.350332 28.908089 \r\nL 85.709336 29.056088 \r\nL 86.211942 29.033338 \r\nL 86.499145 29.218934 \r\nL 86.714547 29.166101 \r\nL 88.294165 28.926228 \r\nL 88.581369 29.125837 \r\nL 88.940374 29.115768 \r\nL 89.227578 29.064991 \r\nL 89.514782 29.125948 \r\nL 89.873786 29.131462 \r\nL 90.017387 29.004227 \r\nL 90.30459 29.061255 \r\nL 90.519991 28.928867 \r\nL 90.735394 28.885103 \r\nL 90.878996 28.868215 \r\nL 92.530416 28.678605 \r\nL 92.745819 28.735424 \r\nL 92.88942 28.787882 \r\nL 93.033022 28.809979 \r\nL 93.104823 28.724077 \r\nL 93.320226 28.842201 \r\nL 93.392027 28.896923 \r\nL 93.535629 28.80591 \r\nL 93.966432 28.825868 \r\nL 95.258847 28.825784 \r\nL 95.689652 28.874131 \r\nL 95.761453 28.838479 \r\nL 95.833254 36.746979 \r\nL 95.905055 35.797807 \r\nL 95.976855 24.533794 \r\nL 96.048656 25.327718 \r\nL 96.40766 17.083636 \r\nL 96.551261 18.880676 \r\nL 96.623061 18.581401 \r\nL 96.694863 19.076258 \r\nL 96.766663 18.62454 \r\nL 96.838464 17.151664 \r\nL 96.910265 17.545966 \r\nL 97.053867 20.85802 \r\nL 97.125668 19.489727 \r\nL 97.484672 23.130862 \r\nL 97.556473 22.54345 \r\nL 97.843676 25.469522 \r\nL 97.915477 24.729848 \r\nL 98.130879 26.338181 \r\nL 98.202681 25.695187 \r\nL 98.274482 25.953337 \r\nL 98.418084 25.704089 \r\nL 98.489885 26.278223 \r\nL 98.561687 26.004267 \r\nL 98.705288 25.299718 \r\nL 98.777089 25.545591 \r\nL 98.84889 25.608826 \r\nL 98.920692 25.44073 \r\nL 98.992492 25.830671 \r\nL 99.064293 25.777978 \r\nL 99.207896 24.97186 \r\nL 99.351497 25.4013 \r\nL 99.495099 24.852319 \r\nL 99.925905 26.443888 \r\nL 100.284908 24.736195 \r\nL 100.42851 24.990568 \r\nL 100.787515 24.033007 \r\nL 101.074718 25.564438 \r\nL 101.146518 25.392953 \r\nL 101.21832 25.445439 \r\nL 101.29012 25.427467 \r\nL 101.505523 25.923935 \r\nL 101.577323 25.810977 \r\nL 101.720924 26.140044 \r\nL 101.792724 26.220168 \r\nL 101.864525 25.845921 \r\nL 102.079928 26.248348 \r\nL 102.223529 26.33532 \r\nL 102.36713 25.801727 \r\nL 102.510731 26.391583 \r\nL 102.582532 26.156835 \r\nL 102.654333 26.184682 \r\nL 102.797935 26.494957 \r\nL 102.869735 26.107266 \r\nL 102.941536 26.26264 \r\nL 103.013337 26.15971 \r\nL 103.085137 26.234293 \r\nL 103.30054 26.561221 \r\nL 103.37234 26.064753 \r\nL 103.444141 26.269473 \r\nL 103.515942 26.370083 \r\nL 103.731344 25.988851 \r\nL 103.874947 26.187016 \r\nL 104.018548 25.978365 \r\nL 104.090348 26.139155 \r\nL 104.162149 25.845907 \r\nL 104.233949 25.928379 \r\nL 104.377551 25.936587 \r\nL 104.592953 26.246821 \r\nL 104.736555 26.242765 \r\nL 104.880157 26.501207 \r\nL 105.095559 26.758219 \r\nL 105.23916 27.0193 \r\nL 105.310962 26.832135 \r\nL 105.526364 27.049453 \r\nL 105.669965 27.078286 \r\nL 106.244371 27.801779 \r\nL 106.387973 28.161026 \r\nL 106.459773 28.094221 \r\nL 106.603375 27.857001 \r\nL 106.746977 28.283053 \r\nL 106.818778 28.187498 \r\nL 107.03418 28.416052 \r\nL 107.393184 28.334983 \r\nL 107.536786 28.049152 \r\nL 107.680388 28.20947 \r\nL 107.823989 28.218026 \r\nL 108.039392 27.921806 \r\nL 108.254794 28.280039 \r\nL 108.398395 27.942542 \r\nL 108.470196 28.006555 \r\nL 108.541997 28.077583 \r\nL 108.829201 27.739683 \r\nL 108.901002 27.695516 \r\nL 109.044604 27.934431 \r\nL 109.116405 27.875084 \r\nL 109.188206 27.865473 \r\nL 109.403609 28.152804 \r\nL 109.619012 28.118735 \r\nL 109.834416 27.926376 \r\nL 110.04982 27.82646 \r\nL 110.265222 27.912737 \r\nL 110.480623 27.716405 \r\nL 110.552424 27.799446 \r\nL 110.767826 27.801668 \r\nL 110.911428 27.753155 \r\nL 110.98323 27.70385 \r\nL 111.270435 28.024111 \r\nL 111.557639 27.850709 \r\nL 111.773041 28.025514 \r\nL 111.844842 28.025208 \r\nL 111.916643 28.158985 \r\nL 112.132045 27.887487 \r\nL 112.419247 28.364344 \r\nL 112.562848 28.221595 \r\nL 112.634648 28.308303 \r\nL 112.706449 28.240539 \r\nL 112.921851 28.313914 \r\nL 112.993652 28.354122 \r\nL 113.137255 28.091194 \r\nL 113.280857 28.157221 \r\nL 113.352658 28.100693 \r\nL 113.49626 28.166457 \r\nL 113.568061 28.04168 \r\nL 113.639862 28.114166 \r\nL 113.783464 28.315914 \r\nL 113.855265 28.219276 \r\nL 114.214268 28.378872 \r\nL 114.716874 28.027777 \r\nL 115.004078 28.219692 \r\nL 115.147679 28.13536 \r\nL 115.434882 28.157193 \r\nL 115.937488 28.14961 \r\nL 116.08109 28.204484 \r\nL 116.296493 28.039791 \r\nL 116.870899 28.301914 \r\nL 117.0145 28.198165 \r\nL 117.517104 28.166512 \r\nL 117.732508 28.154915 \r\nL 117.947912 28.307039 \r\nL 118.163313 28.188109 \r\nL 118.306915 28.192679 \r\nL 118.522318 28.074958 \r\nL 118.953123 28.205915 \r\nL 120.245536 28.015153 \r\nL 120.819942 27.987389 \r\nL 120.963544 27.961806 \r\nL 121.322548 27.958292 \r\nL 121.825153 27.822932 \r\nL 121.968754 27.812974 \r\nL 122.686763 27.574573 \r\nL 122.973965 27.65417 \r\nL 123.189368 27.730349 \r\nL 123.476571 27.688197 \r\nL 123.691974 27.550226 \r\nL 123.907376 27.631239 \r\nL 125.19979 27.385547 \r\nL 126.492205 27.604184 \r\nL 126.635806 27.597559 \r\nL 126.779408 27.594212 \r\nL 127.856417 27.839557 \r\nL 128.287222 27.919431 \r\nL 128.646226 27.862446 \r\nL 129.220632 27.84371 \r\nL 129.723236 27.687308 \r\nL 130.082241 27.725558 \r\nL 130.225842 27.76396 \r\nL 131.087451 27.751433 \r\nL 131.302854 27.785766 \r\nL 133.313279 27.506212 \r\nL 133.528682 27.380866 \r\nL 133.744084 27.431533 \r\nL 134.031286 27.350811 \r\nL 134.103088 23.434526 \r\nL 134.390291 38.099162 \r\nL 134.749295 26.217404 \r\nL 134.821096 25.799575 \r\nL 134.892897 27.849085 \r\nL 134.964697 27.757085 \r\nL 135.036498 28.612106 \r\nL 135.323701 24.245269 \r\nL 135.395501 23.217916 \r\nL 135.754505 27.161146 \r\nL 135.826306 26.996203 \r\nL 135.898107 26.326542 \r\nL 135.969908 27.138355 \r\nL 136.041709 25.903601 \r\nL 136.113511 26.901023 \r\nL 136.185312 26.528638 \r\nL 136.257112 26.03635 \r\nL 136.328913 26.723011 \r\nL 136.472514 25.899365 \r\nL 136.616116 26.526929 \r\nL 136.831517 24.944318 \r\nL 137.262321 26.75483 \r\nL 137.334121 26.258154 \r\nL 137.405922 26.048642 \r\nL 137.477722 26.282959 \r\nL 137.549523 25.404286 \r\nL 137.693125 26.487457 \r\nL 137.764927 26.293154 \r\nL 137.836727 25.783644 \r\nL 137.908527 26.146947 \r\nL 138.123929 25.116455 \r\nL 138.267531 25.470591 \r\nL 138.339333 25.573007 \r\nL 138.411134 25.213288 \r\nL 138.626536 25.899407 \r\nL 138.698338 25.705131 \r\nL 138.841939 26.264445 \r\nL 138.913739 26.237335 \r\nL 139.129142 26.420527 \r\nL 139.344545 25.268843 \r\nL 139.416346 24.864458 \r\nL 139.559947 25.17308 \r\nL 139.631748 25.055762 \r\nL 139.703549 25.107608 \r\nL 139.775349 25.33887 \r\nL 139.84715 25.184441 \r\nL 139.91895 25.30644 \r\nL 139.990751 24.914874 \r\nL 140.062552 25.010415 \r\nL 140.134353 25.00597 \r\nL 140.206154 24.820694 \r\nL 140.277954 24.887777 \r\nL 140.493356 25.426564 \r\nL 140.565157 25.409592 \r\nL 140.636958 25.056262 \r\nL 140.780559 25.586257 \r\nL 140.852359 25.437453 \r\nL 140.92416 25.744492 \r\nL 140.995961 25.631715 \r\nL 141.067761 25.780755 \r\nL 141.139562 25.677145 \r\nL 141.283165 25.513744 \r\nL 141.354966 25.276537 \r\nL 141.426766 25.301704 \r\nL 141.498567 25.595062 \r\nL 141.570367 25.386634 \r\nL 141.85757 25.943879 \r\nL 142.431977 25.169636 \r\nL 142.503778 25.237649 \r\nL 142.575579 25.155636 \r\nL 142.64738 25.543813 \r\nL 142.71918 25.400911 \r\nL 142.934582 25.058289 \r\nL 143.006382 25.066789 \r\nL 143.078183 25.218955 \r\nL 143.149984 25.092067 \r\nL 143.508989 25.479758 \r\nL 143.580789 25.377523 \r\nL 143.724391 25.478883 \r\nL 143.796192 25.449383 \r\nL 144.011594 25.15465 \r\nL 144.155196 25.145233 \r\nL 144.226997 25.217066 \r\nL 144.442399 24.663557 \r\nL 144.657801 24.731764 \r\nL 144.873203 24.888846 \r\nL 145.016804 24.751195 \r\nL 145.160406 24.850333 \r\nL 145.304008 24.957137 \r\nL 145.447609 24.657196 \r\nL 145.878414 25.091858 \r\nL 145.950214 24.992345 \r\nL 146.165617 25.366703 \r\nL 146.452822 25.653381 \r\nL 146.668224 25.32844 \r\nL 146.740024 25.512174 \r\nL 146.811826 25.461244 \r\nL 146.955428 25.325384 \r\nL 147.09903 25.472675 \r\nL 147.170832 25.385439 \r\nL 147.242633 25.46548 \r\nL 147.529836 25.805574 \r\nL 147.601637 25.866421 \r\nL 147.673438 25.758047 \r\nL 147.745239 25.823477 \r\nL 147.88884 25.90531 \r\nL 148.176043 26.33 \r\nL 148.678649 27.012258 \r\nL 148.82225 27.023092 \r\nL 149.109454 27.30627 \r\nL 149.253055 27.050439 \r\nL 149.468457 26.746566 \r\nL 149.68386 26.822316 \r\nL 149.827462 26.927565 \r\nL 150.330066 27.128855 \r\nL 150.473667 27.088105 \r\nL 150.617269 27.100702 \r\nL 150.76087 27.053883 \r\nL 150.832671 27.13398 \r\nL 151.048074 26.93012 \r\nL 151.766082 27.10273 \r\nL 152.340488 27.235923 \r\nL 152.55589 27.272034 \r\nL 152.914895 27.427505 \r\nL 153.130296 27.200271 \r\nL 153.345698 26.912579 \r\nL 153.848301 27.098355 \r\nL 154.207305 26.907051 \r\nL 154.781711 26.988106 \r\nL 155.068914 26.889398 \r\nL 155.499719 26.916537 \r\nL 155.64332 26.889968 \r\nL 155.858723 27.00655 \r\nL 156.433128 26.993911 \r\nL 156.792132 27.184576 \r\nL 156.935733 27.088591 \r\nL 157.079335 27.191562 \r\nL 157.797345 27.091397 \r\nL 157.940946 26.929495 \r\nL 158.371751 27.074466 \r\nL 158.515353 27.000828 \r\nL 158.802558 27.082425 \r\nL 159.017961 27.013356 \r\nL 159.161562 26.966745 \r\nL 159.448767 27.170021 \r\nL 159.592369 27.104494 \r\nL 159.879572 27.261742 \r\nL 159.951373 27.223604 \r\nL 160.166777 27.466074 \r\nL 160.38218 27.384672 \r\nL 160.525781 27.521518 \r\nL 160.669383 27.419797 \r\nL 160.884785 27.44731 \r\nL 161.171988 27.390533 \r\nL 161.31559 27.373603 \r\nL 161.530992 27.281117 \r\nL 162.177198 27.323839 \r\nL 162.392601 27.289103 \r\nL 164.546624 27.412352 \r\nL 164.762026 27.346436 \r\nL 164.977429 27.359144 \r\nL 165.121031 27.436366 \r\nL 165.480034 27.3397 \r\nL 165.767238 27.401158 \r\nL 165.982639 27.425283 \r\nL 166.198042 27.373353 \r\nL 166.844251 27.278062 \r\nL 167.059653 27.348964 \r\nL 167.418657 27.213701 \r\nL 167.63406 27.275687 \r\nL 168.208464 27.376533 \r\nL 168.423866 27.402116 \r\nL 169.429078 27.663989 \r\nL 169.716281 27.75978 \r\nL 170.003484 27.820668 \r\nL 170.43429 27.825293 \r\nL 170.936896 27.750141 \r\nL 171.295899 27.746433 \r\nL 171.798504 27.817501 \r\nL 172.30111 27.938014 \r\nL 172.372911 51.336644 \r\nL 172.444711 38.165162 \r\nL 172.516512 40.593099 \r\nL 172.660114 29.772748 \r\nL 172.803715 32.619585 \r\nL 173.019118 27.267992 \r\nL 173.090919 27.298284 \r\nL 173.16272 27.17584 \r\nL 173.234521 24.816097 \r\nL 173.306322 25.885532 \r\nL 173.378123 27.611142 \r\nL 173.449924 27.108938 \r\nL 173.737127 28.820007 \r\nL 173.95253 29.082338 \r\nL 174.167932 30.44652 \r\nL 174.239733 29.259864 \r\nL 174.311534 29.586819 \r\nL 174.383335 28.974422 \r\nL 174.526937 31.059584 \r\nL 174.598738 30.262661 \r\nL 174.670538 31.13332 \r\nL 174.814139 30.05476 \r\nL 175.029542 30.678143 \r\nL 175.173144 31.424067 \r\nL 175.316744 30.352007 \r\nL 175.603947 29.429237 \r\nL 175.675748 28.642994 \r\nL 175.747549 28.797201 \r\nL 175.962951 29.757554 \r\nL 176.034752 29.077268 \r\nL 176.106552 29.361377 \r\nL 176.321955 29.957816 \r\nL 176.537357 30.934683 \r\nL 176.609158 30.766906 \r\nL 176.680958 31.102931 \r\nL 176.752759 30.960613 \r\nL 176.82456 30.781281 \r\nL 176.89636 30.849114 \r\nL 176.968161 30.871058 \r\nL 177.183563 30.492145 \r\nL 177.327165 30.670282 \r\nL 177.614367 29.885428 \r\nL 177.686168 29.707346 \r\nL 177.757969 29.752485 \r\nL 177.82977 29.654388 \r\nL 177.901571 29.895039 \r\nL 177.973372 29.251253 \r\nL 178.045173 29.404335 \r\nL 178.116973 29.578083 \r\nL 178.260575 28.958103 \r\nL 178.332375 29.188726 \r\nL 178.404176 29.143615 \r\nL 178.475977 28.896048 \r\nL 178.547778 29.001213 \r\nL 178.619579 29.100851 \r\nL 178.691379 29.031088 \r\nL 178.906783 29.182976 \r\nL 178.978583 28.923659 \r\nL 179.050384 29.037991 \r\nL 179.265787 29.016769 \r\nL 179.48119 28.803868 \r\nL 179.552991 28.504482 \r\nL 179.624792 28.558787 \r\nL 179.768393 28.584286 \r\nL 179.840193 28.504148 \r\nL 179.983795 28.826743 \r\nL 180.055596 28.801743 \r\nL 180.127397 29.016033 \r\nL 180.199197 28.924742 \r\nL 180.270998 28.760146 \r\nL 180.342799 28.799493 \r\nL 180.630003 28.824562 \r\nL 180.701803 28.654119 \r\nL 180.917206 28.995713 \r\nL 180.989007 28.918034 \r\nL 181.27621 29.260419 \r\nL 181.41981 29.2526 \r\nL 181.491611 29.252906 \r\nL 181.707014 29.805859 \r\nL 181.778814 29.689319 \r\nL 181.994217 29.919553 \r\nL 182.066018 30.043857 \r\nL 182.425022 29.153073 \r\nL 182.496822 29.310072 \r\nL 182.712225 29.636166 \r\nL 182.927627 29.938622 \r\nL 182.999427 29.736471 \r\nL 183.143029 29.889608 \r\nL 183.286631 29.888345 \r\nL 183.645635 29.612861 \r\nL 183.717435 29.770596 \r\nL 183.861037 29.732999 \r\nL 183.932838 30.034371 \r\nL 184.004639 30.008121 \r\nL 184.148241 30.026385 \r\nL 184.291842 29.968774 \r\nL 184.507245 29.818929 \r\nL 185.153453 30.603047 \r\nL 185.368857 30.404493 \r\nL 185.512459 30.519547 \r\nL 185.871462 30.306035 \r\nL 185.943263 30.241217 \r\nL 186.015064 30.335146 \r\nL 186.086866 30.260452 \r\nL 186.230466 30.350146 \r\nL 186.302267 30.528603 \r\nL 186.374068 30.475214 \r\nL 186.58947 30.444256 \r\nL 186.661271 30.363271 \r\nL 186.733072 30.430437 \r\nL 186.804872 30.425673 \r\nL 187.020275 30.734018 \r\nL 187.307478 30.773879 \r\nL 187.379279 30.719865 \r\nL 187.594682 30.936433 \r\nL 187.810084 31.179319 \r\nL 188.24089 31.17275 \r\nL 188.384492 31.18175 \r\nL 188.528094 31.144348 \r\nL 188.743495 31.304082 \r\nL 189.030697 31.335499 \r\nL 189.174299 31.419637 \r\nL 189.892309 31.530969 \r\nL 190.035911 31.448067 \r\nL 190.251313 31.645427 \r\nL 190.753919 31.830828 \r\nL 192.118136 32.410392 \r\nL 192.261738 32.518752 \r\nL 192.47714 32.547627 \r\nL 192.907945 32.817875 \r\nL 193.051547 32.821389 \r\nL 193.33875 32.926415 \r\nL 193.482351 32.960443 \r\nL 193.769555 33.184469 \r\nL 194.415762 33.404328 \r\nL 195.205568 33.840769 \r\nL 195.420971 33.869241 \r\nL 195.636374 34.088697 \r\nL 195.995378 34.088572 \r\nL 196.282582 34.233348 \r\nL 196.713385 34.213876 \r\nL 196.856987 34.209404 \r\nL 197.646794 34.235654 \r\nL 197.933998 34.534776 \r\nL 198.293002 34.753969 \r\nL 198.86741 34.933745 \r\nL 199.226414 34.892384 \r\nL 199.944422 35.089522 \r\nL 200.231626 35.355978 \r\nL 200.877833 35.478352 \r\nL 201.021434 35.47581 \r\nL 201.380439 35.765905 \r\nL 201.595841 35.823321 \r\nL 202.242049 36.021986 \r\nL 202.38565 36.02343 \r\nL 203.031857 36.369177 \r\nL 203.24726 36.370247 \r\nL 203.534463 36.433718 \r\nL 203.678065 36.55712 \r\nL 203.893467 36.6393 \r\nL 204.396071 36.797882 \r\nL 204.611473 36.939533 \r\nL 204.755074 36.986158 \r\nL 206.191089 37.67486 \r\nL 206.33469 37.683749 \r\nL 206.621893 37.87915 \r\nL 206.980898 37.977469 \r\nL 207.411703 38.075773 \r\nL 207.698906 38.245536 \r\nL 208.416913 38.509909 \r\nL 208.704116 38.560741 \r\nL 210.570936 39.334624 \r\nL 210.642737 43.404144 \r\nL 210.714537 63.083876 \r\nL 210.786338 62.313466 \r\nL 210.858139 66.820649 \r\nL 210.92994 66.25932 \r\nL 211.576148 55.868897 \r\nL 211.647949 56.690834 \r\nL 211.71975 55.711009 \r\nL 211.863351 57.211052 \r\nL 212.006953 56.763556 \r\nL 212.078753 58.392694 \r\nL 212.150554 58.361653 \r\nL 212.222355 58.410986 \r\nL 212.365956 59.424574 \r\nL 212.509558 58.377625 \r\nL 212.581358 58.604873 \r\nL 212.653159 58.572262 \r\nL 212.724959 58.284598 \r\nL 212.940361 59.482699 \r\nL 213.227565 57.770602 \r\nL 213.442966 59.194715 \r\nL 213.873771 58.055753 \r\nL 213.945573 58.143155 \r\nL 214.017374 58.497277 \r\nL 214.089174 58.363681 \r\nL 214.232775 58.362903 \r\nL 214.448178 59.072785 \r\nL 214.735381 60.08436 \r\nL 214.807182 59.898251 \r\nL 214.878983 59.636711 \r\nL 214.950784 60.092138 \r\nL 215.022584 59.437227 \r\nL 215.094385 59.484504 \r\nL 215.309787 59.64853 \r\nL 215.52519 59.19934 \r\nL 215.812393 59.992708 \r\nL 215.955995 59.748488 \r\nL 216.027795 59.801585 \r\nL 216.386801 59.217923 \r\nL 216.458602 59.512032 \r\nL 216.530403 59.452254 \r\nL 216.602204 59.296867 \r\nL 216.674005 59.336019 \r\nL 216.745806 59.322742 \r\nL 216.817607 59.510337 \r\nL 216.889408 59.471768 \r\nL 216.961209 59.514712 \r\nL 217.248412 60.385385 \r\nL 217.392014 60.219317 \r\nL 217.535616 60.104402 \r\nL 217.751018 60.520648 \r\nL 217.96642 60.397774 \r\nL 218.325423 61.690263 \r\nL 218.540825 62.025427 \r\nL 218.828027 62.649227 \r\nL 218.971628 62.719226 \r\nL 219.043428 62.680101 \r\nL 219.115229 62.927544 \r\nL 219.18703 62.807809 \r\nL 219.258832 63.02021 \r\nL 219.474233 62.623019 \r\nL 219.689636 62.762934 \r\nL 219.905039 62.94453 \r\nL 220.120442 63.382984 \r\nL 220.264043 63.394456 \r\nL 220.335844 63.398734 \r\nL 220.623046 64.001382 \r\nL 220.766649 63.745495 \r\nL 221.484657 64.330615 \r\nL 221.987263 64.942248 \r\nL 222.059063 64.974845 \r\nL 222.202665 65.197802 \r\nL 222.561669 64.996845 \r\nL 222.705271 65.094011 \r\nL 222.848873 65.048734 \r\nL 223.136077 65.525966 \r\nL 223.710483 66.429541 \r\nL 223.782284 66.252473 \r\nL 223.854084 66.3295 \r\nL 223.997685 66.33775 \r\nL 224.284889 66.371694 \r\nL 224.42849 66.601262 \r\nL 224.643893 66.724205 \r\nL 224.787495 67.010453 \r\nL 225.002898 66.958759 \r\nL 225.218301 67.208923 \r\nL 225.361902 67.206604 \r\nL 225.792708 67.720405 \r\nL 226.079913 67.874112 \r\nL 226.295316 68.137651 \r\nL 226.438918 68.209637 \r\nL 226.510719 68.126776 \r\nL 226.58252 68.213581 \r\nL 226.941523 68.622883 \r\nL 227.65953 69.241072 \r\nL 227.874933 69.250628 \r\nL 228.090336 69.398362 \r\nL 228.305739 69.449793 \r\nL 228.521141 69.601861 \r\nL 228.736543 69.648846 \r\nL 228.880145 69.647735 \r\nL 229.526351 70.060273 \r\nL 229.669952 70.070621 \r\nL 229.813554 70.127523 \r\nL 230.316158 70.313049 \r\nL 230.387959 70.30798 \r\nL 230.531561 70.447089 \r\nL 230.746965 70.450409 \r\nL 231.105969 70.778892 \r\nL 231.752176 71.303221 \r\nL 231.967578 71.356026 \r\nL 233.044589 72.087964 \r\nL 233.18819 72.128978 \r\nL 234.408804 73.055789 \r\nL 234.767809 73.425508 \r\nL 234.983211 73.435911 \r\nL 235.342215 73.724825 \r\nL 235.629419 73.881129 \r\nL 235.84482 73.918087 \r\nL 236.203824 74.114266 \r\nL 236.491028 74.187501 \r\nL 236.634629 74.218404 \r\nL 237.352638 74.681692 \r\nL 238.357851 75.172715 \r\nL 239.21946 75.948625 \r\nL 239.363062 75.991847 \r\nL 239.650265 76.213942 \r\nL 240.511875 76.872159 \r\nL 240.655477 76.882228 \r\nL 241.086283 77.18817 \r\nL 241.876092 77.669971 \r\nL 242.378698 77.986371 \r\nL 242.809504 78.233813 \r\nL 245.178932 79.947826 \r\nL 245.609738 80.141908 \r\nL 248.840777 82.631873 \r\nL 248.912578 108.315441 \r\nL 248.984378 99.933556 \r\nL 249.12798 110.662768 \r\nL 249.199781 109.007796 \r\nL 249.271581 109.432167 \r\nL 249.343382 112.329073 \r\nL 249.486984 106.647983 \r\nL 249.630585 110.405534 \r\nL 249.702386 109.358543 \r\nL 249.774187 110.187953 \r\nL 249.917789 108.18497 \r\nL 250.133191 111.013612 \r\nL 250.204992 110.915627 \r\nL 250.563998 112.642181 \r\nL 250.707599 111.391123 \r\nL 250.7794 112.070408 \r\nL 250.8512 111.828619 \r\nL 250.994801 111.27361 \r\nL 251.066602 111.403359 \r\nL 251.138403 111.218902 \r\nL 251.210204 110.56413 \r\nL 251.282005 110.900127 \r\nL 251.353806 110.567338 \r\nL 251.497408 111.366053 \r\nL 251.641009 111.237013 \r\nL 251.712809 111.253457 \r\nL 251.78461 111.078709 \r\nL 251.928212 112.053936 \r\nL 252.000012 111.880799 \r\nL 252.287216 112.724819 \r\nL 252.430817 113.051094 \r\nL 252.574419 113.594687 \r\nL 252.64622 113.139732 \r\nL 252.71802 113.235509 \r\nL 253.005223 113.62327 \r\nL 253.077024 113.350397 \r\nL 253.148825 113.586673 \r\nL 253.364227 112.993734 \r\nL 253.507829 113.43441 \r\nL 253.723231 112.92004 \r\nL 253.866832 113.115358 \r\nL 253.938633 112.844943 \r\nL 254.082233 113.037178 \r\nL 254.225835 113.0844 \r\nL 254.584838 113.955823 \r\nL 254.656639 113.736727 \r\nL 255.159245 115.332797 \r\nL 255.231046 115.284519 \r\nL 255.446449 115.321894 \r\nL 255.59005 115.5556 \r\nL 256.092655 116.976866 \r\nL 256.164455 117.089823 \r\nL 256.236256 116.943602 \r\nL 256.451658 117.248238 \r\nL 256.52346 117.315696 \r\nL 256.882463 118.383951 \r\nL 257.744071 119.926826 \r\nL 258.390279 122.232945 \r\nL 258.533881 122.54804 \r\nL 259.036486 124.773479 \r\nL 259.539092 126.792031 \r\nL 259.969898 128.34167 \r\nL 260.687906 131.64078 \r\nL 261.405915 134.457492 \r\nL 262.339329 138.020794 \r\nL 265.354964 148.074242 \r\nL 269.232212 158.051891 \r\nL 272.463246 164.56807 \r\nL 272.750449 164.981192 \r\nL 273.324859 165.853566 \r\nL 274.042867 166.8898 \r\nL 274.473671 167.523045 \r\nL 274.545472 167.526809 \r\nL 274.976276 168.099206 \r\nL 275.191678 168.431009 \r\nL 275.766084 169.240467 \r\nL 280.074132 174.950418 \r\nL 280.935743 175.884472 \r\nL 281.151144 176.073561 \r\nL 281.366546 176.338052 \r\nL 283.233371 178.403041 \r\nL 283.448774 178.460603 \r\nL 284.525785 179.593912 \r\nL 285.028391 180.075443 \r\nL 285.243793 180.212046 \r\nL 285.602797 180.577924 \r\nL 286.464408 181.431896 \r\nL 287.110616 181.905843 \r\nL 287.182417 158.572088 \r\nL 287.326019 197.861878 \r\nL 287.397819 197.781081 \r\nL 287.46962 194.596497 \r\nL 287.541421 196.182115 \r\nL 287.685023 192.531154 \r\nL 287.900425 198.182983 \r\nL 287.972226 197.806337 \r\nL 288.044027 198.533202 \r\nL 288.259429 201.558076 \r\nL 288.40303 197.814969 \r\nL 288.474831 199.160617 \r\nL 288.690233 201.017591 \r\nL 288.977436 198.388777 \r\nL 289.192839 200.428287 \r\nL 289.26464 199.599311 \r\nL 289.336441 199.92268 \r\nL 289.408241 199.734192 \r\nL 289.551843 200.683028 \r\nL 289.839046 199.554461 \r\nL 289.982647 200.408377 \r\nL 290.126249 199.800685 \r\nL 290.413451 201.201683 \r\nL 290.628854 201.393188 \r\nL 290.844257 202.437134 \r\nL 290.987858 202.754214 \r\nL 291.059659 202.47714 \r\nL 291.346864 203.368581 \r\nL 291.418664 203.197027 \r\nL 291.562265 203.601346 \r\nL 291.705867 203.416532 \r\nL 291.777668 203.52918 \r\nL 291.849468 203.172412 \r\nL 291.921268 203.254096 \r\nL 291.993069 203.385188 \r\nL 292.136671 203.106559 \r\nL 292.423876 203.782317 \r\nL 292.85468 205.147912 \r\nL 293.070083 205.681321 \r\nL 293.500888 206.596775 \r\nL 293.572689 206.631351 \r\nL 294.434301 208.669812 \r\nL 294.865106 209.197617 \r\nL 295.080509 208.973598 \r\nL 295.15231 208.983858 \r\nL 295.224111 208.766218 \r\nL 295.439514 207.75915 \r\nL 295.583116 207.653193 \r\nL 295.726718 207.520833 \r\nL 295.798518 207.540419 \r\nL 295.94212 207.727973 \r\nL 296.516526 207.876357 \r\nL 296.588327 208.126018 \r\nL 296.660127 207.970843 \r\nL 296.731928 208.025505 \r\nL 296.803729 208.142126 \r\nL 296.875529 208.05979 \r\nL 297.01913 208.132904 \r\nL 297.234532 208.253677 \r\nL 297.449935 208.476599 \r\nL 297.521736 208.360812 \r\nL 297.593537 208.477536 \r\nL 297.665338 208.38845 \r\nL 297.880739 208.633768 \r\nL 298.096142 208.779718 \r\nL 298.167942 208.728791 \r\nL 298.526946 209.205318 \r\nL 298.81415 209.391247 \r\nL 298.885951 209.144579 \r\nL 298.957752 209.261568 \r\nL 299.316755 209.669047 \r\nL 299.460357 209.569513 \r\nL 299.675759 209.802247 \r\nL 299.962961 209.311244 \r\nL 300.034762 209.083892 \r\nL 300.106564 209.126041 \r\nL 300.178365 209.124017 \r\nL 300.393768 208.807502 \r\nL 300.53737 208.781857 \r\nL 300.60917 208.91356 \r\nL 300.680971 208.869949 \r\nL 300.896374 208.600042 \r\nL 300.968174 208.641386 \r\nL 301.183576 208.530616 \r\nL 301.398979 208.3781 \r\nL 301.542579 208.311458 \r\nL 301.757981 208.376103 \r\nL 301.973382 208.505987 \r\nL 302.260587 208.720722 \r\nL 302.404188 208.745117 \r\nL 302.547789 208.724027 \r\nL 302.691391 208.789329 \r\nL 302.834992 208.678913 \r\nL 302.906792 208.775166 \r\nL 302.978593 208.691986 \r\nL 303.553001 209.075538 \r\nL 303.840204 208.957789 \r\nL 303.983806 208.436155 \r\nL 304.127408 208.430085 \r\nL 304.271009 208.129268 \r\nL 304.917217 207.855851 \r\nL 305.20442 207.732279 \r\nL 305.348022 207.726112 \r\nL 305.491624 207.704953 \r\nL 305.778828 207.849396 \r\nL 305.850628 207.75582 \r\nL 305.922429 207.834479 \r\nL 306.137831 207.916392 \r\nL 306.927639 208.182188 \r\nL 307.214843 208.227702 \r\nL 307.502046 208.361801 \r\nL 308.220053 208.127952 \r\nL 308.86626 207.542892 \r\nL 309.225263 207.528492 \r\nL 309.584268 207.547173 \r\nL 309.943273 207.362549 \r\nL 310.086874 207.351445 \r\nL 310.44588 207.422132 \r\nL 310.589482 207.424552 \r\nL 311.020287 207.39165 \r\nL 311.522892 207.588405 \r\nL 311.738294 207.564193 \r\nL 311.953696 207.018129 \r\nL 312.097298 206.855766 \r\nL 312.384501 206.435901 \r\nL 312.671706 206.304791 \r\nL 312.815308 206.209032 \r\nL 313.03071 206.218851 \r\nL 313.174313 206.130859 \r\nL 313.317914 206.064429 \r\nL 313.533317 206.211611 \r\nL 314.323124 206.066068 \r\nL 314.753929 205.607954 \r\nL 314.89753 205.558815 \r\nL 316.189944 204.687892 \r\nL 316.477147 204.749589 \r\nL 316.764351 204.714395 \r\nL 316.907953 204.698173 \r\nL 317.123355 204.635431 \r\nL 317.266956 204.467831 \r\nL 318.343969 204.146772 \r\nL 320.210791 204.481425 \r\nL 320.9288 204.395561 \r\nL 321.216003 204.454408 \r\nL 322.293016 204.312149 \r\nL 322.508418 204.249979 \r\nL 323.011022 204.116449 \r\nL 323.370026 204.000506 \r\nL 324.518834 203.876298 \r\nL 324.806036 203.70321 \r\nL 325.380443 203.60329 \r\nL 325.452244 210.475311 \r\nL 325.524045 209.35099 \r\nL 325.595846 207.359494 \r\nL 325.739448 213.515291 \r\nL 325.811249 214.756364 \r\nL 325.88305 214.578664 \r\nL 326.313854 200.247931 \r\nL 326.457455 200.541838 \r\nL 326.529256 200.781065 \r\nL 326.672858 202.814783 \r\nL 326.744658 202.652368 \r\nL 327.031861 199.257946 \r\nL 327.175462 199.730348 \r\nL 327.247263 200.302194 \r\nL 327.390865 199.602051 \r\nL 327.462666 200.170438 \r\nL 327.534467 199.391233 \r\nL 327.606268 199.617783 \r\nL 327.678069 199.446847 \r\nL 328.037073 200.834405 \r\nL 328.324276 201.823455 \r\nL 328.396077 201.846938 \r\nL 328.467877 201.656141 \r\nL 328.539678 200.685076 \r\nL 328.611478 200.907567 \r\nL 328.683279 200.643708 \r\nL 328.75508 200.838505 \r\nL 328.970484 200.110428 \r\nL 329.042285 200.06421 \r\nL 329.114085 199.764053 \r\nL 329.688492 202.319138 \r\nL 329.760293 202.119501 \r\nL 329.832094 200.86813 \r\nL 329.903895 201.336859 \r\nL 330.047497 201.498413 \r\nL 330.262898 200.703465 \r\nL 330.334699 200.81853 \r\nL 330.550102 200.98415 \r\nL 330.765504 200.491335 \r\nL 331.052708 201.321116 \r\nL 331.19631 201.338088 \r\nL 331.842517 199.846031 \r\nL 331.914318 199.816337 \r\nL 331.986118 199.562607 \r\nL 332.057919 199.641307 \r\nL 332.20152 199.617221 \r\nL 332.273321 199.678356 \r\nL 332.775927 198.173296 \r\nL 333.422133 196.756784 \r\nL 333.493934 196.734652 \r\nL 333.852938 195.686779 \r\nL 333.996539 195.838535 \r\nL 334.06834 195.730328 \r\nL 334.427345 194.986577 \r\nL 334.499146 195.078507 \r\nL 334.570947 195.070229 \r\nL 334.929951 194.115189 \r\nL 335.073553 193.987114 \r\nL 335.432557 193.203301 \r\nL 335.791561 193.32464 \r\nL 336.006963 192.709229 \r\nL 336.222365 192.850561 \r\nL 336.437767 192.689576 \r\nL 336.581369 192.840811 \r\nL 336.72497 192.598563 \r\nL 337.083975 192.341496 \r\nL 337.227577 192.051241 \r\nL 337.299378 192.088012 \r\nL 337.51478 192.002652 \r\nL 337.730182 191.444927 \r\nL 337.801983 191.424518 \r\nL 338.59179 187.610433 \r\nL 339.237998 184.158067 \r\nL 340.243208 179.672884 \r\nL 340.817615 176.85179 \r\nL 341.751026 173.822254 \r\nL 342.899839 168.109456 \r\nL 344.551258 161.233072 \r\nL 346.202674 155.506462 \r\nL 347.854092 150.476748 \r\nL 349.649111 145.802449 \r\nL 352.162135 140.353906 \r\nL 353.885354 137.064969 \r\nL 356.039379 133.559041 \r\nL 357.547199 131.399435 \r\nL 360.491039 127.666704 \r\nL 362.57326 125.389932 \r\nL 363.363068 124.597605 \r\nL 363.363068 124.597605 \r\n\" style=\"fill:none;stroke:#1f77b4;stroke-linecap:square;stroke-width:1.5;\"/>\r\n   </g>\r\n   <g id=\"patch_3\">\r\n    <path d=\"M 43.78125 224.64 \r\nL 43.78125 7.2 \r\n\" style=\"fill:none;stroke:#000000;stroke-linecap:square;stroke-linejoin:miter;stroke-width:0.8;\"/>\r\n   </g>\r\n   <g id=\"patch_4\">\r\n    <path d=\"M 378.58125 224.64 \r\nL 378.58125 7.2 \r\n\" style=\"fill:none;stroke:#000000;stroke-linecap:square;stroke-linejoin:miter;stroke-width:0.8;\"/>\r\n   </g>\r\n   <g id=\"patch_5\">\r\n    <path d=\"M 43.78125 224.64 \r\nL 378.58125 224.64 \r\n\" style=\"fill:none;stroke:#000000;stroke-linecap:square;stroke-linejoin:miter;stroke-width:0.8;\"/>\r\n   </g>\r\n   <g id=\"patch_6\">\r\n    <path d=\"M 43.78125 7.2 \r\nL 378.58125 7.2 \r\n\" style=\"fill:none;stroke:#000000;stroke-linecap:square;stroke-linejoin:miter;stroke-width:0.8;\"/>\r\n   </g>\r\n  </g>\r\n </g>\r\n <defs>\r\n  <clipPath id=\"pe36db277e8\">\r\n   <rect height=\"217.44\" width=\"334.8\" x=\"43.78125\" y=\"7.2\"/>\r\n  </clipPath>\r\n </defs>\r\n</svg>\r\n",
      "image/png": "[encoded data removed]"
     },
     "metadata": {
      "needs_background": "light"
     }
    }
   ],
   "source": [
    "lr_finder = LRFinder(model)\n",
    "lr_finder.find(train_x,train_Y, start_lr=1e-10, end_lr=100, batch_size=128, epochs=10)\n",
    "lr_finder.plot_loss(n_skip_beginning=20, n_skip_end=5)\n",
    "plt.show()"
   ]
  },
  {
   "source": [
    "# Score and saving the model"
   ],
   "cell_type": "markdown",
   "metadata": {}
  },
  {
   "cell_type": "code",
   "execution_count": 25,
   "metadata": {},
   "outputs": [
    {
     "output_type": "stream",
     "name": "stdout",
     "text": [
      "Test loss: 0.7401729822158813\n",
      "Test accuracy: 0.5\n",
      "WARNING:absl:Found untraced functions such as lstm_cell_layer_call_and_return_conditional_losses, lstm_cell_layer_call_fn, lstm_cell_1_layer_call_and_return_conditional_losses, lstm_cell_1_layer_call_fn, lstm_cell_2_layer_call_and_return_conditional_losses while saving (showing 5 of 15). These functions will not be directly callable after loading.\n",
      "WARNING:absl:Found untraced functions such as lstm_cell_layer_call_and_return_conditional_losses, lstm_cell_layer_call_fn, lstm_cell_1_layer_call_and_return_conditional_losses, lstm_cell_1_layer_call_fn, lstm_cell_2_layer_call_and_return_conditional_losses while saving (showing 5 of 15). These functions will not be directly callable after loading.\n",
      "INFO:tensorflow:Assets written to: models/LRFinder-BTC-USD-60-60-1615192126\\assets\n",
      "INFO:tensorflow:Assets written to: models/LRFinder-BTC-USD-60-60-1615192126\\assets\n"
     ]
    }
   ],
   "source": [
    "# Scoring\n",
    "score = model.evaluate(test_x, test_Y, verbose=0)\n",
    "print('Test loss:', score[0])\n",
    "print('Test accuracy:', score[1])\n",
    "\n",
    "# Saving\n",
    "model.save(f\"models/{NAME}\")"
   ]
  },
  {
   "cell_type": "code",
   "execution_count": 26,
   "metadata": {},
   "outputs": [
    {
     "output_type": "stream",
     "name": "stdout",
     "text": [
      "Model: \"sequential\"\n_________________________________________________________________\nLayer (type)                 Output Shape              Param #   \n=================================================================\nlstm (LSTM)                  (None, 60, 64)            18944     \n_________________________________________________________________\ndropout (Dropout)            (None, 60, 64)            0         \n_________________________________________________________________\nbatch_normalization (BatchNo (None, 60, 64)            256       \n_________________________________________________________________\nlstm_1 (LSTM)                (None, 60, 64)            33024     \n_________________________________________________________________\ndropout_1 (Dropout)          (None, 60, 64)            0         \n_________________________________________________________________\nbatch_normalization_1 (Batch (None, 60, 64)            256       \n_________________________________________________________________\nlstm_2 (LSTM)                (None, 64)                33024     \n_________________________________________________________________\ndropout_2 (Dropout)          (None, 64)                0         \n_________________________________________________________________\nbatch_normalization_2 (Batch (None, 64)                256       \n_________________________________________________________________\ndense (Dense)                (None, 10)                650       \n_________________________________________________________________\ndropout_3 (Dropout)          (None, 10)                0         \n_________________________________________________________________\ndense_1 (Dense)              (None, 2)                 22        \n=================================================================\nTotal params: 86,432\nTrainable params: 86,048\nNon-trainable params: 384\n_________________________________________________________________\n"
     ]
    }
   ],
   "source": [
    "model.summary()"
   ]
  },
  {
   "cell_type": "code",
   "execution_count": 27,
   "metadata": {},
   "outputs": [
    {
     "output_type": "execute_result",
     "data": {
      "text/plain": [
       "array([0.6064976 , 0.39350238], dtype=float32)"
      ]
     },
     "metadata": {},
     "execution_count": 27
    }
   ],
   "source": [
    "predicted = model.predict(test_x)\n",
    "expected = test_Y\n",
    "expected[0]\n",
    "predicted[0]"
   ]
  },
  {
   "cell_type": "code",
   "execution_count": 28,
   "metadata": {},
   "outputs": [
    {
     "output_type": "execute_result",
     "data": {
      "text/plain": [
       "array([[8702,    0],\n",
       "       [8702,    0]], dtype=int64)"
      ]
     },
     "metadata": {},
     "execution_count": 28
    }
   ],
   "source": [
    "from sklearn.metrics import confusion_matrix\n",
    "\n",
    "\n",
    "predicted_final = np.argmax(predicted, axis=1)\n",
    "confusion_matrix(expected, predicted_final)"
   ]
  },
  {
   "cell_type": "code",
   "execution_count": 29,
   "metadata": {},
   "outputs": [
    {
     "output_type": "execute_result",
     "data": {
      "text/plain": [
       "0"
      ]
     },
     "metadata": {},
     "execution_count": 29
    }
   ],
   "source": [
    "(test_x==1).sum()"
   ]
  },
  {
   "source": [
    "## According to the documentation, C1,0 is the value of the false negatives and C0,1 is the value of the false positives.\n",
    "\n",
    "## The top row contains the actual class and the column contains the predicted class.\n",
    "<pre>\n",
    "predicted\\ Actual|          |\n",
    "class     \\ class|  1(buy)  | 0(sell)   \n",
    "___________\\_____|__________|_________\n",
    "1(buy)           |   8701   |    1\n",
    "_________________|__________|_________\n",
    "0(sell)          |   3968   |   4734\n",
    "_________________|__________|_________\n",
    "</pre>      \n"
   ],
   "cell_type": "markdown",
   "metadata": {}
  },
  {
   "source": [
    "## Interpreting the model we understand that the model bought when it should have sold 1 time and sold ~4000 times when it should have bought."
   ],
   "cell_type": "markdown",
   "metadata": {}
  },
  {
   "cell_type": "code",
   "execution_count": 30,
   "metadata": {},
   "outputs": [
    {
     "output_type": "display_data",
     "data": {
      "text/plain": "<Figure size 432x288 with 1 Axes>",
      "image/svg+xml": "<?xml version=\"1.0\" encoding=\"utf-8\" standalone=\"no\"?>\r\n<!DOCTYPE svg PUBLIC \"-//W3C//DTD SVG 1.1//EN\"\r\n  \"http://www.w3.org/Graphics/SVG/1.1/DTD/svg11.dtd\">\r\n<!-- Created with matplotlib (https://matplotlib.org/) -->\r\n<svg height=\"250.45375pt\" version=\"1.1\" viewBox=\"0 0 375.28375 250.45375\" width=\"375.28375pt\" xmlns=\"http://www.w3.org/2000/svg\" xmlns:xlink=\"http://www.w3.org/1999/xlink\">\r\n <metadata>\r\n  <rdf:RDF xmlns:cc=\"http://creativecommons.org/ns#\" xmlns:dc=\"http://purl.org/dc/elements/1.1/\" xmlns:rdf=\"http://www.w3.org/1999/02/22-rdf-syntax-ns#\">\r\n   <cc:Work>\r\n    <dc:type rdf:resource=\"http://purl.org/dc/dcmitype/StillImage\"/>\r\n    <dc:date>2021-03-08T10:32:47.307297</dc:date>\r\n    <dc:format>image/svg+xml</dc:format>\r\n    <dc:creator>\r\n     <cc:Agent>\r\n      <dc:title>Matplotlib v3.3.2, https://matplotlib.org/</dc:title>\r\n     </cc:Agent>\r\n    </dc:creator>\r\n   </cc:Work>\r\n  </rdf:RDF>\r\n </metadata>\r\n <defs>\r\n  <style type=\"text/css\">*{stroke-linecap:butt;stroke-linejoin:round;}</style>\r\n </defs>\r\n <g id=\"figure_1\">\r\n  <g id=\"patch_1\">\r\n   <path d=\"M 0 250.45375 \r\nL 375.28375 250.45375 \r\nL 375.28375 0 \r\nL 0 0 \r\nz\r\n\" style=\"fill:none;\"/>\r\n  </g>\r\n  <g id=\"axes_1\">\r\n   <g id=\"patch_2\">\r\n    <path d=\"M 33.28375 224.64 \r\nL 368.08375 224.64 \r\nL 368.08375 7.2 \r\nL 33.28375 7.2 \r\nz\r\n\" style=\"fill:#ffffff;\"/>\r\n   </g>\r\n   <g id=\"matplotlib.axis_1\">\r\n    <g id=\"xtick_1\">\r\n     <g id=\"line2d_1\">\r\n      <defs>\r\n       <path d=\"M 0 0 \r\nL 0 3.5 \r\n\" id=\"ma46f9c59eb\" style=\"stroke:#000000;stroke-width:0.8;\"/>\r\n      </defs>\r\n      <g>\r\n       <use style=\"stroke:#000000;stroke-width:0.8;\" x=\"48.501932\" xlink:href=\"#ma46f9c59eb\" y=\"224.64\"/>\r\n      </g>\r\n     </g>\r\n     <g id=\"text_1\">\r\n      <!-- −2.0 -->\r\n      <g transform=\"translate(33.932244 240.758125)scale(0.12 -0.12)\">\r\n       <defs>\r\n        <path d=\"M 10.59375 35.5 \r\nL 73.1875 35.5 \r\nL 73.1875 27.203125 \r\nL 10.59375 27.203125 \r\nz\r\n\" id=\"DejaVuSans-8722\"/>\r\n        <path d=\"M 19.1875 8.296875 \r\nL 53.609375 8.296875 \r\nL 53.609375 0 \r\nL 7.328125 0 \r\nL 7.328125 8.296875 \r\nQ 12.9375 14.109375 22.625 23.890625 \r\nQ 32.328125 33.6875 34.8125 36.53125 \r\nQ 39.546875 41.84375 41.421875 45.53125 \r\nQ 43.3125 49.21875 43.3125 52.78125 \r\nQ 43.3125 58.59375 39.234375 62.25 \r\nQ 35.15625 65.921875 28.609375 65.921875 \r\nQ 23.96875 65.921875 18.8125 64.3125 \r\nQ 13.671875 62.703125 7.8125 59.421875 \r\nL 7.8125 69.390625 \r\nQ 13.765625 71.78125 18.9375 73 \r\nQ 24.125 74.21875 28.421875 74.21875 \r\nQ 39.75 74.21875 46.484375 68.546875 \r\nQ 53.21875 62.890625 53.21875 53.421875 \r\nQ 53.21875 48.921875 51.53125 44.890625 \r\nQ 49.859375 40.875 45.40625 35.40625 \r\nQ 44.1875 33.984375 37.640625 27.21875 \r\nQ 31.109375 20.453125 19.1875 8.296875 \r\nz\r\n\" id=\"DejaVuSans-50\"/>\r\n        <path d=\"M 10.6875 12.40625 \r\nL 21 12.40625 \r\nL 21 0 \r\nL 10.6875 0 \r\nz\r\n\" id=\"DejaVuSans-46\"/>\r\n        <path d=\"M 31.78125 66.40625 \r\nQ 24.171875 66.40625 20.328125 58.90625 \r\nQ 16.5 51.421875 16.5 36.375 \r\nQ 16.5 21.390625 20.328125 13.890625 \r\nQ 24.171875 6.390625 31.78125 6.390625 \r\nQ 39.453125 6.390625 43.28125 13.890625 \r\nQ 47.125 21.390625 47.125 36.375 \r\nQ 47.125 51.421875 43.28125 58.90625 \r\nQ 39.453125 66.40625 31.78125 66.40625 \r\nz\r\nM 31.78125 74.21875 \r\nQ 44.046875 74.21875 50.515625 64.515625 \r\nQ 56.984375 54.828125 56.984375 36.375 \r\nQ 56.984375 17.96875 50.515625 8.265625 \r\nQ 44.046875 -1.421875 31.78125 -1.421875 \r\nQ 19.53125 -1.421875 13.0625 8.265625 \r\nQ 6.59375 17.96875 6.59375 36.375 \r\nQ 6.59375 54.828125 13.0625 64.515625 \r\nQ 19.53125 74.21875 31.78125 74.21875 \r\nz\r\n\" id=\"DejaVuSans-48\"/>\r\n       </defs>\r\n       <use xlink:href=\"#DejaVuSans-8722\"/>\r\n       <use x=\"83.789062\" xlink:href=\"#DejaVuSans-50\"/>\r\n       <use x=\"147.412109\" xlink:href=\"#DejaVuSans-46\"/>\r\n       <use x=\"179.199219\" xlink:href=\"#DejaVuSans-48\"/>\r\n      </g>\r\n     </g>\r\n    </g>\r\n    <g id=\"xtick_2\">\r\n     <g id=\"line2d_2\">\r\n      <g>\r\n       <use style=\"stroke:#000000;stroke-width:0.8;\" x=\"86.547386\" xlink:href=\"#ma46f9c59eb\" y=\"224.64\"/>\r\n      </g>\r\n     </g>\r\n     <g id=\"text_2\">\r\n      <!-- −1.5 -->\r\n      <g transform=\"translate(71.977699 240.758125)scale(0.12 -0.12)\">\r\n       <defs>\r\n        <path d=\"M 12.40625 8.296875 \r\nL 28.515625 8.296875 \r\nL 28.515625 63.921875 \r\nL 10.984375 60.40625 \r\nL 10.984375 69.390625 \r\nL 28.421875 72.90625 \r\nL 38.28125 72.90625 \r\nL 38.28125 8.296875 \r\nL 54.390625 8.296875 \r\nL 54.390625 0 \r\nL 12.40625 0 \r\nz\r\n\" id=\"DejaVuSans-49\"/>\r\n        <path d=\"M 10.796875 72.90625 \r\nL 49.515625 72.90625 \r\nL 49.515625 64.59375 \r\nL 19.828125 64.59375 \r\nL 19.828125 46.734375 \r\nQ 21.96875 47.46875 24.109375 47.828125 \r\nQ 26.265625 48.1875 28.421875 48.1875 \r\nQ 40.625 48.1875 47.75 41.5 \r\nQ 54.890625 34.8125 54.890625 23.390625 \r\nQ 54.890625 11.625 47.5625 5.09375 \r\nQ 40.234375 -1.421875 26.90625 -1.421875 \r\nQ 22.3125 -1.421875 17.546875 -0.640625 \r\nQ 12.796875 0.140625 7.71875 1.703125 \r\nL 7.71875 11.625 \r\nQ 12.109375 9.234375 16.796875 8.0625 \r\nQ 21.484375 6.890625 26.703125 6.890625 \r\nQ 35.15625 6.890625 40.078125 11.328125 \r\nQ 45.015625 15.765625 45.015625 23.390625 \r\nQ 45.015625 31 40.078125 35.4375 \r\nQ 35.15625 39.890625 26.703125 39.890625 \r\nQ 22.75 39.890625 18.8125 39.015625 \r\nQ 14.890625 38.140625 10.796875 36.28125 \r\nz\r\n\" id=\"DejaVuSans-53\"/>\r\n       </defs>\r\n       <use xlink:href=\"#DejaVuSans-8722\"/>\r\n       <use x=\"83.789062\" xlink:href=\"#DejaVuSans-49\"/>\r\n       <use x=\"147.412109\" xlink:href=\"#DejaVuSans-46\"/>\r\n       <use x=\"179.199219\" xlink:href=\"#DejaVuSans-53\"/>\r\n      </g>\r\n     </g>\r\n    </g>\r\n    <g id=\"xtick_3\">\r\n     <g id=\"line2d_3\">\r\n      <g>\r\n       <use style=\"stroke:#000000;stroke-width:0.8;\" x=\"124.592841\" xlink:href=\"#ma46f9c59eb\" y=\"224.64\"/>\r\n      </g>\r\n     </g>\r\n     <g id=\"text_3\">\r\n      <!-- −1.0 -->\r\n      <g transform=\"translate(110.023153 240.758125)scale(0.12 -0.12)\">\r\n       <use xlink:href=\"#DejaVuSans-8722\"/>\r\n       <use x=\"83.789062\" xlink:href=\"#DejaVuSans-49\"/>\r\n       <use x=\"147.412109\" xlink:href=\"#DejaVuSans-46\"/>\r\n       <use x=\"179.199219\" xlink:href=\"#DejaVuSans-48\"/>\r\n      </g>\r\n     </g>\r\n    </g>\r\n    <g id=\"xtick_4\">\r\n     <g id=\"line2d_4\">\r\n      <g>\r\n       <use style=\"stroke:#000000;stroke-width:0.8;\" x=\"162.638295\" xlink:href=\"#ma46f9c59eb\" y=\"224.64\"/>\r\n      </g>\r\n     </g>\r\n     <g id=\"text_4\">\r\n      <!-- −0.5 -->\r\n      <g transform=\"translate(148.068608 240.758125)scale(0.12 -0.12)\">\r\n       <use xlink:href=\"#DejaVuSans-8722\"/>\r\n       <use x=\"83.789062\" xlink:href=\"#DejaVuSans-48\"/>\r\n       <use x=\"147.412109\" xlink:href=\"#DejaVuSans-46\"/>\r\n       <use x=\"179.199219\" xlink:href=\"#DejaVuSans-53\"/>\r\n      </g>\r\n     </g>\r\n    </g>\r\n    <g id=\"xtick_5\">\r\n     <g id=\"line2d_5\">\r\n      <g>\r\n       <use style=\"stroke:#000000;stroke-width:0.8;\" x=\"200.68375\" xlink:href=\"#ma46f9c59eb\" y=\"224.64\"/>\r\n      </g>\r\n     </g>\r\n     <g id=\"text_5\">\r\n      <!-- 0.0 -->\r\n      <g transform=\"translate(191.141875 240.758125)scale(0.12 -0.12)\">\r\n       <use xlink:href=\"#DejaVuSans-48\"/>\r\n       <use x=\"63.623047\" xlink:href=\"#DejaVuSans-46\"/>\r\n       <use x=\"95.410156\" xlink:href=\"#DejaVuSans-48\"/>\r\n      </g>\r\n     </g>\r\n    </g>\r\n    <g id=\"xtick_6\">\r\n     <g id=\"line2d_6\">\r\n      <g>\r\n       <use style=\"stroke:#000000;stroke-width:0.8;\" x=\"238.729205\" xlink:href=\"#ma46f9c59eb\" y=\"224.64\"/>\r\n      </g>\r\n     </g>\r\n     <g id=\"text_6\">\r\n      <!-- 0.5 -->\r\n      <g transform=\"translate(229.18733 240.758125)scale(0.12 -0.12)\">\r\n       <use xlink:href=\"#DejaVuSans-48\"/>\r\n       <use x=\"63.623047\" xlink:href=\"#DejaVuSans-46\"/>\r\n       <use x=\"95.410156\" xlink:href=\"#DejaVuSans-53\"/>\r\n      </g>\r\n     </g>\r\n    </g>\r\n    <g id=\"xtick_7\">\r\n     <g id=\"line2d_7\">\r\n      <g>\r\n       <use style=\"stroke:#000000;stroke-width:0.8;\" x=\"276.774659\" xlink:href=\"#ma46f9c59eb\" y=\"224.64\"/>\r\n      </g>\r\n     </g>\r\n     <g id=\"text_7\">\r\n      <!-- 1.0 -->\r\n      <g transform=\"translate(267.232784 240.758125)scale(0.12 -0.12)\">\r\n       <use xlink:href=\"#DejaVuSans-49\"/>\r\n       <use x=\"63.623047\" xlink:href=\"#DejaVuSans-46\"/>\r\n       <use x=\"95.410156\" xlink:href=\"#DejaVuSans-48\"/>\r\n      </g>\r\n     </g>\r\n    </g>\r\n    <g id=\"xtick_8\">\r\n     <g id=\"line2d_8\">\r\n      <g>\r\n       <use style=\"stroke:#000000;stroke-width:0.8;\" x=\"314.820114\" xlink:href=\"#ma46f9c59eb\" y=\"224.64\"/>\r\n      </g>\r\n     </g>\r\n     <g id=\"text_8\">\r\n      <!-- 1.5 -->\r\n      <g transform=\"translate(305.278239 240.758125)scale(0.12 -0.12)\">\r\n       <use xlink:href=\"#DejaVuSans-49\"/>\r\n       <use x=\"63.623047\" xlink:href=\"#DejaVuSans-46\"/>\r\n       <use x=\"95.410156\" xlink:href=\"#DejaVuSans-53\"/>\r\n      </g>\r\n     </g>\r\n    </g>\r\n    <g id=\"xtick_9\">\r\n     <g id=\"line2d_9\">\r\n      <g>\r\n       <use style=\"stroke:#000000;stroke-width:0.8;\" x=\"352.865568\" xlink:href=\"#ma46f9c59eb\" y=\"224.64\"/>\r\n      </g>\r\n     </g>\r\n     <g id=\"text_9\">\r\n      <!-- 2.0 -->\r\n      <g transform=\"translate(343.323693 240.758125)scale(0.12 -0.12)\">\r\n       <use xlink:href=\"#DejaVuSans-50\"/>\r\n       <use x=\"63.623047\" xlink:href=\"#DejaVuSans-46\"/>\r\n       <use x=\"95.410156\" xlink:href=\"#DejaVuSans-48\"/>\r\n      </g>\r\n     </g>\r\n    </g>\r\n   </g>\r\n   <g id=\"matplotlib.axis_2\">\r\n    <g id=\"ytick_1\">\r\n     <g id=\"line2d_10\">\r\n      <defs>\r\n       <path d=\"M 0 0 \r\nL -3.5 0 \r\n\" id=\"mcbfde7765f\" style=\"stroke:#000000;stroke-width:0.8;\"/>\r\n      </defs>\r\n      <g>\r\n       <use style=\"stroke:#000000;stroke-width:0.8;\" x=\"33.28375\" xlink:href=\"#mcbfde7765f\" y=\"219.740506\"/>\r\n      </g>\r\n     </g>\r\n     <g id=\"text_10\">\r\n      <!-- 0.1 -->\r\n      <g transform=\"translate(7.2 224.299568)scale(0.12 -0.12)\">\r\n       <use xlink:href=\"#DejaVuSans-48\"/>\r\n       <use x=\"63.623047\" xlink:href=\"#DejaVuSans-46\"/>\r\n       <use x=\"95.410156\" xlink:href=\"#DejaVuSans-49\"/>\r\n      </g>\r\n     </g>\r\n    </g>\r\n    <g id=\"ytick_2\">\r\n     <g id=\"line2d_11\">\r\n      <g>\r\n       <use style=\"stroke:#000000;stroke-width:0.8;\" x=\"33.28375\" xlink:href=\"#mcbfde7765f\" y=\"193.785378\"/>\r\n      </g>\r\n     </g>\r\n     <g id=\"text_11\">\r\n      <!-- 0.2 -->\r\n      <g transform=\"translate(7.2 198.34444)scale(0.12 -0.12)\">\r\n       <use xlink:href=\"#DejaVuSans-48\"/>\r\n       <use x=\"63.623047\" xlink:href=\"#DejaVuSans-46\"/>\r\n       <use x=\"95.410156\" xlink:href=\"#DejaVuSans-50\"/>\r\n      </g>\r\n     </g>\r\n    </g>\r\n    <g id=\"ytick_3\">\r\n     <g id=\"line2d_12\">\r\n      <g>\r\n       <use style=\"stroke:#000000;stroke-width:0.8;\" x=\"33.28375\" xlink:href=\"#mcbfde7765f\" y=\"167.83025\"/>\r\n      </g>\r\n     </g>\r\n     <g id=\"text_12\">\r\n      <!-- 0.3 -->\r\n      <g transform=\"translate(7.2 172.389312)scale(0.12 -0.12)\">\r\n       <defs>\r\n        <path d=\"M 40.578125 39.3125 \r\nQ 47.65625 37.796875 51.625 33 \r\nQ 55.609375 28.21875 55.609375 21.1875 \r\nQ 55.609375 10.40625 48.1875 4.484375 \r\nQ 40.765625 -1.421875 27.09375 -1.421875 \r\nQ 22.515625 -1.421875 17.65625 -0.515625 \r\nQ 12.796875 0.390625 7.625 2.203125 \r\nL 7.625 11.71875 \r\nQ 11.71875 9.328125 16.59375 8.109375 \r\nQ 21.484375 6.890625 26.8125 6.890625 \r\nQ 36.078125 6.890625 40.9375 10.546875 \r\nQ 45.796875 14.203125 45.796875 21.1875 \r\nQ 45.796875 27.640625 41.28125 31.265625 \r\nQ 36.765625 34.90625 28.71875 34.90625 \r\nL 20.21875 34.90625 \r\nL 20.21875 43.015625 \r\nL 29.109375 43.015625 \r\nQ 36.375 43.015625 40.234375 45.921875 \r\nQ 44.09375 48.828125 44.09375 54.296875 \r\nQ 44.09375 59.90625 40.109375 62.90625 \r\nQ 36.140625 65.921875 28.71875 65.921875 \r\nQ 24.65625 65.921875 20.015625 65.03125 \r\nQ 15.375 64.15625 9.8125 62.3125 \r\nL 9.8125 71.09375 \r\nQ 15.4375 72.65625 20.34375 73.4375 \r\nQ 25.25 74.21875 29.59375 74.21875 \r\nQ 40.828125 74.21875 47.359375 69.109375 \r\nQ 53.90625 64.015625 53.90625 55.328125 \r\nQ 53.90625 49.265625 50.4375 45.09375 \r\nQ 46.96875 40.921875 40.578125 39.3125 \r\nz\r\n\" id=\"DejaVuSans-51\"/>\r\n       </defs>\r\n       <use xlink:href=\"#DejaVuSans-48\"/>\r\n       <use x=\"63.623047\" xlink:href=\"#DejaVuSans-46\"/>\r\n       <use x=\"95.410156\" xlink:href=\"#DejaVuSans-51\"/>\r\n      </g>\r\n     </g>\r\n    </g>\r\n    <g id=\"ytick_4\">\r\n     <g id=\"line2d_13\">\r\n      <g>\r\n       <use style=\"stroke:#000000;stroke-width:0.8;\" x=\"33.28375\" xlink:href=\"#mcbfde7765f\" y=\"141.875121\"/>\r\n      </g>\r\n     </g>\r\n     <g id=\"text_13\">\r\n      <!-- 0.4 -->\r\n      <g transform=\"translate(7.2 146.434184)scale(0.12 -0.12)\">\r\n       <defs>\r\n        <path d=\"M 37.796875 64.3125 \r\nL 12.890625 25.390625 \r\nL 37.796875 25.390625 \r\nz\r\nM 35.203125 72.90625 \r\nL 47.609375 72.90625 \r\nL 47.609375 25.390625 \r\nL 58.015625 25.390625 \r\nL 58.015625 17.1875 \r\nL 47.609375 17.1875 \r\nL 47.609375 0 \r\nL 37.796875 0 \r\nL 37.796875 17.1875 \r\nL 4.890625 17.1875 \r\nL 4.890625 26.703125 \r\nz\r\n\" id=\"DejaVuSans-52\"/>\r\n       </defs>\r\n       <use xlink:href=\"#DejaVuSans-48\"/>\r\n       <use x=\"63.623047\" xlink:href=\"#DejaVuSans-46\"/>\r\n       <use x=\"95.410156\" xlink:href=\"#DejaVuSans-52\"/>\r\n      </g>\r\n     </g>\r\n    </g>\r\n    <g id=\"ytick_5\">\r\n     <g id=\"line2d_14\">\r\n      <g>\r\n       <use style=\"stroke:#000000;stroke-width:0.8;\" x=\"33.28375\" xlink:href=\"#mcbfde7765f\" y=\"115.919993\"/>\r\n      </g>\r\n     </g>\r\n     <g id=\"text_14\">\r\n      <!-- 0.5 -->\r\n      <g transform=\"translate(7.2 120.479056)scale(0.12 -0.12)\">\r\n       <use xlink:href=\"#DejaVuSans-48\"/>\r\n       <use x=\"63.623047\" xlink:href=\"#DejaVuSans-46\"/>\r\n       <use x=\"95.410156\" xlink:href=\"#DejaVuSans-53\"/>\r\n      </g>\r\n     </g>\r\n    </g>\r\n    <g id=\"ytick_6\">\r\n     <g id=\"line2d_15\">\r\n      <g>\r\n       <use style=\"stroke:#000000;stroke-width:0.8;\" x=\"33.28375\" xlink:href=\"#mcbfde7765f\" y=\"89.964865\"/>\r\n      </g>\r\n     </g>\r\n     <g id=\"text_15\">\r\n      <!-- 0.6 -->\r\n      <g transform=\"translate(7.2 94.523928)scale(0.12 -0.12)\">\r\n       <defs>\r\n        <path d=\"M 33.015625 40.375 \r\nQ 26.375 40.375 22.484375 35.828125 \r\nQ 18.609375 31.296875 18.609375 23.390625 \r\nQ 18.609375 15.53125 22.484375 10.953125 \r\nQ 26.375 6.390625 33.015625 6.390625 \r\nQ 39.65625 6.390625 43.53125 10.953125 \r\nQ 47.40625 15.53125 47.40625 23.390625 \r\nQ 47.40625 31.296875 43.53125 35.828125 \r\nQ 39.65625 40.375 33.015625 40.375 \r\nz\r\nM 52.59375 71.296875 \r\nL 52.59375 62.3125 \r\nQ 48.875 64.0625 45.09375 64.984375 \r\nQ 41.3125 65.921875 37.59375 65.921875 \r\nQ 27.828125 65.921875 22.671875 59.328125 \r\nQ 17.53125 52.734375 16.796875 39.40625 \r\nQ 19.671875 43.65625 24.015625 45.921875 \r\nQ 28.375 48.1875 33.59375 48.1875 \r\nQ 44.578125 48.1875 50.953125 41.515625 \r\nQ 57.328125 34.859375 57.328125 23.390625 \r\nQ 57.328125 12.15625 50.6875 5.359375 \r\nQ 44.046875 -1.421875 33.015625 -1.421875 \r\nQ 20.359375 -1.421875 13.671875 8.265625 \r\nQ 6.984375 17.96875 6.984375 36.375 \r\nQ 6.984375 53.65625 15.1875 63.9375 \r\nQ 23.390625 74.21875 37.203125 74.21875 \r\nQ 40.921875 74.21875 44.703125 73.484375 \r\nQ 48.484375 72.75 52.59375 71.296875 \r\nz\r\n\" id=\"DejaVuSans-54\"/>\r\n       </defs>\r\n       <use xlink:href=\"#DejaVuSans-48\"/>\r\n       <use x=\"63.623047\" xlink:href=\"#DejaVuSans-46\"/>\r\n       <use x=\"95.410156\" xlink:href=\"#DejaVuSans-54\"/>\r\n      </g>\r\n     </g>\r\n    </g>\r\n    <g id=\"ytick_7\">\r\n     <g id=\"line2d_16\">\r\n      <g>\r\n       <use style=\"stroke:#000000;stroke-width:0.8;\" x=\"33.28375\" xlink:href=\"#mcbfde7765f\" y=\"64.009737\"/>\r\n      </g>\r\n     </g>\r\n     <g id=\"text_16\">\r\n      <!-- 0.7 -->\r\n      <g transform=\"translate(7.2 68.568799)scale(0.12 -0.12)\">\r\n       <defs>\r\n        <path d=\"M 8.203125 72.90625 \r\nL 55.078125 72.90625 \r\nL 55.078125 68.703125 \r\nL 28.609375 0 \r\nL 18.3125 0 \r\nL 43.21875 64.59375 \r\nL 8.203125 64.59375 \r\nz\r\n\" id=\"DejaVuSans-55\"/>\r\n       </defs>\r\n       <use xlink:href=\"#DejaVuSans-48\"/>\r\n       <use x=\"63.623047\" xlink:href=\"#DejaVuSans-46\"/>\r\n       <use x=\"95.410156\" xlink:href=\"#DejaVuSans-55\"/>\r\n      </g>\r\n     </g>\r\n    </g>\r\n    <g id=\"ytick_8\">\r\n     <g id=\"line2d_17\">\r\n      <g>\r\n       <use style=\"stroke:#000000;stroke-width:0.8;\" x=\"33.28375\" xlink:href=\"#mcbfde7765f\" y=\"38.054609\"/>\r\n      </g>\r\n     </g>\r\n     <g id=\"text_17\">\r\n      <!-- 0.8 -->\r\n      <g transform=\"translate(7.2 42.613671)scale(0.12 -0.12)\">\r\n       <defs>\r\n        <path d=\"M 31.78125 34.625 \r\nQ 24.75 34.625 20.71875 30.859375 \r\nQ 16.703125 27.09375 16.703125 20.515625 \r\nQ 16.703125 13.921875 20.71875 10.15625 \r\nQ 24.75 6.390625 31.78125 6.390625 \r\nQ 38.8125 6.390625 42.859375 10.171875 \r\nQ 46.921875 13.96875 46.921875 20.515625 \r\nQ 46.921875 27.09375 42.890625 30.859375 \r\nQ 38.875 34.625 31.78125 34.625 \r\nz\r\nM 21.921875 38.8125 \r\nQ 15.578125 40.375 12.03125 44.71875 \r\nQ 8.5 49.078125 8.5 55.328125 \r\nQ 8.5 64.0625 14.71875 69.140625 \r\nQ 20.953125 74.21875 31.78125 74.21875 \r\nQ 42.671875 74.21875 48.875 69.140625 \r\nQ 55.078125 64.0625 55.078125 55.328125 \r\nQ 55.078125 49.078125 51.53125 44.71875 \r\nQ 48 40.375 41.703125 38.8125 \r\nQ 48.828125 37.15625 52.796875 32.3125 \r\nQ 56.78125 27.484375 56.78125 20.515625 \r\nQ 56.78125 9.90625 50.3125 4.234375 \r\nQ 43.84375 -1.421875 31.78125 -1.421875 \r\nQ 19.734375 -1.421875 13.25 4.234375 \r\nQ 6.78125 9.90625 6.78125 20.515625 \r\nQ 6.78125 27.484375 10.78125 32.3125 \r\nQ 14.796875 37.15625 21.921875 38.8125 \r\nz\r\nM 18.3125 54.390625 \r\nQ 18.3125 48.734375 21.84375 45.5625 \r\nQ 25.390625 42.390625 31.78125 42.390625 \r\nQ 38.140625 42.390625 41.71875 45.5625 \r\nQ 45.3125 48.734375 45.3125 54.390625 \r\nQ 45.3125 60.0625 41.71875 63.234375 \r\nQ 38.140625 66.40625 31.78125 66.40625 \r\nQ 25.390625 66.40625 21.84375 63.234375 \r\nQ 18.3125 60.0625 18.3125 54.390625 \r\nz\r\n\" id=\"DejaVuSans-56\"/>\r\n       </defs>\r\n       <use xlink:href=\"#DejaVuSans-48\"/>\r\n       <use x=\"63.623047\" xlink:href=\"#DejaVuSans-46\"/>\r\n       <use x=\"95.410156\" xlink:href=\"#DejaVuSans-56\"/>\r\n      </g>\r\n     </g>\r\n    </g>\r\n    <g id=\"ytick_9\">\r\n     <g id=\"line2d_18\">\r\n      <g>\r\n       <use style=\"stroke:#000000;stroke-width:0.8;\" x=\"33.28375\" xlink:href=\"#mcbfde7765f\" y=\"12.099481\"/>\r\n      </g>\r\n     </g>\r\n     <g id=\"text_18\">\r\n      <!-- 0.9 -->\r\n      <g transform=\"translate(7.2 16.658543)scale(0.12 -0.12)\">\r\n       <defs>\r\n        <path d=\"M 10.984375 1.515625 \r\nL 10.984375 10.5 \r\nQ 14.703125 8.734375 18.5 7.8125 \r\nQ 22.3125 6.890625 25.984375 6.890625 \r\nQ 35.75 6.890625 40.890625 13.453125 \r\nQ 46.046875 20.015625 46.78125 33.40625 \r\nQ 43.953125 29.203125 39.59375 26.953125 \r\nQ 35.25 24.703125 29.984375 24.703125 \r\nQ 19.046875 24.703125 12.671875 31.3125 \r\nQ 6.296875 37.9375 6.296875 49.421875 \r\nQ 6.296875 60.640625 12.9375 67.421875 \r\nQ 19.578125 74.21875 30.609375 74.21875 \r\nQ 43.265625 74.21875 49.921875 64.515625 \r\nQ 56.59375 54.828125 56.59375 36.375 \r\nQ 56.59375 19.140625 48.40625 8.859375 \r\nQ 40.234375 -1.421875 26.421875 -1.421875 \r\nQ 22.703125 -1.421875 18.890625 -0.6875 \r\nQ 15.09375 0.046875 10.984375 1.515625 \r\nz\r\nM 30.609375 32.421875 \r\nQ 37.25 32.421875 41.125 36.953125 \r\nQ 45.015625 41.5 45.015625 49.421875 \r\nQ 45.015625 57.28125 41.125 61.84375 \r\nQ 37.25 66.40625 30.609375 66.40625 \r\nQ 23.96875 66.40625 20.09375 61.84375 \r\nQ 16.21875 57.28125 16.21875 49.421875 \r\nQ 16.21875 41.5 20.09375 36.953125 \r\nQ 23.96875 32.421875 30.609375 32.421875 \r\nz\r\n\" id=\"DejaVuSans-57\"/>\r\n       </defs>\r\n       <use xlink:href=\"#DejaVuSans-48\"/>\r\n       <use x=\"63.623047\" xlink:href=\"#DejaVuSans-46\"/>\r\n       <use x=\"95.410156\" xlink:href=\"#DejaVuSans-57\"/>\r\n      </g>\r\n     </g>\r\n    </g>\r\n   </g>\r\n   <g id=\"line2d_19\">\r\n    <path clip-path=\"url(#pe8415da087)\" d=\"M 48.501932 214.756364 \r\nL 51.576315 213.63825 \r\nL 54.650689 212.485607 \r\nL 57.725073 211.297781 \r\nL 60.799456 210.074153 \r\nL 63.87383 208.814134 \r\nL 66.948213 207.517141 \r\nL 70.022597 206.182632 \r\nL 73.096971 204.810088 \r\nL 76.171354 203.399035 \r\nL 79.245728 201.949024 \r\nL 82.320112 200.459659 \r\nL 85.394495 198.930566 \r\nL 88.468869 197.361452 \r\nL 91.543252 195.75204 \r\nL 94.617627 194.102139 \r\nL 97.69201 192.411577 \r\nL 100.766393 190.680281 \r\nL 103.840767 188.908221 \r\nL 106.915151 187.095431 \r\nL 109.989534 185.242027 \r\nL 113.063908 183.348191 \r\nL 116.138291 181.414182 \r\nL 119.212675 179.440333 \r\nL 122.287058 177.427061 \r\nL 125.361437 175.374874 \r\nL 128.43582 173.28435 \r\nL 131.510199 171.156164 \r\nL 134.584577 168.991065 \r\nL 137.658956 166.789897 \r\nL 140.73334 164.553587 \r\nL 143.807718 162.283173 \r\nL 146.882097 159.979753 \r\nL 149.956476 157.644518 \r\nL 153.030859 155.278751 \r\nL 156.105238 152.883816 \r\nL 159.179617 150.461172 \r\nL 162.253995 148.012337 \r\nL 165.328379 145.538912 \r\nL 168.402757 143.042583 \r\nL 171.477136 140.525082 \r\nL 174.551517 137.98822 \r\nL 177.625896 135.433869 \r\nL 180.700277 132.863963 \r\nL 183.774657 130.280465 \r\nL 186.849037 127.685388 \r\nL 189.923418 125.080796 \r\nL 192.997796 122.468756 \r\nL 196.072184 119.851378 \r\nL 199.146564 117.230813 \r\nL 202.220944 114.609166 \r\nL 205.295325 111.988593 \r\nL 208.369705 109.371238 \r\nL 211.444085 106.759206 \r\nL 214.518466 104.154599 \r\nL 217.592844 101.559521 \r\nL 220.667223 98.976032 \r\nL 223.741604 96.406109 \r\nL 226.815983 93.851766 \r\nL 229.890364 91.314904 \r\nL 232.964743 88.797396 \r\nL 236.039124 86.301067 \r\nL 239.113505 83.827649 \r\nL 242.187883 81.378814 \r\nL 245.262262 78.956171 \r\nL 248.336641 76.561235 \r\nL 251.411024 74.195477 \r\nL 254.485403 71.860241 \r\nL 257.559782 69.556813 \r\nL 260.63416 67.286384 \r\nL 263.708544 65.050082 \r\nL 266.782923 62.848914 \r\nL 269.857301 60.683823 \r\nL 272.93168 58.555629 \r\nL 276.006063 56.465105 \r\nL 279.080442 54.412917 \r\nL 282.154825 52.399653 \r\nL 285.2292 50.425808 \r\nL 288.303583 48.491799 \r\nL 291.377957 46.597967 \r\nL 294.45234 44.744559 \r\nL 297.526724 42.931762 \r\nL 300.601098 41.159697 \r\nL 303.675481 39.428398 \r\nL 306.749864 37.737848 \r\nL 309.824239 36.087939 \r\nL 312.898622 34.478546 \r\nL 315.973005 32.909408 \r\nL 319.047388 31.380323 \r\nL 322.121772 29.890951 \r\nL 325.196146 28.440936 \r\nL 328.270529 27.029906 \r\nL 331.344912 25.657351 \r\nL 334.419287 24.322853 \r\nL 337.49367 23.025856 \r\nL 340.568053 21.765834 \r\nL 343.642427 20.542213 \r\nL 346.716811 19.354375 \r\nL 349.791185 18.201749 \r\nL 352.865568 17.083636 \r\n\" style=\"fill:none;stroke:#1f77b4;stroke-linecap:square;stroke-width:1.5;\"/>\r\n   </g>\r\n   <g id=\"patch_3\">\r\n    <path d=\"M 33.28375 224.64 \r\nL 33.28375 7.2 \r\n\" style=\"fill:none;stroke:#000000;stroke-linecap:square;stroke-linejoin:miter;stroke-width:0.8;\"/>\r\n   </g>\r\n   <g id=\"patch_4\">\r\n    <path d=\"M 368.08375 224.64 \r\nL 368.08375 7.2 \r\n\" style=\"fill:none;stroke:#000000;stroke-linecap:square;stroke-linejoin:miter;stroke-width:0.8;\"/>\r\n   </g>\r\n   <g id=\"patch_5\">\r\n    <path d=\"M 33.28375 224.64 \r\nL 368.08375 224.64 \r\n\" style=\"fill:none;stroke:#000000;stroke-linecap:square;stroke-linejoin:miter;stroke-width:0.8;\"/>\r\n   </g>\r\n   <g id=\"patch_6\">\r\n    <path d=\"M 33.28375 7.2 \r\nL 368.08375 7.2 \r\n\" style=\"fill:none;stroke:#000000;stroke-linecap:square;stroke-linejoin:miter;stroke-width:0.8;\"/>\r\n   </g>\r\n  </g>\r\n </g>\r\n <defs>\r\n  <clipPath id=\"pe8415da087\">\r\n   <rect height=\"217.44\" width=\"334.8\" x=\"33.28375\" y=\"7.2\"/>\r\n  </clipPath>\r\n </defs>\r\n</svg>\r\n",
      "image/png": "[encoded data removed]"
     },
     "metadata": {
      "needs_background": "light"
     }
    }
   ],
   "source": [
    "from fastai.vision.all import *\n",
    "from fastbook import *\n",
    "\n",
    "plot_function(F.sigmoid)"
   ]
  }
 ]
}