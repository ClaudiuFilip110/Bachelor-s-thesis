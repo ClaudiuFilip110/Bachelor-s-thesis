{
 "metadata": {
  "language_info": {
   "codemirror_mode": {
    "name": "ipython",
    "version": 3
   },
   "file_extension": ".py",
   "mimetype": "text/x-python",
   "name": "python",
   "nbconvert_exporter": "python",
   "pygments_lexer": "ipython3",
   "version": "3.8.6-final"
  },
  "orig_nbformat": 2,
  "kernelspec": {
   "name": "python3",
   "display_name": "Python 3.8.6 64-bit",
   "metadata": {
    "interpreter": {
     "hash": "b9a242c6537588eb330d6ba27f8e10bfddd67786fd8e8be485b429576a694def"
    }
   }
  }
 },
 "nbformat": 4,
 "nbformat_minor": 2,
 "cells": [
  {
   "source": [
    "## Imports"
   ],
   "cell_type": "markdown",
   "metadata": {}
  },
  {
   "cell_type": "code",
   "execution_count": 64,
   "metadata": {},
   "outputs": [],
   "source": [
    "import pandas as pd\n",
    "\n",
    "from sklearn import preprocessing\n",
    "from collections import deque\n",
    "import numpy as np\n",
    "import random\n",
    "import time\n",
    "\n",
    "import tensorflow as tf\n",
    "from tensorflow.keras.models import Sequential \n",
    "from tensorflow.keras.layers import Dense, Dropout, LSTM, BatchNormalization\n",
    "from tensorflow.keras.callbacks import TensorBoard, ModelCheckpoint\n",
    "from tensorflow.keras.optimizers import SGD, Adam\n",
    "# pt CuDNNLSTM look at this https://stackoverflow.com/questions/60468385/is-there-cudnnlstm-or-cudnngru-alternative-in-tensorflow-2-0\n",
    "\n",
    "from tensorflow.compat.v1 import ConfigProto\n",
    "from tensorflow.compat.v1 import InteractiveSession"
   ]
  },
  {
   "source": [
    "The next steps are as follow:\n",
    "### 1. create the main dataframe\n",
    "### 2. load the data"
   ],
   "cell_type": "markdown",
   "metadata": {}
  },
  {
   "cell_type": "code",
   "execution_count": 65,
   "metadata": {},
   "outputs": [],
   "source": [
    "main_df = pd.DataFrame()\n",
    "\n",
    "ratios = [\"BCH-USD\", \"BTC-USD\", \"ETH-USD\", \"LTC-USD\"]\n",
    "\n",
    "for ratio in ratios:\n",
    "    dataset = pd.read_csv(\n",
    "        f\"crypto_data/{ratio}.csv\",\n",
    "        names=[\"time\", \"low\", \"high\", \"open\", \"close\", \"volume\"],\n",
    "    )\n",
    "    # we only need the close and volume\n",
    "    dataset.rename(\n",
    "        columns={\"close\": f\"{ratio}-close\", \"volume\": f\"{ratio}-volume\"}, inplace=True\n",
    "    )\n",
    "    # print(dataset.head())\n",
    "\n",
    "    # set the time as the index\n",
    "    dataset.set_index(\"time\", inplace=True)\n",
    "\n",
    "    # drop the ones we don't need\n",
    "    dataset.drop([\"low\", \"high\", \"open\"], axis=1, inplace=True)\n",
    "\n",
    "    # merge all the columns on the index\n",
    "    if main_df.empty:\n",
    "        main_df = dataset\n",
    "    else:\n",
    "        main_df = main_df.join(dataset)"
   ]
  },
  {
   "cell_type": "code",
   "execution_count": 66,
   "metadata": {},
   "outputs": [
    {
     "output_type": "execute_result",
     "data": {
      "text/plain": [
       "            BCH-USD-close  BCH-USD-volume  BTC-USD-close  BTC-USD-volume  \\\n",
       "time                                                                       \n",
       "1528968660     871.719971        5.675361    6489.549805        0.587100   \n",
       "1528968720     870.859985       26.856577    6487.379883        7.706374   \n",
       "1528968780     870.099976        1.124300    6479.410156        3.088252   \n",
       "1528968840     870.789978        1.749862    6479.410156        1.404100   \n",
       "1528968900     870.000000        1.680500    6479.979980        0.753000   \n",
       "\n",
       "            ETH-USD-close  ETH-USD-volume  LTC-USD-close  LTC-USD-volume  \n",
       "time                                                                      \n",
       "1528968660            NaN             NaN      96.580002        9.647200  \n",
       "1528968720      486.01001       26.019083      96.660004      314.387024  \n",
       "1528968780      486.00000        8.449400      96.570000       77.129799  \n",
       "1528968840      485.75000       26.994646      96.500000        7.216067  \n",
       "1528968900      486.00000       77.355759      96.389999      524.539978  "
      ],
      "text/html": "<div>\n<style scoped>\n    .dataframe tbody tr th:only-of-type {\n        vertical-align: middle;\n    }\n\n    .dataframe tbody tr th {\n        vertical-align: top;\n    }\n\n    .dataframe thead th {\n        text-align: right;\n    }\n</style>\n<table border=\"1\" class=\"dataframe\">\n  <thead>\n    <tr style=\"text-align: right;\">\n      <th></th>\n      <th>BCH-USD-close</th>\n      <th>BCH-USD-volume</th>\n      <th>BTC-USD-close</th>\n      <th>BTC-USD-volume</th>\n      <th>ETH-USD-close</th>\n      <th>ETH-USD-volume</th>\n      <th>LTC-USD-close</th>\n      <th>LTC-USD-volume</th>\n    </tr>\n    <tr>\n      <th>time</th>\n      <th></th>\n      <th></th>\n      <th></th>\n      <th></th>\n      <th></th>\n      <th></th>\n      <th></th>\n      <th></th>\n    </tr>\n  </thead>\n  <tbody>\n    <tr>\n      <th>1528968660</th>\n      <td>871.719971</td>\n      <td>5.675361</td>\n      <td>6489.549805</td>\n      <td>0.587100</td>\n      <td>NaN</td>\n      <td>NaN</td>\n      <td>96.580002</td>\n      <td>9.647200</td>\n    </tr>\n    <tr>\n      <th>1528968720</th>\n      <td>870.859985</td>\n      <td>26.856577</td>\n      <td>6487.379883</td>\n      <td>7.706374</td>\n      <td>486.01001</td>\n      <td>26.019083</td>\n      <td>96.660004</td>\n      <td>314.387024</td>\n    </tr>\n    <tr>\n      <th>1528968780</th>\n      <td>870.099976</td>\n      <td>1.124300</td>\n      <td>6479.410156</td>\n      <td>3.088252</td>\n      <td>486.00000</td>\n      <td>8.449400</td>\n      <td>96.570000</td>\n      <td>77.129799</td>\n    </tr>\n    <tr>\n      <th>1528968840</th>\n      <td>870.789978</td>\n      <td>1.749862</td>\n      <td>6479.410156</td>\n      <td>1.404100</td>\n      <td>485.75000</td>\n      <td>26.994646</td>\n      <td>96.500000</td>\n      <td>7.216067</td>\n    </tr>\n    <tr>\n      <th>1528968900</th>\n      <td>870.000000</td>\n      <td>1.680500</td>\n      <td>6479.979980</td>\n      <td>0.753000</td>\n      <td>486.00000</td>\n      <td>77.355759</td>\n      <td>96.389999</td>\n      <td>524.539978</td>\n    </tr>\n  </tbody>\n</table>\n</div>"
     },
     "metadata": {},
     "execution_count": 66
    }
   ],
   "source": [
    "main_df.head()"
   ]
  },
  {
   "cell_type": "code",
   "execution_count": 67,
   "metadata": {},
   "outputs": [
    {
     "output_type": "execute_result",
     "data": {
      "text/plain": [
       "array(['BCH-USD-close', 'BCH-USD-volume', 'BTC-USD-close',\n",
       "       'BTC-USD-volume', 'ETH-USD-close', 'ETH-USD-volume',\n",
       "       'LTC-USD-close', 'LTC-USD-volume'], dtype=object)"
      ]
     },
     "metadata": {},
     "execution_count": 67
    }
   ],
   "source": [
    "main_df.columns.values"
   ]
  },
  {
   "source": [
    "## Define the parameters of the dataset."
   ],
   "cell_type": "markdown",
   "metadata": {}
  },
  {
   "cell_type": "code",
   "execution_count": 68,
   "metadata": {},
   "outputs": [],
   "source": [
    "SEQ_LEN = 60\n",
    "FUTURE_PRED = 100\n",
    "COIN = \"LTC-USD\"\n",
    "VAL_PCT = 0.20"
   ]
  },
  {
   "source": [
    "## Create a classifier that specifies when to buy/sell\n"
   ],
   "cell_type": "markdown",
   "metadata": {}
  },
  {
   "cell_type": "code",
   "execution_count": 69,
   "metadata": {},
   "outputs": [],
   "source": [
    "def classify(current, future):\n",
    "    if float(current) <= float(future):\n",
    "        return 1 # when the price is higher we buy\n",
    "    else:\n",
    "        return 0 # when the price is lower we sell"
   ]
  },
  {
   "source": [
    "## Let's do some feature engineering\n",
    "- add a 'future' column\n",
    "- add a 'target' column"
   ],
   "cell_type": "markdown",
   "metadata": {}
  },
  {
   "cell_type": "code",
   "execution_count": 70,
   "metadata": {},
   "outputs": [
    {
     "output_type": "execute_result",
     "data": {
      "text/plain": [
       "            LTC-USD-close     future\n",
       "time                                \n",
       "1528968660      96.580002  96.739998\n",
       "1528968720      96.660004  96.739998\n",
       "1528968780      96.570000  96.790001\n",
       "1528968840      96.500000  96.730003\n",
       "1528968900      96.389999  96.760002"
      ],
      "text/html": "<div>\n<style scoped>\n    .dataframe tbody tr th:only-of-type {\n        vertical-align: middle;\n    }\n\n    .dataframe tbody tr th {\n        vertical-align: top;\n    }\n\n    .dataframe thead th {\n        text-align: right;\n    }\n</style>\n<table border=\"1\" class=\"dataframe\">\n  <thead>\n    <tr style=\"text-align: right;\">\n      <th></th>\n      <th>LTC-USD-close</th>\n      <th>future</th>\n    </tr>\n    <tr>\n      <th>time</th>\n      <th></th>\n      <th></th>\n    </tr>\n  </thead>\n  <tbody>\n    <tr>\n      <th>1528968660</th>\n      <td>96.580002</td>\n      <td>96.739998</td>\n    </tr>\n    <tr>\n      <th>1528968720</th>\n      <td>96.660004</td>\n      <td>96.739998</td>\n    </tr>\n    <tr>\n      <th>1528968780</th>\n      <td>96.570000</td>\n      <td>96.790001</td>\n    </tr>\n    <tr>\n      <th>1528968840</th>\n      <td>96.500000</td>\n      <td>96.730003</td>\n    </tr>\n    <tr>\n      <th>1528968900</th>\n      <td>96.389999</td>\n      <td>96.760002</td>\n    </tr>\n  </tbody>\n</table>\n</div>"
     },
     "metadata": {},
     "execution_count": 70
    }
   ],
   "source": [
    "main_df[\"future\"] = main_df[f\"{COIN}-close\"].shift(-FUTURE_PRED)\n",
    "main_df[[f'{COIN}-close', 'future']].head()"
   ]
  },
  {
   "cell_type": "code",
   "execution_count": 71,
   "metadata": {},
   "outputs": [
    {
     "output_type": "execute_result",
     "data": {
      "text/plain": [
       "            BCH-USD-close  BCH-USD-volume  BTC-USD-close  BTC-USD-volume  \\\n",
       "time                                                                       \n",
       "1528968660     871.719971        5.675361    6489.549805        0.587100   \n",
       "1528968720     870.859985       26.856577    6487.379883        7.706374   \n",
       "1528968780     870.099976        1.124300    6479.410156        3.088252   \n",
       "1528968840     870.789978        1.749862    6479.410156        1.404100   \n",
       "1528968900     870.000000        1.680500    6479.979980        0.753000   \n",
       "\n",
       "            ETH-USD-close  ETH-USD-volume  LTC-USD-close  LTC-USD-volume  \\\n",
       "time                                                                       \n",
       "1528968660            NaN             NaN      96.580002        9.647200   \n",
       "1528968720      486.01001       26.019083      96.660004      314.387024   \n",
       "1528968780      486.00000        8.449400      96.570000       77.129799   \n",
       "1528968840      485.75000       26.994646      96.500000        7.216067   \n",
       "1528968900      486.00000       77.355759      96.389999      524.539978   \n",
       "\n",
       "               future  target  \n",
       "time                           \n",
       "1528968660  96.739998       1  \n",
       "1528968720  96.739998       1  \n",
       "1528968780  96.790001       1  \n",
       "1528968840  96.730003       1  \n",
       "1528968900  96.760002       1  "
      ],
      "text/html": "<div>\n<style scoped>\n    .dataframe tbody tr th:only-of-type {\n        vertical-align: middle;\n    }\n\n    .dataframe tbody tr th {\n        vertical-align: top;\n    }\n\n    .dataframe thead th {\n        text-align: right;\n    }\n</style>\n<table border=\"1\" class=\"dataframe\">\n  <thead>\n    <tr style=\"text-align: right;\">\n      <th></th>\n      <th>BCH-USD-close</th>\n      <th>BCH-USD-volume</th>\n      <th>BTC-USD-close</th>\n      <th>BTC-USD-volume</th>\n      <th>ETH-USD-close</th>\n      <th>ETH-USD-volume</th>\n      <th>LTC-USD-close</th>\n      <th>LTC-USD-volume</th>\n      <th>future</th>\n      <th>target</th>\n    </tr>\n    <tr>\n      <th>time</th>\n      <th></th>\n      <th></th>\n      <th></th>\n      <th></th>\n      <th></th>\n      <th></th>\n      <th></th>\n      <th></th>\n      <th></th>\n      <th></th>\n    </tr>\n  </thead>\n  <tbody>\n    <tr>\n      <th>1528968660</th>\n      <td>871.719971</td>\n      <td>5.675361</td>\n      <td>6489.549805</td>\n      <td>0.587100</td>\n      <td>NaN</td>\n      <td>NaN</td>\n      <td>96.580002</td>\n      <td>9.647200</td>\n      <td>96.739998</td>\n      <td>1</td>\n    </tr>\n    <tr>\n      <th>1528968720</th>\n      <td>870.859985</td>\n      <td>26.856577</td>\n      <td>6487.379883</td>\n      <td>7.706374</td>\n      <td>486.01001</td>\n      <td>26.019083</td>\n      <td>96.660004</td>\n      <td>314.387024</td>\n      <td>96.739998</td>\n      <td>1</td>\n    </tr>\n    <tr>\n      <th>1528968780</th>\n      <td>870.099976</td>\n      <td>1.124300</td>\n      <td>6479.410156</td>\n      <td>3.088252</td>\n      <td>486.00000</td>\n      <td>8.449400</td>\n      <td>96.570000</td>\n      <td>77.129799</td>\n      <td>96.790001</td>\n      <td>1</td>\n    </tr>\n    <tr>\n      <th>1528968840</th>\n      <td>870.789978</td>\n      <td>1.749862</td>\n      <td>6479.410156</td>\n      <td>1.404100</td>\n      <td>485.75000</td>\n      <td>26.994646</td>\n      <td>96.500000</td>\n      <td>7.216067</td>\n      <td>96.730003</td>\n      <td>1</td>\n    </tr>\n    <tr>\n      <th>1528968900</th>\n      <td>870.000000</td>\n      <td>1.680500</td>\n      <td>6479.979980</td>\n      <td>0.753000</td>\n      <td>486.00000</td>\n      <td>77.355759</td>\n      <td>96.389999</td>\n      <td>524.539978</td>\n      <td>96.760002</td>\n      <td>1</td>\n    </tr>\n  </tbody>\n</table>\n</div>"
     },
     "metadata": {},
     "execution_count": 71
    }
   ],
   "source": [
    "main_df[\"target\"] = list(\n",
    "    map(classify, main_df[f\"{COIN}-close\"], main_df[\"future\"])\n",
    ")\n",
    "main_df.head()"
   ]
  },
  {
   "source": [
    "## Split the data into training and validation sets"
   ],
   "cell_type": "markdown",
   "metadata": {}
  },
  {
   "cell_type": "code",
   "execution_count": 72,
   "metadata": {},
   "outputs": [
    {
     "output_type": "execute_result",
     "data": {
      "text/plain": [
       "Empty DataFrame\n",
       "Columns: [BCH-USD-close, BCH-USD-volume, BTC-USD-close, BTC-USD-volume, ETH-USD-close, ETH-USD-volume, LTC-USD-close, LTC-USD-volume, future, target]\n",
       "Index: []"
      ],
      "text/html": "<div>\n<style scoped>\n    .dataframe tbody tr th:only-of-type {\n        vertical-align: middle;\n    }\n\n    .dataframe tbody tr th {\n        vertical-align: top;\n    }\n\n    .dataframe thead th {\n        text-align: right;\n    }\n</style>\n<table border=\"1\" class=\"dataframe\">\n  <thead>\n    <tr style=\"text-align: right;\">\n      <th></th>\n      <th>BCH-USD-close</th>\n      <th>BCH-USD-volume</th>\n      <th>BTC-USD-close</th>\n      <th>BTC-USD-volume</th>\n      <th>ETH-USD-close</th>\n      <th>ETH-USD-volume</th>\n      <th>LTC-USD-close</th>\n      <th>LTC-USD-volume</th>\n      <th>future</th>\n      <th>target</th>\n    </tr>\n    <tr>\n      <th>time</th>\n      <th></th>\n      <th></th>\n      <th></th>\n      <th></th>\n      <th></th>\n      <th></th>\n      <th></th>\n      <th></th>\n      <th></th>\n      <th></th>\n    </tr>\n  </thead>\n  <tbody>\n  </tbody>\n</table>\n</div>"
     },
     "metadata": {},
     "execution_count": 72
    }
   ],
   "source": [
    "times = main_df.index.values\n",
    "last_x_pct = main_df.index.values[-int(VAL_PCT * len(times))]\n",
    "\n",
    "validation_main_df = main_df[main_df.index >= last_x_pct]\n",
    "main_df = main_df[main_df.index < last_x_pct]\n",
    "\n",
    "main_df.loc[main_df.index == last_x_pct] #the splitting place"
   ]
  },
  {
   "cell_type": "code",
   "execution_count": 73,
   "metadata": {},
   "outputs": [
    {
     "output_type": "execute_result",
     "data": {
      "text/plain": [
       "       BCH-USD-close  BCH-USD-volume  BTC-USD-close  BTC-USD-volume  \\\n",
       "count   73780.000000    73780.000000   68659.000000    68659.000000   \n",
       "mean      762.449577       11.751972    6868.055547        6.258522   \n",
       "std        73.228726       34.029166     682.278698       16.738563   \n",
       "min       559.479980        0.000002    5778.109863        0.001915   \n",
       "25%       708.580017        0.420771    6350.584961        0.864259   \n",
       "50%       759.000000        2.020262    6635.700195        2.077186   \n",
       "75%       819.140015        9.129493    7415.069824        5.135763   \n",
       "max       927.000000     1520.833862    8482.799805      471.660889   \n",
       "\n",
       "       ETH-USD-close  ETH-USD-volume  LTC-USD-close  LTC-USD-volume  \\\n",
       "count   73625.000000    73625.000000   73107.000000    73107.000000   \n",
       "mean      455.072312       49.440810      82.332467      118.398840   \n",
       "std        38.534674      129.805149       8.303777      272.419967   \n",
       "min       326.320007        0.000030      58.290001        0.009593   \n",
       "25%       434.299988        5.499268      77.279999       12.922469   \n",
       "50%       461.700012       14.897300      82.339996       35.887356   \n",
       "75%       475.200012       42.180565      86.150002      106.874336   \n",
       "max       547.000000     9310.024414     103.040001    10263.191406   \n",
       "\n",
       "             future        target  \n",
       "count  73107.000000  73780.000000  \n",
       "mean      82.279219      0.458430  \n",
       "std        8.336447      0.498272  \n",
       "min       56.619999      0.000000  \n",
       "25%       77.260002      0.000000  \n",
       "50%       82.309998      0.000000  \n",
       "75%       86.120003      1.000000  \n",
       "max      103.040001      1.000000  "
      ],
      "text/html": "<div>\n<style scoped>\n    .dataframe tbody tr th:only-of-type {\n        vertical-align: middle;\n    }\n\n    .dataframe tbody tr th {\n        vertical-align: top;\n    }\n\n    .dataframe thead th {\n        text-align: right;\n    }\n</style>\n<table border=\"1\" class=\"dataframe\">\n  <thead>\n    <tr style=\"text-align: right;\">\n      <th></th>\n      <th>BCH-USD-close</th>\n      <th>BCH-USD-volume</th>\n      <th>BTC-USD-close</th>\n      <th>BTC-USD-volume</th>\n      <th>ETH-USD-close</th>\n      <th>ETH-USD-volume</th>\n      <th>LTC-USD-close</th>\n      <th>LTC-USD-volume</th>\n      <th>future</th>\n      <th>target</th>\n    </tr>\n  </thead>\n  <tbody>\n    <tr>\n      <th>count</th>\n      <td>73780.000000</td>\n      <td>73780.000000</td>\n      <td>68659.000000</td>\n      <td>68659.000000</td>\n      <td>73625.000000</td>\n      <td>73625.000000</td>\n      <td>73107.000000</td>\n      <td>73107.000000</td>\n      <td>73107.000000</td>\n      <td>73780.000000</td>\n    </tr>\n    <tr>\n      <th>mean</th>\n      <td>762.449577</td>\n      <td>11.751972</td>\n      <td>6868.055547</td>\n      <td>6.258522</td>\n      <td>455.072312</td>\n      <td>49.440810</td>\n      <td>82.332467</td>\n      <td>118.398840</td>\n      <td>82.279219</td>\n      <td>0.458430</td>\n    </tr>\n    <tr>\n      <th>std</th>\n      <td>73.228726</td>\n      <td>34.029166</td>\n      <td>682.278698</td>\n      <td>16.738563</td>\n      <td>38.534674</td>\n      <td>129.805149</td>\n      <td>8.303777</td>\n      <td>272.419967</td>\n      <td>8.336447</td>\n      <td>0.498272</td>\n    </tr>\n    <tr>\n      <th>min</th>\n      <td>559.479980</td>\n      <td>0.000002</td>\n      <td>5778.109863</td>\n      <td>0.001915</td>\n      <td>326.320007</td>\n      <td>0.000030</td>\n      <td>58.290001</td>\n      <td>0.009593</td>\n      <td>56.619999</td>\n      <td>0.000000</td>\n    </tr>\n    <tr>\n      <th>25%</th>\n      <td>708.580017</td>\n      <td>0.420771</td>\n      <td>6350.584961</td>\n      <td>0.864259</td>\n      <td>434.299988</td>\n      <td>5.499268</td>\n      <td>77.279999</td>\n      <td>12.922469</td>\n      <td>77.260002</td>\n      <td>0.000000</td>\n    </tr>\n    <tr>\n      <th>50%</th>\n      <td>759.000000</td>\n      <td>2.020262</td>\n      <td>6635.700195</td>\n      <td>2.077186</td>\n      <td>461.700012</td>\n      <td>14.897300</td>\n      <td>82.339996</td>\n      <td>35.887356</td>\n      <td>82.309998</td>\n      <td>0.000000</td>\n    </tr>\n    <tr>\n      <th>75%</th>\n      <td>819.140015</td>\n      <td>9.129493</td>\n      <td>7415.069824</td>\n      <td>5.135763</td>\n      <td>475.200012</td>\n      <td>42.180565</td>\n      <td>86.150002</td>\n      <td>106.874336</td>\n      <td>86.120003</td>\n      <td>1.000000</td>\n    </tr>\n    <tr>\n      <th>max</th>\n      <td>927.000000</td>\n      <td>1520.833862</td>\n      <td>8482.799805</td>\n      <td>471.660889</td>\n      <td>547.000000</td>\n      <td>9310.024414</td>\n      <td>103.040001</td>\n      <td>10263.191406</td>\n      <td>103.040001</td>\n      <td>1.000000</td>\n    </tr>\n  </tbody>\n</table>\n</div>"
     },
     "metadata": {},
     "execution_count": 73
    }
   ],
   "source": [
    "main_df.describe()"
   ]
  },
  {
   "cell_type": "code",
   "execution_count": 74,
   "metadata": {},
   "outputs": [
    {
     "output_type": "stream",
     "name": "stdout",
     "text": [
      "0.912%\n"
     ]
    }
   ],
   "source": [
    "missing_target_values_pct = main_df['future'].isna().sum() * 100 /len(main_df['future'])\n",
    "print(f'{missing_target_values_pct:0.3}%')"
   ]
  },
  {
   "source": [
    "There are 6% missing values in the target column alone."
   ],
   "cell_type": "markdown",
   "metadata": {}
  },
  {
   "cell_type": "code",
   "execution_count": 75,
   "metadata": {},
   "outputs": [
    {
     "output_type": "execute_result",
     "data": {
      "text/plain": [
       "BCH-USD-close        0\n",
       "BCH-USD-volume       0\n",
       "BTC-USD-close     5121\n",
       "BTC-USD-volume    5121\n",
       "ETH-USD-close      155\n",
       "ETH-USD-volume     155\n",
       "LTC-USD-close      673\n",
       "LTC-USD-volume     673\n",
       "future             673\n",
       "target               0\n",
       "dtype: int64"
      ]
     },
     "metadata": {},
     "execution_count": 75
    }
   ],
   "source": [
    "main_df.isna().sum()"
   ]
  },
  {
   "cell_type": "code",
   "execution_count": 76,
   "metadata": {},
   "outputs": [
    {
     "output_type": "execute_result",
     "data": {
      "text/plain": [
       "(73780, 10)"
      ]
     },
     "metadata": {},
     "execution_count": 76
    }
   ],
   "source": [
    "main_df.shape"
   ]
  },
  {
   "source": [
    "## We now remove/fill in the missing values with values that we believe to be correct."
   ],
   "cell_type": "markdown",
   "metadata": {}
  },
  {
   "cell_type": "code",
   "execution_count": 77,
   "metadata": {},
   "outputs": [
    {
     "output_type": "execute_result",
     "data": {
      "text/plain": [
       "(BCH-USD-close     0\n",
       " BCH-USD-volume    0\n",
       " BTC-USD-close     0\n",
       " BTC-USD-volume    0\n",
       " ETH-USD-close     0\n",
       " ETH-USD-volume    0\n",
       " LTC-USD-close     0\n",
       " LTC-USD-volume    0\n",
       " future            0\n",
       " target            0\n",
       " dtype: int64,\n",
       " BCH-USD-close     0\n",
       " BCH-USD-volume    0\n",
       " BTC-USD-close     0\n",
       " BTC-USD-volume    0\n",
       " ETH-USD-close     0\n",
       " ETH-USD-volume    0\n",
       " LTC-USD-close     0\n",
       " LTC-USD-volume    0\n",
       " future            0\n",
       " target            0\n",
       " dtype: int64)"
      ]
     },
     "metadata": {},
     "execution_count": 77
    }
   ],
   "source": [
    "main_df.fillna(method=\"ffill\", inplace=True)\n",
    "validation_main_df.fillna(method=\"ffill\", inplace=True)\n",
    "\n",
    "main_df.dropna(inplace=True)\n",
    "validation_main_df.dropna(inplace=True)\n",
    "main_df.isna().sum(), validation_main_df.isna().sum()"
   ]
  },
  {
   "source": [
    "### The data is still not ready for processing. There is one last step required: preprocessing.\n",
    "# Normalizing, Scaling and Balancing the dataset\n",
    "\n",
    "The steps required are: dropping the future column, creating pct_change so that the data is clearer and normalizare + scale the data.\n",
    "\n",
    "# SEQ_LEN\n",
    "With a normal dataset, we would randomize the order in which the data is so that the model doesn't overfit; instead it learns on random data.\n",
    "\n",
    "We can't do that here cuz the data would be too random and the model can't learn. Instead, what we'll do is take sequences of predefined lengths then shuffle those sequences. It's a really smart thing to do. We get continuous 1 hour (60 mins) periods and then shuffle them around."
   ],
   "cell_type": "markdown",
   "metadata": {}
  },
  {
   "cell_type": "code",
   "execution_count": 78,
   "metadata": {},
   "outputs": [],
   "source": [
    "def preprocessing_df(df):\n",
    "    df.drop(\"future\", axis=1)  # we drop the future column\n",
    "\n",
    "    # use pct change to figure the change in price\n",
    "    for col in df.columns:\n",
    "        if col != \"target\":\n",
    "            df[col] = df[col].pct_change()\n",
    "            df.dropna(inplace=True)\n",
    "\n",
    "            # normalize the data 0 -> 1 NOTE: normalization is a form of scaling\n",
    "            df[col] = preprocessing.scale(df[col])\n",
    "    df.dropna(inplace=True)\n",
    "    sequencial_data = []\n",
    "    prev_days = deque(maxlen=SEQ_LEN)\n",
    "    for row in df.values:\n",
    "        prev_days.append([x for x in row[:-1]])\n",
    "        if len(prev_days) == SEQ_LEN:\n",
    "            #separate the label/target\n",
    "            sequencial_data.append([np.array(prev_days), row[-1]])\n",
    "\n",
    "    random.shuffle(sequencial_data)\n",
    "\n",
    "    \"\"\"\n",
    "    the last step in our preprocessing will be to balance the learning set\n",
    "    \"\"\"\n",
    "    buys = []\n",
    "    sells = []\n",
    "\n",
    "    for seq, target in sequencial_data:\n",
    "        if target == 0: # you need to sell\n",
    "            sells.append([seq, target])\n",
    "        elif target == 1: # you need to buy\n",
    "            buys.append([seq, target])\n",
    "\n",
    "    random.shuffle(buys)\n",
    "    random.shuffle(sells)\n",
    "\n",
    "    # how do we balance? Simple. we remove the excess\n",
    "\n",
    "    lower_nr = min(len(buys), len(sells))\n",
    "\n",
    "    buys = buys[:lower_nr]\n",
    "    sells = sells[:lower_nr]\n",
    "\n",
    "    sequencial_data = buys + sells\n",
    "\n",
    "    random.shuffle(sequencial_data)\n",
    "\n",
    "    # split into x and Y\n",
    "    x = []\n",
    "    Y = []\n",
    "\n",
    "    for seq, target in sequencial_data:\n",
    "        x.append(seq)\n",
    "        Y.append(target)\n",
    "    return np.array(x), np.array(Y)"
   ]
  },
  {
   "cell_type": "code",
   "execution_count": 79,
   "metadata": {},
   "outputs": [],
   "source": [
    "train_x, train_Y = preprocessing_df(main_df)\n",
    "test_x, test_Y = preprocessing_df(validation_main_df)"
   ]
  },
  {
   "cell_type": "code",
   "execution_count": 80,
   "metadata": {},
   "outputs": [
    {
     "output_type": "stream",
     "name": "stdout",
     "text": [
      "Training data: 67508, Validation data: 17996\n Training set Sells: 33754, Buys: 33754\n Validation set Sells: 8998, Buys: 8998\n"
     ]
    }
   ],
   "source": [
    "print(f\"Training data: {len(train_x)}, Validation data: {len(test_x)}\")\n",
    "print(f\" Training set Sells: {(train_Y.astype('int32') == 0).sum()}, Buys: {(train_Y.astype('int32') == 1).sum()}\")\n",
    "print(f\" Validation set Sells: {(test_Y.astype('int32') == 0).sum()}, Buys: {(test_Y.astype('int32') == 1).sum()}\")"
   ]
  },
  {
   "source": [
    "As we can see, the total of entries is 68.010 + 17.120 = 85130 (after filling/dropping the missing values) and the ratio is 80/20.\n",
    "\n",
    "# Now that the preprocessing is complete, we can go and train the model."
   ],
   "cell_type": "markdown",
   "metadata": {}
  },
  {
   "cell_type": "code",
   "execution_count": 81,
   "metadata": {},
   "outputs": [],
   "source": [
    "config = ConfigProto()\n",
    "config.gpu_options.allow_growth = True\n",
    "session = InteractiveSession(config=config)\n",
    "\n",
    "model = Sequential()\n",
    "model.add(LSTM(128, return_sequences=True))\n",
    "model.add(Dropout(0.2))\n",
    "model.add(BatchNormalization())\n",
    "\n",
    "model.add(LSTM(128, return_sequences=True))\n",
    "model.add(Dropout(0.2))\n",
    "model.add(BatchNormalization())\n",
    "\n",
    "model.add(LSTM(128))\n",
    "model.add(Dropout(0.2))\n",
    "model.add(BatchNormalization())\n",
    "\n",
    "model.add(Dense(10, activation='relu'))\n",
    "model.add(Dropout(0.2))\n",
    "\n",
    "model.add(Dense(2, activation='softmax'))"
   ]
  },
  {
   "cell_type": "code",
   "execution_count": 82,
   "metadata": {},
   "outputs": [],
   "source": [
    "opt = Adam(learning_rate=0.001, decay=1e-6)\n",
    "LOSS='sparse_categorical_crossentropy'\n",
    "\n",
    "model.compile(loss=LOSS, optimizer=opt, metrics=['accuracy'])"
   ]
  },
  {
   "source": [
    "## Hyperparameters, tensorboard and checkpoint"
   ],
   "cell_type": "markdown",
   "metadata": {}
  },
  {
   "cell_type": "code",
   "execution_count": 83,
   "metadata": {},
   "outputs": [],
   "source": [
    "EPOCHS = 10\n",
    "BATCH_SIZE = 32\n",
    "NAME = f\"{COIN}-{SEQ_LEN}-{FUTURE_PRED}-VALID-PCT-{VAL_PCT}-LOSS-{LOSS}-OPT-{'Adam'}-{int(time.time())}\"\n",
    "# NAME = f\"{RATIO_TO_PREDICT}-{SEQ_LEN}-SEQ-{FUTURE_PERIOD_PREDICT}-PRED-{int(time.time())}\""
   ]
  },
  {
   "cell_type": "code",
   "execution_count": 84,
   "metadata": {},
   "outputs": [],
   "source": [
    "tensorboard = TensorBoard(log_dir=f'logs/{NAME}')\n",
    "filepath = \"RNN_Final-{epoch:02d}-{val_accuracy:.3f}\"\n",
    "checkpoint = ModelCheckpoint(\"models/{}.model\".format(filepath, monitor='val_accuracy', verbose=1, save_best_only=True, mode='max')) # saves only the best ones"
   ]
  },
  {
   "source": [
    "# Fitting the model"
   ],
   "cell_type": "markdown",
   "metadata": {}
  },
  {
   "cell_type": "code",
   "execution_count": 85,
   "metadata": {},
   "outputs": [
    {
     "output_type": "stream",
     "name": "stdout",
     "text": [
      "Epoch 1/10\n",
      "2110/2110 [==============================] - 92s 38ms/step - loss: 0.5964 - accuracy: 0.7010 - val_loss: 0.5372 - val_accuracy: 0.7208\n",
      "Epoch 2/10\n",
      "2110/2110 [==============================] - 73s 34ms/step - loss: 0.5045 - accuracy: 0.7581 - val_loss: 0.5656 - val_accuracy: 0.7103\n",
      "Epoch 3/10\n",
      "2110/2110 [==============================] - 73s 35ms/step - loss: 0.4456 - accuracy: 0.7977 - val_loss: 0.6917 - val_accuracy: 0.6834\n",
      "Epoch 4/10\n",
      "2110/2110 [==============================] - 73s 34ms/step - loss: 0.3232 - accuracy: 0.8679 - val_loss: 0.7817 - val_accuracy: 0.6770\n",
      "Epoch 5/10\n",
      "2110/2110 [==============================] - 74s 35ms/step - loss: 0.2498 - accuracy: 0.9015 - val_loss: 0.9776 - val_accuracy: 0.6807\n",
      "Epoch 6/10\n",
      "2110/2110 [==============================] - 74s 35ms/step - loss: 0.2175 - accuracy: 0.9170 - val_loss: 0.9215 - val_accuracy: 0.6984\n",
      "Epoch 7/10\n",
      "2110/2110 [==============================] - 75s 36ms/step - loss: 0.1901 - accuracy: 0.9295 - val_loss: 1.0182 - val_accuracy: 0.6847\n",
      "Epoch 8/10\n",
      "2110/2110 [==============================] - 71s 34ms/step - loss: 0.1743 - accuracy: 0.9379 - val_loss: 1.1572 - val_accuracy: 0.6816\n",
      "Epoch 9/10\n",
      "2110/2110 [==============================] - 78s 37ms/step - loss: 0.1667 - accuracy: 0.9406 - val_loss: 1.0535 - val_accuracy: 0.6690\n",
      "Epoch 10/10\n",
      "2110/2110 [==============================] - 79s 37ms/step - loss: 0.1631 - accuracy: 0.9424 - val_loss: 1.1558 - val_accuracy: 0.6857\n"
     ]
    }
   ],
   "source": [
    "history = model.fit(train_x, train_Y, \n",
    "        batch_size=BATCH_SIZE, \n",
    "        epochs=EPOCHS,\n",
    "        validation_data=(test_x, test_Y),\n",
    "        # callbacks=[tensorboard, checkpoint])\n",
    "        callbacks=[tensorboard])"
   ]
  },
  {
   "source": [
    "# Score and saving the model"
   ],
   "cell_type": "markdown",
   "metadata": {}
  },
  {
   "cell_type": "code",
   "execution_count": 86,
   "metadata": {},
   "outputs": [
    {
     "output_type": "stream",
     "name": "stdout",
     "text": [
      "Test loss: 1.1557780504226685\n",
      "Test accuracy: 0.6857079267501831\n",
      "WARNING:absl:Found untraced functions such as lstm_cell_6_layer_call_and_return_conditional_losses, lstm_cell_6_layer_call_fn, lstm_cell_7_layer_call_and_return_conditional_losses, lstm_cell_7_layer_call_fn, lstm_cell_8_layer_call_and_return_conditional_losses while saving (showing 5 of 15). These functions will not be directly callable after loading.\n",
      "WARNING:absl:Found untraced functions such as lstm_cell_6_layer_call_and_return_conditional_losses, lstm_cell_6_layer_call_fn, lstm_cell_7_layer_call_and_return_conditional_losses, lstm_cell_7_layer_call_fn, lstm_cell_8_layer_call_and_return_conditional_losses while saving (showing 5 of 15). These functions will not be directly callable after loading.\n",
      "INFO:tensorflow:Assets written to: models/LTC-USD-60-100-VALID-PCT-0.2-LOSS-sparse_categorical_crossentropy-OPT-Adam-1614260020\\assets\n",
      "INFO:tensorflow:Assets written to: models/LTC-USD-60-100-VALID-PCT-0.2-LOSS-sparse_categorical_crossentropy-OPT-Adam-1614260020\\assets\n"
     ]
    }
   ],
   "source": [
    "# Scoring\n",
    "score = model.evaluate(test_x, test_Y, verbose=0)\n",
    "print('Test loss:', score[0])\n",
    "print('Test accuracy:', score[1])\n",
    "\n",
    "# Saving\n",
    "model.save(f\"models/{NAME}\")"
   ]
  },
  {
   "cell_type": "code",
   "execution_count": 87,
   "metadata": {},
   "outputs": [
    {
     "output_type": "stream",
     "name": "stdout",
     "text": [
      "Model: \"sequential_2\"\n_________________________________________________________________\nLayer (type)                 Output Shape              Param #   \n=================================================================\nlstm_6 (LSTM)                (None, 60, 128)           70656     \n_________________________________________________________________\ndropout_8 (Dropout)          (None, 60, 128)           0         \n_________________________________________________________________\nbatch_normalization_6 (Batch (None, 60, 128)           512       \n_________________________________________________________________\nlstm_7 (LSTM)                (None, 60, 128)           131584    \n_________________________________________________________________\ndropout_9 (Dropout)          (None, 60, 128)           0         \n_________________________________________________________________\nbatch_normalization_7 (Batch (None, 60, 128)           512       \n_________________________________________________________________\nlstm_8 (LSTM)                (None, 128)               131584    \n_________________________________________________________________\ndropout_10 (Dropout)         (None, 128)               0         \n_________________________________________________________________\nbatch_normalization_8 (Batch (None, 128)               512       \n_________________________________________________________________\ndense_4 (Dense)              (None, 10)                1290      \n_________________________________________________________________\ndropout_11 (Dropout)         (None, 10)                0         \n_________________________________________________________________\ndense_5 (Dense)              (None, 2)                 22        \n=================================================================\nTotal params: 336,672\nTrainable params: 335,904\nNon-trainable params: 768\n_________________________________________________________________\n"
     ]
    }
   ],
   "source": [
    "model.summary()\n",
    "# test_x[1].shape"
   ]
  }
 ]
}