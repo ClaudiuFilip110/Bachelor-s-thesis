{
 "cells": [
  {
   "cell_type": "markdown",
   "metadata": {},
   "source": [
    "In this notebook we will retrieve the training data from the Binance API."
   ]
  },
  {
   "cell_type": "code",
   "execution_count": 10,
   "metadata": {},
   "outputs": [
    {
     "name": "stdout",
     "output_type": "stream",
     "text": [
      "200\n"
     ]
    }
   ],
   "source": [
    "import requests\n",
    "from binance.client import Client\n",
    "from datetime import timedelta, datetime\n",
    "from dateutil import parser\n",
    "import pandas as pd\n",
    "import math\n",
    "import os.path\n",
    "import time\n",
    "\n",
    "'''\n",
    "TEST\n",
    "'''\n",
    "\n",
    "x = requests.get('https://api.binance.com')\n",
    "print(x.status_code)"
   ]
  },
  {
   "cell_type": "code",
   "execution_count": 11,
   "metadata": {},
   "outputs": [],
   "source": [
    "# Constants\n",
    "\n",
    "binance_api_key = 'mUeGlErejtn44czuuFhJdfX9kjhTzbLQWN9sKPmw8Zijwi8EyIHqTN5w1EpZMgaq'\n",
    "binance_api_secret = 'X6bEtPljPY91aw9AvlY2yusNCZt78ERq57sOM7yXGVa2Wem4z1SA8eBNCknnrGUc'\n",
    "binance_client = Client(api_key=binance_api_key, api_secret=binance_api_secret)\n",
    "start_date = '1 Jan, 2020'"
   ]
  },
  {
   "cell_type": "code",
   "execution_count": 12,
   "metadata": {},
   "outputs": [],
   "source": [
    "def get_data_from_binance(coin, kline_size, test_date=False):\n",
    "    filename = f'crypto_data/{coin}-data.csv'\n",
    "    print(f'Downloading all available {kline_size} data for {coin} from {start_date} to present. Be patient..!')\n",
    "    if not test_date: klines = binance_client.get_historical_klines(coin, kline_size, start_date)\n",
    "    else:\n",
    "        klines = binance_client.get_historical_klines(coin, kline_size, start_date, '1 Jan, 2020')\n",
    "            \n",
    "    data = pd.DataFrame(klines, columns = ['time', 'open', 'high', 'low', 'close', 'volume', 'close_time', 'quote_av', 'trades', 'tb_base_av', 'tb_quote_av', 'ignore' ])\n",
    "    \n",
    "    data.drop(['close_time', 'quote_av', 'trades', 'tb_base_av', 'tb_quote_av', 'ignore'], axis=1, inplace=True)\n",
    "    data.to_csv(filename)\n",
    "    print(f'Done with {coin}!')\n",
    "    return data"
   ]
  },
  {
   "cell_type": "markdown",
   "metadata": {},
   "source": [
    "## Example of bad request"
   ]
  },
  {
   "cell_type": "code",
   "execution_count": 13,
   "metadata": {
    "scrolled": true
   },
   "outputs": [
    {
     "data": {
      "text/plain": [
       "0    1574899200000\n",
       "Name: timestamp, dtype: int64"
      ]
     },
     "execution_count": 13,
     "metadata": {},
     "output_type": "execute_result"
    }
   ],
   "source": [
    "klines = binance_client.get_historical_klines('BCHUSDT', Client.KLINE_INTERVAL_1DAY, '1 Dec, 2018', '1 Jan, 2020')\n",
    "data = pd.DataFrame(klines, columns = ['timestamp', 'open', 'high', 'low', 'close', 'volume', 'close_time', 'quote_av', 'trades', 'tb_base_av', 'tb_quote_av', 'ignore' ])\n",
    "\n",
    "data['timestamp'].head(1)"
   ]
  },
  {
   "cell_type": "markdown",
   "metadata": {},
   "source": [
    "    Chiar daca request'ul este pentru 1 Dec 2018, timestamp'ul indica ca dataFrame'ul incepe din Noiembrie 28, 2019 (1574899200000).\n",
    "\n"
   ]
  },
  {
   "cell_type": "code",
   "execution_count": 14,
   "metadata": {
    "scrolled": true
   },
   "outputs": [
    {
     "name": "stdout",
     "output_type": "stream",
     "text": [
      "Downloading all available 15m data for BTCUSDT from 1 Jan, 2020 to present. Be patient..!\n",
      "Done with BTCUSDT!\n",
      "Downloading all available 15m data for BCHUSDT from 1 Jan, 2020 to present. Be patient..!\n",
      "Done with BCHUSDT!\n",
      "Downloading all available 15m data for ETHUSDT from 1 Jan, 2020 to present. Be patient..!\n",
      "Done with ETHUSDT!\n",
      "Downloading all available 15m data for LTCUSDT from 1 Jan, 2020 to present. Be patient..!\n",
      "Done with LTCUSDT!\n"
     ]
    }
   ],
   "source": [
    "coins = ['BTCUSDT','BCHUSDT','ETHUSDT','LTCUSDT']\n",
    "\n",
    "for coin in coins:\n",
    "    get_data_from_binance(coin, Client.KLINE_INTERVAL_15MINUTE)    "
   ]
  },
  {
   "cell_type": "code",
   "execution_count": null,
   "metadata": {},
   "outputs": [],
   "source": []
  }
 ],
 "metadata": {
  "kernelspec": {
   "display_name": "Python 3",
   "language": "python",
   "name": "python3"
  },
  "language_info": {
   "codemirror_mode": {
    "name": "ipython",
    "version": 3
   },
   "file_extension": ".py",
   "mimetype": "text/x-python",
   "name": "python",
   "nbconvert_exporter": "python",
   "pygments_lexer": "ipython3",
   "version": "3.8.6"
  }
 },
 "nbformat": 4,
 "nbformat_minor": 4
}
