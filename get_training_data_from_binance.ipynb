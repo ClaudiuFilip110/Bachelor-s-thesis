{
 "cells": [
  {
   "cell_type": "markdown",
   "metadata": {},
   "source": [
    "In this notebook we will retrieve the training data from the Binance API."
   ]
  },
  {
   "cell_type": "code",
   "execution_count": 1,
   "metadata": {},
   "outputs": [
    {
     "name": "stdout",
     "output_type": "stream",
     "text": [
      "200\n"
     ]
    }
   ],
   "source": [
    "import requests\n",
    "from binance.client import Client\n",
    "from datetime import timedelta, datetime\n",
    "from dateutil import parser\n",
    "import pandas as pd\n",
    "import math\n",
    "import os.path\n",
    "import time\n",
    "\n",
    "'''\n",
    "TEST\n",
    "'''\n",
    "\n",
    "x = requests.get('https://api.binance.com')\n",
    "print(x.status_code)"
   ]
  },
  {
   "cell_type": "code",
   "execution_count": 2,
   "metadata": {},
   "outputs": [],
   "source": [
    "# Constants\n",
    "\n",
    "binance_api_key = 'mUeGlErejtn44czuuFhJdfX9kjhTzbLQWN9sKPmw8Zijwi8EyIHqTN5w1EpZMgaq'\n",
    "binance_api_secret = 'X6bEtPljPY91aw9AvlY2yusNCZt78ERq57sOM7yXGVa2Wem4z1SA8eBNCknnrGUc'\n",
    "binance_client = Client(api_key=binance_api_key, api_secret=binance_api_secret)\n",
    "start_date = '1 Jan, 2020'"
   ]
  },
  {
   "cell_type": "code",
   "execution_count": 35,
   "metadata": {},
   "outputs": [],
   "source": [
    "def get_data_from_binance(coin, kline_size, test_date=False):\n",
    "    filename = f'crypto_data/{coin}-data.csv'\n",
    "    print(f'Downloading all available {kline_size} data for {coin} from {start_date} to present. Be patient..!')\n",
    "    if not test_date: klines = binance_client.get_historical_klines(coin, kline_size, start_date)\n",
    "    else:\n",
    "        klines = binance_client.get_historical_klines(coin, kline_size, start_date, '1 Feb, 2020')\n",
    "            \n",
    "    data = pd.DataFrame(klines, columns = ['time', 'open', 'high', 'low', 'close', 'volume', 'close_time', 'quote_av', 'trades', 'tb_base_av', 'tb_quote_av', 'ignore' ])\n",
    "    \n",
    "    data.drop(['close_time', 'quote_av', 'trades', 'tb_base_av', 'tb_quote_av', 'ignore'], axis=1, inplace=True)\n",
    "    data.to_csv(filename)\n",
    "    \n",
    "#     print('type',type(data['time']))\n",
    "#     data['time'] = (data['time'].astype(int))\n",
    "#     data['open'] = (\"{:.2f}\".format(data['open'].astype(float)))\n",
    "#     data['high'] = (\"{:.2f}\".format(data['high'])).astype(float)\n",
    "#     data['low'] = (\"{:.2f}\".format(data['low'])).astype(float)\n",
    "#     data['close'] = (\"{:.2f}\".format(data['close'])).astype(float)\n",
    "#     data['volume'] = (\"{:.2f}\".format(data['volume'])).astype(float)\n",
    "    \n",
    "    print(data.head(5))\n",
    "    print(f'Done with {coin}!')\n",
    "    return data"
   ]
  },
  {
   "cell_type": "markdown",
   "metadata": {},
   "source": [
    "## Example of bad request"
   ]
  },
  {
   "cell_type": "code",
   "execution_count": 4,
   "metadata": {
    "scrolled": true
   },
   "outputs": [
    {
     "data": {
      "text/plain": [
       "0    1577836800000\n",
       "Name: timestamp, dtype: int64"
      ]
     },
     "execution_count": 4,
     "metadata": {},
     "output_type": "execute_result"
    }
   ],
   "source": [
    "klines = binance_client.get_historical_klines('BCHUSDT', Client.KLINE_INTERVAL_1DAY, start_date, '1 Jan, 2020')\n",
    "data = pd.DataFrame(klines, columns = ['timestamp', 'open', 'high', 'low', 'close', 'volume', 'close_time', 'quote_av', 'trades', 'tb_base_av', 'tb_quote_av', 'ignore' ])\n",
    "\n",
    "data['timestamp'].head(1)"
   ]
  },
  {
   "cell_type": "markdown",
   "metadata": {},
   "source": [
    "    Chiar daca request'ul este pentru 1 Dec 2018, timestamp'ul indica ca dataFrame'ul incepe din Noiembrie 28, 2019 (1574899200000).\n",
    "\n"
   ]
  },
  {
   "cell_type": "code",
   "execution_count": 36,
   "metadata": {
    "scrolled": true
   },
   "outputs": [
    {
     "name": "stdout",
     "output_type": "stream",
     "text": [
      "Downloading all available 15m data for BTCUSDT from 1 Jan, 2020 to present. Be patient..!\n",
      "            time           open           high            low          close  \\\n",
      "0  1577836800000  7195.24000000  7196.25000000  7178.20000000  7180.97000000   \n",
      "1  1577837700000  7180.97000000  7186.40000000  7175.47000000  7178.45000000   \n",
      "2  1577838600000  7178.19000000  7185.44000000  7176.23000000  7179.56000000   \n",
      "3  1577839500000  7179.35000000  7183.98000000  7175.46000000  7177.02000000   \n",
      "4  1577840400000  7176.47000000  7194.04000000  7175.71000000  7190.86000000   \n",
      "\n",
      "         volume  \n",
      "0  202.94286800  \n",
      "1  128.24265400  \n",
      "2   83.48745800  \n",
      "3   97.14192100  \n",
      "4  103.52052200  \n",
      "Done with BTCUSDT!\n",
      "Downloading all available 15m data for BCHUSDT from 1 Jan, 2020 to present. Be patient..!\n",
      "            time          open          high           low         close  \\\n",
      "0  1577836800000  204.57000000  204.59000000  203.50000000  203.95000000   \n",
      "1  1577837700000  204.00000000  204.21000000  203.81000000  203.95000000   \n",
      "2  1577838600000  203.90000000  204.67000000  203.90000000  204.54000000   \n",
      "3  1577839500000  204.54000000  204.56000000  204.18000000  204.43000000   \n",
      "4  1577840400000  204.46000000  205.83000000  204.29000000  205.48000000   \n",
      "\n",
      "         volume  \n",
      "0  409.09616000  \n",
      "1  158.42325000  \n",
      "2  245.08427000  \n",
      "3   60.74416000  \n",
      "4  547.23411000  \n",
      "Done with BCHUSDT!\n",
      "Downloading all available 15m data for ETHUSDT from 1 Jan, 2020 to present. Be patient..!\n",
      "            time          open          high           low         close  \\\n",
      "0  1577836800000  129.16000000  129.19000000  128.69000000  128.91000000   \n",
      "1  1577837700000  128.91000000  129.05000000  128.68000000  128.78000000   \n",
      "2  1577838600000  128.76000000  129.03000000  128.76000000  128.86000000   \n",
      "3  1577839500000  128.87000000  128.96000000  128.68000000  128.87000000   \n",
      "4  1577840400000  128.87000000  129.25000000  128.78000000  129.13000000   \n",
      "\n",
      "          volume  \n",
      "0  1883.57914000  \n",
      "1  3686.07368000  \n",
      "2  1141.18288000  \n",
      "3  1058.33766000  \n",
      "4  1369.76626000  \n",
      "Done with ETHUSDT!\n",
      "Downloading all available 15m data for LTCUSDT from 1 Jan, 2020 to present. Be patient..!\n",
      "            time         open         high          low        close  \\\n",
      "0  1577836800000  41.29000000  41.29000000  41.16000000  41.19000000   \n",
      "1  1577837700000  41.20000000  41.21000000  41.17000000  41.20000000   \n",
      "2  1577838600000  41.22000000  41.28000000  41.22000000  41.26000000   \n",
      "3  1577839500000  41.26000000  41.29000000  41.22000000  41.28000000   \n",
      "4  1577840400000  41.28000000  41.39000000  41.27000000  41.38000000   \n",
      "\n",
      "          volume  \n",
      "0  1355.10796000  \n",
      "1   649.57758000  \n",
      "2   478.90868000  \n",
      "3   344.46616000  \n",
      "4   613.06474000  \n",
      "Done with LTCUSDT!\n"
     ]
    }
   ],
   "source": [
    "coins = ['BTCUSDT','BCHUSDT','ETHUSDT','LTCUSDT']\n",
    "\n",
    "for coin in coins:\n",
    "    get_data_from_binance(coin, Client.KLINE_INTERVAL_15MINUTE)    "
   ]
  },
  {
   "cell_type": "code",
   "execution_count": null,
   "metadata": {},
   "outputs": [],
   "source": []
  }
 ],
 "metadata": {
  "kernelspec": {
   "display_name": "Python 3",
   "language": "python",
   "name": "python3"
  },
  "language_info": {
   "codemirror_mode": {
    "name": "ipython",
    "version": 3
   },
   "file_extension": ".py",
   "mimetype": "text/x-python",
   "name": "python",
   "nbconvert_exporter": "python",
   "pygments_lexer": "ipython3",
   "version": "3.7.9"
  }
 },
 "nbformat": 4,
 "nbformat_minor": 4
}
