{
 "cells": [
  {
   "cell_type": "markdown",
   "metadata": {},
   "source": [
    "# Importari"
   ]
  },
  {
   "cell_type": "code",
   "execution_count": 1,
   "metadata": {},
   "outputs": [],
   "source": [
    "import pandas as pd\n",
    "\n",
    "from sklearn import preprocessing\n",
    "from collections import deque\n",
    "import numpy as np\n",
    "import random\n",
    "import time\n",
    "\n",
    "import tensorflow as tf\n",
    "from tensorflow.keras.models import Sequential \n",
    "from tensorflow.keras.layers import Dense, Dropout, LSTM, BatchNormalization\n",
    "from tensorflow.keras.callbacks import TensorBoard, ModelCheckpoint, LearningRateScheduler\n",
    "from tensorflow.keras.optimizers import SGD, Adam\n",
    "from tensorflow.keras.optimizers.schedules import ExponentialDecay\n",
    "from tensorflow.keras.regularizers import l1\n",
    "from tensorflow.keras.regularizers import l2\n",
    "\n",
    "from tensorflow.compat.v1 import ConfigProto\n",
    "from tensorflow.compat.v1 import InteractiveSession"
   ]
  },
  {
   "cell_type": "markdown",
   "metadata": {},
   "source": [
    "# Crearea si pregatirea setului de date"
   ]
  },
  {
   "cell_type": "code",
   "execution_count": 2,
   "metadata": {},
   "outputs": [],
   "source": [
    "main_df = pd.DataFrame()\n",
    "\n",
    "ratios = [\"BCHUSDT-binance\", \"BTCUSDT-binance\", \"ETHUSDT-binance\", \"LTCUSDT-binance\"]\n",
    "\n",
    "for ratio in ratios:\n",
    "    dataset = pd.read_csv(\n",
    "        f\"crypto_data/{ratio}.csv\")\n",
    "    dataset.rename(\n",
    "        columns={\"close\": f\"{ratio}-close\", \"volume\": f\"{ratio}-volume\"}, inplace=True\n",
    "    )\n",
    "    \n",
    "    dataset.set_index(\"time\", inplace=True)\n",
    "\n",
    "    dataset.drop([\"low\", \"high\", \"open\"], axis=1, inplace=True)\n",
    "\n",
    "    if main_df.empty:\n",
    "        main_df = dataset\n",
    "    else:\n",
    "        main_df = main_df.join(dataset)"
   ]
  },
  {
   "cell_type": "code",
   "execution_count": 3,
   "metadata": {},
   "outputs": [
    {
     "data": {
      "text/html": [
       "<div>\n",
       "<style scoped>\n",
       "    .dataframe tbody tr th:only-of-type {\n",
       "        vertical-align: middle;\n",
       "    }\n",
       "\n",
       "    .dataframe tbody tr th {\n",
       "        vertical-align: top;\n",
       "    }\n",
       "\n",
       "    .dataframe thead th {\n",
       "        text-align: right;\n",
       "    }\n",
       "</style>\n",
       "<table border=\"1\" class=\"dataframe\">\n",
       "  <thead>\n",
       "    <tr style=\"text-align: right;\">\n",
       "      <th></th>\n",
       "      <th>BCHUSDT-binance-close</th>\n",
       "      <th>BCHUSDT-binance-volume</th>\n",
       "      <th>BTCUSDT-binance-close</th>\n",
       "      <th>BTCUSDT-binance-volume</th>\n",
       "      <th>ETHUSDT-binance-close</th>\n",
       "      <th>ETHUSDT-binance-volume</th>\n",
       "      <th>LTCUSDT-binance-close</th>\n",
       "      <th>LTCUSDT-binance-volume</th>\n",
       "    </tr>\n",
       "    <tr>\n",
       "      <th>time</th>\n",
       "      <th></th>\n",
       "      <th></th>\n",
       "      <th></th>\n",
       "      <th></th>\n",
       "      <th></th>\n",
       "      <th></th>\n",
       "      <th></th>\n",
       "      <th></th>\n",
       "    </tr>\n",
       "  </thead>\n",
       "  <tbody>\n",
       "    <tr>\n",
       "      <th>1577836800</th>\n",
       "      <td>203.95</td>\n",
       "      <td>409.10</td>\n",
       "      <td>7180.97</td>\n",
       "      <td>202.94</td>\n",
       "      <td>128.91</td>\n",
       "      <td>1883.58</td>\n",
       "      <td>41.19</td>\n",
       "      <td>1355.11</td>\n",
       "    </tr>\n",
       "    <tr>\n",
       "      <th>1577837700</th>\n",
       "      <td>203.95</td>\n",
       "      <td>158.42</td>\n",
       "      <td>7178.45</td>\n",
       "      <td>128.24</td>\n",
       "      <td>128.78</td>\n",
       "      <td>3686.07</td>\n",
       "      <td>41.20</td>\n",
       "      <td>649.58</td>\n",
       "    </tr>\n",
       "    <tr>\n",
       "      <th>1577838600</th>\n",
       "      <td>204.54</td>\n",
       "      <td>245.08</td>\n",
       "      <td>7179.56</td>\n",
       "      <td>83.49</td>\n",
       "      <td>128.86</td>\n",
       "      <td>1141.18</td>\n",
       "      <td>41.26</td>\n",
       "      <td>478.91</td>\n",
       "    </tr>\n",
       "    <tr>\n",
       "      <th>1577839500</th>\n",
       "      <td>204.43</td>\n",
       "      <td>60.74</td>\n",
       "      <td>7177.02</td>\n",
       "      <td>97.14</td>\n",
       "      <td>128.87</td>\n",
       "      <td>1058.34</td>\n",
       "      <td>41.28</td>\n",
       "      <td>344.47</td>\n",
       "    </tr>\n",
       "    <tr>\n",
       "      <th>1577840400</th>\n",
       "      <td>205.48</td>\n",
       "      <td>547.23</td>\n",
       "      <td>7190.86</td>\n",
       "      <td>103.52</td>\n",
       "      <td>129.13</td>\n",
       "      <td>1369.77</td>\n",
       "      <td>41.38</td>\n",
       "      <td>613.06</td>\n",
       "    </tr>\n",
       "  </tbody>\n",
       "</table>\n",
       "</div>"
      ],
      "text/plain": [
       "            BCHUSDT-binance-close  BCHUSDT-binance-volume  \\\n",
       "time                                                        \n",
       "1577836800                 203.95                  409.10   \n",
       "1577837700                 203.95                  158.42   \n",
       "1577838600                 204.54                  245.08   \n",
       "1577839500                 204.43                   60.74   \n",
       "1577840400                 205.48                  547.23   \n",
       "\n",
       "            BTCUSDT-binance-close  BTCUSDT-binance-volume  \\\n",
       "time                                                        \n",
       "1577836800                7180.97                  202.94   \n",
       "1577837700                7178.45                  128.24   \n",
       "1577838600                7179.56                   83.49   \n",
       "1577839500                7177.02                   97.14   \n",
       "1577840400                7190.86                  103.52   \n",
       "\n",
       "            ETHUSDT-binance-close  ETHUSDT-binance-volume  \\\n",
       "time                                                        \n",
       "1577836800                 128.91                 1883.58   \n",
       "1577837700                 128.78                 3686.07   \n",
       "1577838600                 128.86                 1141.18   \n",
       "1577839500                 128.87                 1058.34   \n",
       "1577840400                 129.13                 1369.77   \n",
       "\n",
       "            LTCUSDT-binance-close  LTCUSDT-binance-volume  \n",
       "time                                                       \n",
       "1577836800                  41.19                 1355.11  \n",
       "1577837700                  41.20                  649.58  \n",
       "1577838600                  41.26                  478.91  \n",
       "1577839500                  41.28                  344.47  \n",
       "1577840400                  41.38                  613.06  "
      ]
     },
     "execution_count": 3,
     "metadata": {},
     "output_type": "execute_result"
    }
   ],
   "source": [
    "main_df.head()"
   ]
  },
  {
   "cell_type": "code",
   "execution_count": 4,
   "metadata": {
    "scrolled": true
   },
   "outputs": [
    {
     "data": {
      "text/plain": [
       "array(['BCHUSDT-binance-close', 'BCHUSDT-binance-volume',\n",
       "       'BTCUSDT-binance-close', 'BTCUSDT-binance-volume',\n",
       "       'ETHUSDT-binance-close', 'ETHUSDT-binance-volume',\n",
       "       'LTCUSDT-binance-close', 'LTCUSDT-binance-volume'], dtype=object)"
      ]
     },
     "execution_count": 4,
     "metadata": {},
     "output_type": "execute_result"
    }
   ],
   "source": [
    "main_df.columns.values"
   ]
  },
  {
   "cell_type": "markdown",
   "metadata": {},
   "source": [
    "# Parametri"
   ]
  },
  {
   "cell_type": "code",
   "execution_count": 5,
   "metadata": {},
   "outputs": [],
   "source": [
    "SEQ_LEN = 16\n",
    "FUTURE_PRED = 4\n",
    "COIN = ratios[1] #BTC-USDT\n",
    "VAL_PCT = 0.15"
   ]
  },
  {
   "cell_type": "code",
   "execution_count": 6,
   "metadata": {},
   "outputs": [],
   "source": [
    "def classify(current, future):\n",
    "    if float(current) <= float(future):\n",
    "        return 1 # when the price is higher we buy\n",
    "    else:\n",
    "        return 0 # when the price is lower we sell"
   ]
  },
  {
   "cell_type": "code",
   "execution_count": 7,
   "metadata": {},
   "outputs": [
    {
     "data": {
      "text/html": [
       "<div>\n",
       "<style scoped>\n",
       "    .dataframe tbody tr th:only-of-type {\n",
       "        vertical-align: middle;\n",
       "    }\n",
       "\n",
       "    .dataframe tbody tr th {\n",
       "        vertical-align: top;\n",
       "    }\n",
       "\n",
       "    .dataframe thead th {\n",
       "        text-align: right;\n",
       "    }\n",
       "</style>\n",
       "<table border=\"1\" class=\"dataframe\">\n",
       "  <thead>\n",
       "    <tr style=\"text-align: right;\">\n",
       "      <th></th>\n",
       "      <th>BTCUSDT-binance-close</th>\n",
       "      <th>future</th>\n",
       "    </tr>\n",
       "    <tr>\n",
       "      <th>time</th>\n",
       "      <th></th>\n",
       "      <th></th>\n",
       "    </tr>\n",
       "  </thead>\n",
       "  <tbody>\n",
       "    <tr>\n",
       "      <th>1577836800</th>\n",
       "      <td>7180.97</td>\n",
       "      <td>7190.86</td>\n",
       "    </tr>\n",
       "    <tr>\n",
       "      <th>1577837700</th>\n",
       "      <td>7178.45</td>\n",
       "      <td>7212.10</td>\n",
       "    </tr>\n",
       "    <tr>\n",
       "      <th>1577838600</th>\n",
       "      <td>7179.56</td>\n",
       "      <td>7211.87</td>\n",
       "    </tr>\n",
       "    <tr>\n",
       "      <th>1577839500</th>\n",
       "      <td>7177.02</td>\n",
       "      <td>7216.27</td>\n",
       "    </tr>\n",
       "    <tr>\n",
       "      <th>1577840400</th>\n",
       "      <td>7190.86</td>\n",
       "      <td>7211.97</td>\n",
       "    </tr>\n",
       "  </tbody>\n",
       "</table>\n",
       "</div>"
      ],
      "text/plain": [
       "            BTCUSDT-binance-close   future\n",
       "time                                      \n",
       "1577836800                7180.97  7190.86\n",
       "1577837700                7178.45  7212.10\n",
       "1577838600                7179.56  7211.87\n",
       "1577839500                7177.02  7216.27\n",
       "1577840400                7190.86  7211.97"
      ]
     },
     "execution_count": 7,
     "metadata": {},
     "output_type": "execute_result"
    }
   ],
   "source": [
    "main_df[\"future\"] = main_df[f\"{COIN}-close\"].shift(-FUTURE_PRED)\n",
    "main_df[[f'{COIN}-close', 'future']].head()"
   ]
  },
  {
   "cell_type": "code",
   "execution_count": 8,
   "metadata": {
    "scrolled": true
   },
   "outputs": [
    {
     "data": {
      "text/html": [
       "<div>\n",
       "<style scoped>\n",
       "    .dataframe tbody tr th:only-of-type {\n",
       "        vertical-align: middle;\n",
       "    }\n",
       "\n",
       "    .dataframe tbody tr th {\n",
       "        vertical-align: top;\n",
       "    }\n",
       "\n",
       "    .dataframe thead th {\n",
       "        text-align: right;\n",
       "    }\n",
       "</style>\n",
       "<table border=\"1\" class=\"dataframe\">\n",
       "  <thead>\n",
       "    <tr style=\"text-align: right;\">\n",
       "      <th></th>\n",
       "      <th>BCHUSDT-binance-close</th>\n",
       "      <th>BCHUSDT-binance-volume</th>\n",
       "      <th>BTCUSDT-binance-close</th>\n",
       "      <th>BTCUSDT-binance-volume</th>\n",
       "      <th>ETHUSDT-binance-close</th>\n",
       "      <th>ETHUSDT-binance-volume</th>\n",
       "      <th>LTCUSDT-binance-close</th>\n",
       "      <th>LTCUSDT-binance-volume</th>\n",
       "      <th>future</th>\n",
       "      <th>target</th>\n",
       "    </tr>\n",
       "    <tr>\n",
       "      <th>time</th>\n",
       "      <th></th>\n",
       "      <th></th>\n",
       "      <th></th>\n",
       "      <th></th>\n",
       "      <th></th>\n",
       "      <th></th>\n",
       "      <th></th>\n",
       "      <th></th>\n",
       "      <th></th>\n",
       "      <th></th>\n",
       "    </tr>\n",
       "  </thead>\n",
       "  <tbody>\n",
       "    <tr>\n",
       "      <th>1577836800</th>\n",
       "      <td>203.95</td>\n",
       "      <td>409.10</td>\n",
       "      <td>7180.97</td>\n",
       "      <td>202.94</td>\n",
       "      <td>128.91</td>\n",
       "      <td>1883.58</td>\n",
       "      <td>41.19</td>\n",
       "      <td>1355.11</td>\n",
       "      <td>7190.86</td>\n",
       "      <td>1</td>\n",
       "    </tr>\n",
       "    <tr>\n",
       "      <th>1577837700</th>\n",
       "      <td>203.95</td>\n",
       "      <td>158.42</td>\n",
       "      <td>7178.45</td>\n",
       "      <td>128.24</td>\n",
       "      <td>128.78</td>\n",
       "      <td>3686.07</td>\n",
       "      <td>41.20</td>\n",
       "      <td>649.58</td>\n",
       "      <td>7212.10</td>\n",
       "      <td>1</td>\n",
       "    </tr>\n",
       "    <tr>\n",
       "      <th>1577838600</th>\n",
       "      <td>204.54</td>\n",
       "      <td>245.08</td>\n",
       "      <td>7179.56</td>\n",
       "      <td>83.49</td>\n",
       "      <td>128.86</td>\n",
       "      <td>1141.18</td>\n",
       "      <td>41.26</td>\n",
       "      <td>478.91</td>\n",
       "      <td>7211.87</td>\n",
       "      <td>1</td>\n",
       "    </tr>\n",
       "    <tr>\n",
       "      <th>1577839500</th>\n",
       "      <td>204.43</td>\n",
       "      <td>60.74</td>\n",
       "      <td>7177.02</td>\n",
       "      <td>97.14</td>\n",
       "      <td>128.87</td>\n",
       "      <td>1058.34</td>\n",
       "      <td>41.28</td>\n",
       "      <td>344.47</td>\n",
       "      <td>7216.27</td>\n",
       "      <td>1</td>\n",
       "    </tr>\n",
       "    <tr>\n",
       "      <th>1577840400</th>\n",
       "      <td>205.48</td>\n",
       "      <td>547.23</td>\n",
       "      <td>7190.86</td>\n",
       "      <td>103.52</td>\n",
       "      <td>129.13</td>\n",
       "      <td>1369.77</td>\n",
       "      <td>41.38</td>\n",
       "      <td>613.06</td>\n",
       "      <td>7211.97</td>\n",
       "      <td>1</td>\n",
       "    </tr>\n",
       "  </tbody>\n",
       "</table>\n",
       "</div>"
      ],
      "text/plain": [
       "            BCHUSDT-binance-close  BCHUSDT-binance-volume  \\\n",
       "time                                                        \n",
       "1577836800                 203.95                  409.10   \n",
       "1577837700                 203.95                  158.42   \n",
       "1577838600                 204.54                  245.08   \n",
       "1577839500                 204.43                   60.74   \n",
       "1577840400                 205.48                  547.23   \n",
       "\n",
       "            BTCUSDT-binance-close  BTCUSDT-binance-volume  \\\n",
       "time                                                        \n",
       "1577836800                7180.97                  202.94   \n",
       "1577837700                7178.45                  128.24   \n",
       "1577838600                7179.56                   83.49   \n",
       "1577839500                7177.02                   97.14   \n",
       "1577840400                7190.86                  103.52   \n",
       "\n",
       "            ETHUSDT-binance-close  ETHUSDT-binance-volume  \\\n",
       "time                                                        \n",
       "1577836800                 128.91                 1883.58   \n",
       "1577837700                 128.78                 3686.07   \n",
       "1577838600                 128.86                 1141.18   \n",
       "1577839500                 128.87                 1058.34   \n",
       "1577840400                 129.13                 1369.77   \n",
       "\n",
       "            LTCUSDT-binance-close  LTCUSDT-binance-volume   future  target  \n",
       "time                                                                        \n",
       "1577836800                  41.19                 1355.11  7190.86       1  \n",
       "1577837700                  41.20                  649.58  7212.10       1  \n",
       "1577838600                  41.26                  478.91  7211.87       1  \n",
       "1577839500                  41.28                  344.47  7216.27       1  \n",
       "1577840400                  41.38                  613.06  7211.97       1  "
      ]
     },
     "execution_count": 8,
     "metadata": {},
     "output_type": "execute_result"
    }
   ],
   "source": [
    "main_df[\"target\"] = list(\n",
    "    map(classify, main_df[f\"{COIN}-close\"], main_df[\"future\"])\n",
    ")\n",
    "main_df.head()"
   ]
  },
  {
   "cell_type": "markdown",
   "metadata": {},
   "source": [
    "# Impartirea setului de date initial in antrenare si validare"
   ]
  },
  {
   "cell_type": "code",
   "execution_count": 9,
   "metadata": {},
   "outputs": [
    {
     "data": {
      "text/html": [
       "<div>\n",
       "<style scoped>\n",
       "    .dataframe tbody tr th:only-of-type {\n",
       "        vertical-align: middle;\n",
       "    }\n",
       "\n",
       "    .dataframe tbody tr th {\n",
       "        vertical-align: top;\n",
       "    }\n",
       "\n",
       "    .dataframe thead th {\n",
       "        text-align: right;\n",
       "    }\n",
       "</style>\n",
       "<table border=\"1\" class=\"dataframe\">\n",
       "  <thead>\n",
       "    <tr style=\"text-align: right;\">\n",
       "      <th></th>\n",
       "      <th>BCHUSDT-binance-close</th>\n",
       "      <th>BCHUSDT-binance-volume</th>\n",
       "      <th>BTCUSDT-binance-close</th>\n",
       "      <th>BTCUSDT-binance-volume</th>\n",
       "      <th>ETHUSDT-binance-close</th>\n",
       "      <th>ETHUSDT-binance-volume</th>\n",
       "      <th>LTCUSDT-binance-close</th>\n",
       "      <th>LTCUSDT-binance-volume</th>\n",
       "      <th>future</th>\n",
       "      <th>target</th>\n",
       "    </tr>\n",
       "    <tr>\n",
       "      <th>time</th>\n",
       "      <th></th>\n",
       "      <th></th>\n",
       "      <th></th>\n",
       "      <th></th>\n",
       "      <th></th>\n",
       "      <th></th>\n",
       "      <th></th>\n",
       "      <th></th>\n",
       "      <th></th>\n",
       "      <th></th>\n",
       "    </tr>\n",
       "  </thead>\n",
       "  <tbody>\n",
       "  </tbody>\n",
       "</table>\n",
       "</div>"
      ],
      "text/plain": [
       "Empty DataFrame\n",
       "Columns: [BCHUSDT-binance-close, BCHUSDT-binance-volume, BTCUSDT-binance-close, BTCUSDT-binance-volume, ETHUSDT-binance-close, ETHUSDT-binance-volume, LTCUSDT-binance-close, LTCUSDT-binance-volume, future, target]\n",
       "Index: []"
      ]
     },
     "execution_count": 9,
     "metadata": {},
     "output_type": "execute_result"
    }
   ],
   "source": [
    "times = main_df.index.values\n",
    "last_x_pct = main_df.index.values[-int(VAL_PCT * len(times))]\n",
    "\n",
    "validation_main_df = main_df[main_df.index >= last_x_pct]\n",
    "main_df = main_df[main_df.index < last_x_pct]\n",
    "\n",
    "main_df.loc[main_df.index == last_x_pct] #the splitting place"
   ]
  },
  {
   "cell_type": "markdown",
   "metadata": {},
   "source": [
    "# Verificare valori nule"
   ]
  },
  {
   "cell_type": "code",
   "execution_count": 10,
   "metadata": {},
   "outputs": [
    {
     "data": {
      "text/plain": [
       "(BCHUSDT-binance-close     0\n",
       " BCHUSDT-binance-volume    0\n",
       " BTCUSDT-binance-close     0\n",
       " BTCUSDT-binance-volume    0\n",
       " ETHUSDT-binance-close     0\n",
       " ETHUSDT-binance-volume    0\n",
       " LTCUSDT-binance-close     0\n",
       " LTCUSDT-binance-volume    0\n",
       " future                    0\n",
       " target                    0\n",
       " dtype: int64,\n",
       " BCHUSDT-binance-close     0\n",
       " BCHUSDT-binance-volume    0\n",
       " BTCUSDT-binance-close     0\n",
       " BTCUSDT-binance-volume    0\n",
       " ETHUSDT-binance-close     0\n",
       " ETHUSDT-binance-volume    0\n",
       " LTCUSDT-binance-close     0\n",
       " LTCUSDT-binance-volume    0\n",
       " future                    0\n",
       " target                    0\n",
       " dtype: int64)"
      ]
     },
     "execution_count": 10,
     "metadata": {},
     "output_type": "execute_result"
    }
   ],
   "source": [
    "main_df.fillna(method=\"ffill\", inplace=True)\n",
    "validation_main_df.fillna(method=\"ffill\", inplace=True)\n",
    "\n",
    "main_df.dropna(inplace=True)\n",
    "validation_main_df.dropna(inplace=True)\n",
    "main_df.isna().sum(), validation_main_df.isna().sum()"
   ]
  },
  {
   "cell_type": "markdown",
   "metadata": {},
   "source": [
    "# Preprocesare prin normalizare, scalare si balansare"
   ]
  },
  {
   "cell_type": "code",
   "execution_count": 11,
   "metadata": {},
   "outputs": [],
   "source": [
    "def preprocessing_df(df):\n",
    "    df.drop(\"future\", axis=1) \n",
    "\n",
    "    for col in df.columns:\n",
    "        if col != \"target\":\n",
    "            df[col] = df[col].pct_change()\n",
    "            df.dropna(inplace=True)\n",
    "            \n",
    "            df.replace([np.inf, -np.inf], np.nan, inplace=True)\n",
    "            \n",
    "            \n",
    "            df.dropna(inplace=True)\n",
    "\n",
    "            df[col] = preprocessing.scale(df[col])\n",
    "    df.dropna(inplace=True)\n",
    "    sequencial_data = []\n",
    "    prev_days = deque(maxlen=SEQ_LEN)\n",
    "    for row in df.values:\n",
    "        prev_days.append([x for x in row[:-1]])\n",
    "        if len(prev_days) == SEQ_LEN:\n",
    "            #separate the label/target\n",
    "            sequencial_data.append([np.array(prev_days), row[-1]])\n",
    "\n",
    "    random.shuffle(sequencial_data)\n",
    "\n",
    "    buys = []\n",
    "    sells = []\n",
    "\n",
    "    for seq, target in sequencial_data:\n",
    "        if target == 0: # you need to sell\n",
    "            sells.append([seq, target])\n",
    "        elif target == 1: # you need to buy\n",
    "            buys.append([seq, target])\n",
    "\n",
    "    random.shuffle(buys)\n",
    "    random.shuffle(sells)\n",
    "\n",
    "    lower_nr = min(len(buys), len(sells))\n",
    "\n",
    "    buys = buys[:lower_nr]\n",
    "    sells = sells[:lower_nr]\n",
    "\n",
    "    sequencial_data = buys + sells\n",
    "\n",
    "    random.shuffle(sequencial_data)\n",
    "\n",
    "    x = []\n",
    "    Y = []\n",
    "\n",
    "    for seq, target in sequencial_data:\n",
    "        x.append(seq)\n",
    "        Y.append(target)\n",
    "    return np.array(x), np.array(Y)"
   ]
  },
  {
   "cell_type": "code",
   "execution_count": 12,
   "metadata": {},
   "outputs": [],
   "source": [
    "train_x, train_Y = preprocessing_df(main_df)\n",
    "test_x, test_Y = preprocessing_df(validation_main_df)"
   ]
  },
  {
   "cell_type": "code",
   "execution_count": 13,
   "metadata": {},
   "outputs": [
    {
     "name": "stdout",
     "output_type": "stream",
     "text": [
      "Training data: 38766, Validation data: 6888\n",
      " Training set Sells: 19383, Buys: 19383\n",
      " Validation set Sells: 3444, Buys: 3444\n"
     ]
    }
   ],
   "source": [
    "print(f\"Training data: {len(train_x)}, Validation data: {len(test_x)}\")\n",
    "print(f\" Training set Sells: {(train_Y.astype('int32') == 0).sum()}, Buys: {(train_Y.astype('int32') == 1).sum()}\")\n",
    "print(f\" Validation set Sells: {(test_Y.astype('int32') == 0).sum()}, Buys: {(test_Y.astype('int32') == 1).sum()}\")"
   ]
  },
  {
   "cell_type": "markdown",
   "metadata": {},
   "source": [
    "# Arhitectura modelului"
   ]
  },
  {
   "cell_type": "code",
   "execution_count": 14,
   "metadata": {},
   "outputs": [],
   "source": [
    "config = ConfigProto()\n",
    "config.gpu_options.allow_growth = True\n",
    "session = InteractiveSession(config=config)\n",
    "\n",
    "model = Sequential()\n",
    "model.add(LSTM(128, kernel_regularizer=l2(1e-6), recurrent_regularizer=l2(1e-6), bias_regularizer=l2(1e-6), return_sequences=True))\n",
    "model.add(Dropout(0.2))\n",
    "model.add(BatchNormalization())\n",
    "\n",
    "model.add(LSTM(128, kernel_regularizer=l2(1e-6), recurrent_regularizer=l2(1e-6), bias_regularizer=l2(1e-6), return_sequences=True))\n",
    "model.add(Dropout(0.2))\n",
    "model.add(BatchNormalization())\n",
    "\n",
    "model.add(LSTM(64, kernel_regularizer=l2(1e-6), recurrent_regularizer=l2(1e-6), bias_regularizer=l2(1e-6), return_sequences=True))\n",
    "model.add(Dropout(0.2))\n",
    "model.add(BatchNormalization())\n",
    "\n",
    "model.add(LSTM(64, kernel_regularizer=l2(1e-6), recurrent_regularizer=l2(1e-6), bias_regularizer=l2(1e-6), return_sequences=True))\n",
    "model.add(Dropout(0.2))\n",
    "model.add(BatchNormalization())\n",
    "\n",
    "model.add(LSTM(32, kernel_regularizer=l2(1e-6), recurrent_regularizer=l2(1e-6), bias_regularizer=l2(1e-6)))\n",
    "model.add(Dropout(0.2))\n",
    "model.add(BatchNormalization())\n",
    "\n",
    "model.add(Dense(10, activation='relu'))\n",
    "model.add(Dropout(0.2))\n",
    "\n",
    "model.add(Dense(2, activation='softmax'))"
   ]
  },
  {
   "cell_type": "code",
   "execution_count": 15,
   "metadata": {},
   "outputs": [],
   "source": [
    "opt = Adam(learning_rate=1e-4, decay=1e-7)\n",
    "\n",
    "LOSS='sparse_categorical_crossentropy'\n",
    "\n",
    "model.compile(loss=LOSS, optimizer=opt, metrics=['accuracy'])"
   ]
  },
  {
   "cell_type": "markdown",
   "metadata": {},
   "source": [
    "## Hyperparameters, tensorboard and checkpoint"
   ]
  },
  {
   "cell_type": "code",
   "execution_count": 16,
   "metadata": {},
   "outputs": [],
   "source": [
    "EPOCHS = 10\n",
    "BATCH_SIZE = 32\n",
    "\n",
    "NAME = f\"Model-final-arhitectura-mare\""
   ]
  },
  {
   "cell_type": "code",
   "execution_count": 17,
   "metadata": {},
   "outputs": [],
   "source": [
    "tensorboard = TensorBoard(log_dir=f'logs/{NAME}')\n",
    "filepath = \"Model-final-RNN-{epoch:02d}-{val_accuracy:.3f}\"\n",
    "checkpoint = ModelCheckpoint(\"models/{}.model\".format(filepath, monitor='val_accuracy', verbose=1, save_best_only=True, mode='max')) # saves only the best ones"
   ]
  },
  {
   "cell_type": "markdown",
   "metadata": {},
   "source": [
    "# Fitting the model"
   ]
  },
  {
   "cell_type": "code",
   "execution_count": 18,
   "metadata": {
    "scrolled": false
   },
   "outputs": [
    {
     "name": "stdout",
     "output_type": "stream",
     "text": [
      "Epoch 1/10\n",
      "1212/1212 [==============================] - 58s 38ms/step - loss: 0.7812 - accuracy: 0.5051 - val_loss: 0.6663 - val_accuracy: 0.5974\n"
     ]
    },
    {
     "name": "stderr",
     "output_type": "stream",
     "text": [
      "WARNING:absl:Found untraced functions such as lstm_cell_layer_call_and_return_conditional_losses, lstm_cell_layer_call_fn, lstm_cell_1_layer_call_and_return_conditional_losses, lstm_cell_1_layer_call_fn, lstm_cell_2_layer_call_and_return_conditional_losses while saving (showing 5 of 25). These functions will not be directly callable after loading.\n",
      "WARNING:absl:Found untraced functions such as lstm_cell_layer_call_and_return_conditional_losses, lstm_cell_layer_call_fn, lstm_cell_1_layer_call_and_return_conditional_losses, lstm_cell_1_layer_call_fn, lstm_cell_2_layer_call_and_return_conditional_losses while saving (showing 5 of 25). These functions will not be directly callable after loading.\n"
     ]
    },
    {
     "name": "stdout",
     "output_type": "stream",
     "text": [
      "INFO:tensorflow:Assets written to: models\\Model-final-RNN-01-0.597.model\\assets\n"
     ]
    },
    {
     "name": "stderr",
     "output_type": "stream",
     "text": [
      "INFO:tensorflow:Assets written to: models\\Model-final-RNN-01-0.597.model\\assets\n"
     ]
    },
    {
     "name": "stdout",
     "output_type": "stream",
     "text": [
      "Epoch 2/10\n",
      "1212/1212 [==============================] - 44s 37ms/step - loss: 0.6918 - accuracy: 0.5581 - val_loss: 0.5078 - val_accuracy: 0.7684\n"
     ]
    },
    {
     "name": "stderr",
     "output_type": "stream",
     "text": [
      "WARNING:absl:Found untraced functions such as lstm_cell_layer_call_and_return_conditional_losses, lstm_cell_layer_call_fn, lstm_cell_1_layer_call_and_return_conditional_losses, lstm_cell_1_layer_call_fn, lstm_cell_2_layer_call_and_return_conditional_losses while saving (showing 5 of 25). These functions will not be directly callable after loading.\n",
      "WARNING:absl:Found untraced functions such as lstm_cell_layer_call_and_return_conditional_losses, lstm_cell_layer_call_fn, lstm_cell_1_layer_call_and_return_conditional_losses, lstm_cell_1_layer_call_fn, lstm_cell_2_layer_call_and_return_conditional_losses while saving (showing 5 of 25). These functions will not be directly callable after loading.\n"
     ]
    },
    {
     "name": "stdout",
     "output_type": "stream",
     "text": [
      "INFO:tensorflow:Assets written to: models\\Model-final-RNN-02-0.768.model\\assets\n"
     ]
    },
    {
     "name": "stderr",
     "output_type": "stream",
     "text": [
      "INFO:tensorflow:Assets written to: models\\Model-final-RNN-02-0.768.model\\assets\n"
     ]
    },
    {
     "name": "stdout",
     "output_type": "stream",
     "text": [
      "Epoch 3/10\n",
      "1212/1212 [==============================] - 42s 35ms/step - loss: 0.5460 - accuracy: 0.7045 - val_loss: 0.1572 - val_accuracy: 0.9379\n"
     ]
    },
    {
     "name": "stderr",
     "output_type": "stream",
     "text": [
      "WARNING:absl:Found untraced functions such as lstm_cell_layer_call_and_return_conditional_losses, lstm_cell_layer_call_fn, lstm_cell_1_layer_call_and_return_conditional_losses, lstm_cell_1_layer_call_fn, lstm_cell_2_layer_call_and_return_conditional_losses while saving (showing 5 of 25). These functions will not be directly callable after loading.\n",
      "WARNING:absl:Found untraced functions such as lstm_cell_layer_call_and_return_conditional_losses, lstm_cell_layer_call_fn, lstm_cell_1_layer_call_and_return_conditional_losses, lstm_cell_1_layer_call_fn, lstm_cell_2_layer_call_and_return_conditional_losses while saving (showing 5 of 25). These functions will not be directly callable after loading.\n"
     ]
    },
    {
     "name": "stdout",
     "output_type": "stream",
     "text": [
      "INFO:tensorflow:Assets written to: models\\Model-final-RNN-03-0.938.model\\assets\n"
     ]
    },
    {
     "name": "stderr",
     "output_type": "stream",
     "text": [
      "INFO:tensorflow:Assets written to: models\\Model-final-RNN-03-0.938.model\\assets\n"
     ]
    },
    {
     "name": "stdout",
     "output_type": "stream",
     "text": [
      "Epoch 4/10\n",
      "1212/1212 [==============================] - 42s 35ms/step - loss: 0.2810 - accuracy: 0.8893 - val_loss: 0.1052 - val_accuracy: 0.9544\n"
     ]
    },
    {
     "name": "stderr",
     "output_type": "stream",
     "text": [
      "WARNING:absl:Found untraced functions such as lstm_cell_layer_call_and_return_conditional_losses, lstm_cell_layer_call_fn, lstm_cell_1_layer_call_and_return_conditional_losses, lstm_cell_1_layer_call_fn, lstm_cell_2_layer_call_and_return_conditional_losses while saving (showing 5 of 25). These functions will not be directly callable after loading.\n",
      "WARNING:absl:Found untraced functions such as lstm_cell_layer_call_and_return_conditional_losses, lstm_cell_layer_call_fn, lstm_cell_1_layer_call_and_return_conditional_losses, lstm_cell_1_layer_call_fn, lstm_cell_2_layer_call_and_return_conditional_losses while saving (showing 5 of 25). These functions will not be directly callable after loading.\n"
     ]
    },
    {
     "name": "stdout",
     "output_type": "stream",
     "text": [
      "INFO:tensorflow:Assets written to: models\\Model-final-RNN-04-0.954.model\\assets\n"
     ]
    },
    {
     "name": "stderr",
     "output_type": "stream",
     "text": [
      "INFO:tensorflow:Assets written to: models\\Model-final-RNN-04-0.954.model\\assets\n"
     ]
    },
    {
     "name": "stdout",
     "output_type": "stream",
     "text": [
      "Epoch 5/10\n",
      "1212/1212 [==============================] - 41s 34ms/step - loss: 0.2083 - accuracy: 0.9198 - val_loss: 0.0771 - val_accuracy: 0.9670\n"
     ]
    },
    {
     "name": "stderr",
     "output_type": "stream",
     "text": [
      "WARNING:absl:Found untraced functions such as lstm_cell_layer_call_and_return_conditional_losses, lstm_cell_layer_call_fn, lstm_cell_1_layer_call_and_return_conditional_losses, lstm_cell_1_layer_call_fn, lstm_cell_2_layer_call_and_return_conditional_losses while saving (showing 5 of 25). These functions will not be directly callable after loading.\n",
      "WARNING:absl:Found untraced functions such as lstm_cell_layer_call_and_return_conditional_losses, lstm_cell_layer_call_fn, lstm_cell_1_layer_call_and_return_conditional_losses, lstm_cell_1_layer_call_fn, lstm_cell_2_layer_call_and_return_conditional_losses while saving (showing 5 of 25). These functions will not be directly callable after loading.\n"
     ]
    },
    {
     "name": "stdout",
     "output_type": "stream",
     "text": [
      "INFO:tensorflow:Assets written to: models\\Model-final-RNN-05-0.967.model\\assets\n"
     ]
    },
    {
     "name": "stderr",
     "output_type": "stream",
     "text": [
      "INFO:tensorflow:Assets written to: models\\Model-final-RNN-05-0.967.model\\assets\n"
     ]
    },
    {
     "name": "stdout",
     "output_type": "stream",
     "text": [
      "Epoch 6/10\n",
      "1212/1212 [==============================] - 43s 35ms/step - loss: 0.1804 - accuracy: 0.9285 - val_loss: 0.0686 - val_accuracy: 0.9730\n"
     ]
    },
    {
     "name": "stderr",
     "output_type": "stream",
     "text": [
      "WARNING:absl:Found untraced functions such as lstm_cell_layer_call_and_return_conditional_losses, lstm_cell_layer_call_fn, lstm_cell_1_layer_call_and_return_conditional_losses, lstm_cell_1_layer_call_fn, lstm_cell_2_layer_call_and_return_conditional_losses while saving (showing 5 of 25). These functions will not be directly callable after loading.\n",
      "WARNING:absl:Found untraced functions such as lstm_cell_layer_call_and_return_conditional_losses, lstm_cell_layer_call_fn, lstm_cell_1_layer_call_and_return_conditional_losses, lstm_cell_1_layer_call_fn, lstm_cell_2_layer_call_and_return_conditional_losses while saving (showing 5 of 25). These functions will not be directly callable after loading.\n"
     ]
    },
    {
     "name": "stdout",
     "output_type": "stream",
     "text": [
      "INFO:tensorflow:Assets written to: models\\Model-final-RNN-06-0.973.model\\assets\n"
     ]
    },
    {
     "name": "stderr",
     "output_type": "stream",
     "text": [
      "INFO:tensorflow:Assets written to: models\\Model-final-RNN-06-0.973.model\\assets\n"
     ]
    },
    {
     "name": "stdout",
     "output_type": "stream",
     "text": [
      "Epoch 7/10\n",
      "1212/1212 [==============================] - 41s 34ms/step - loss: 0.1529 - accuracy: 0.9387 - val_loss: 0.0645 - val_accuracy: 0.9699\n"
     ]
    },
    {
     "name": "stderr",
     "output_type": "stream",
     "text": [
      "WARNING:absl:Found untraced functions such as lstm_cell_layer_call_and_return_conditional_losses, lstm_cell_layer_call_fn, lstm_cell_1_layer_call_and_return_conditional_losses, lstm_cell_1_layer_call_fn, lstm_cell_2_layer_call_and_return_conditional_losses while saving (showing 5 of 25). These functions will not be directly callable after loading.\n",
      "WARNING:absl:Found untraced functions such as lstm_cell_layer_call_and_return_conditional_losses, lstm_cell_layer_call_fn, lstm_cell_1_layer_call_and_return_conditional_losses, lstm_cell_1_layer_call_fn, lstm_cell_2_layer_call_and_return_conditional_losses while saving (showing 5 of 25). These functions will not be directly callable after loading.\n"
     ]
    },
    {
     "name": "stdout",
     "output_type": "stream",
     "text": [
      "INFO:tensorflow:Assets written to: models\\Model-final-RNN-07-0.970.model\\assets\n"
     ]
    },
    {
     "name": "stderr",
     "output_type": "stream",
     "text": [
      "INFO:tensorflow:Assets written to: models\\Model-final-RNN-07-0.970.model\\assets\n"
     ]
    },
    {
     "name": "stdout",
     "output_type": "stream",
     "text": [
      "Epoch 8/10\n",
      "1212/1212 [==============================] - 41s 34ms/step - loss: 0.1481 - accuracy: 0.9407 - val_loss: 0.0577 - val_accuracy: 0.9743\n"
     ]
    },
    {
     "name": "stderr",
     "output_type": "stream",
     "text": [
      "WARNING:absl:Found untraced functions such as lstm_cell_layer_call_and_return_conditional_losses, lstm_cell_layer_call_fn, lstm_cell_1_layer_call_and_return_conditional_losses, lstm_cell_1_layer_call_fn, lstm_cell_2_layer_call_and_return_conditional_losses while saving (showing 5 of 25). These functions will not be directly callable after loading.\n",
      "WARNING:absl:Found untraced functions such as lstm_cell_layer_call_and_return_conditional_losses, lstm_cell_layer_call_fn, lstm_cell_1_layer_call_and_return_conditional_losses, lstm_cell_1_layer_call_fn, lstm_cell_2_layer_call_and_return_conditional_losses while saving (showing 5 of 25). These functions will not be directly callable after loading.\n"
     ]
    },
    {
     "name": "stdout",
     "output_type": "stream",
     "text": [
      "INFO:tensorflow:Assets written to: models\\Model-final-RNN-08-0.974.model\\assets\n"
     ]
    },
    {
     "name": "stderr",
     "output_type": "stream",
     "text": [
      "INFO:tensorflow:Assets written to: models\\Model-final-RNN-08-0.974.model\\assets\n"
     ]
    },
    {
     "name": "stdout",
     "output_type": "stream",
     "text": [
      "Epoch 9/10\n",
      "1212/1212 [==============================] - 41s 34ms/step - loss: 0.1339 - accuracy: 0.9466 - val_loss: 0.0898 - val_accuracy: 0.9604\n"
     ]
    },
    {
     "name": "stderr",
     "output_type": "stream",
     "text": [
      "WARNING:absl:Found untraced functions such as lstm_cell_layer_call_and_return_conditional_losses, lstm_cell_layer_call_fn, lstm_cell_1_layer_call_and_return_conditional_losses, lstm_cell_1_layer_call_fn, lstm_cell_2_layer_call_and_return_conditional_losses while saving (showing 5 of 25). These functions will not be directly callable after loading.\n",
      "WARNING:absl:Found untraced functions such as lstm_cell_layer_call_and_return_conditional_losses, lstm_cell_layer_call_fn, lstm_cell_1_layer_call_and_return_conditional_losses, lstm_cell_1_layer_call_fn, lstm_cell_2_layer_call_and_return_conditional_losses while saving (showing 5 of 25). These functions will not be directly callable after loading.\n"
     ]
    },
    {
     "name": "stdout",
     "output_type": "stream",
     "text": [
      "INFO:tensorflow:Assets written to: models\\Model-final-RNN-09-0.960.model\\assets\n"
     ]
    },
    {
     "name": "stderr",
     "output_type": "stream",
     "text": [
      "INFO:tensorflow:Assets written to: models\\Model-final-RNN-09-0.960.model\\assets\n"
     ]
    },
    {
     "name": "stdout",
     "output_type": "stream",
     "text": [
      "Epoch 10/10\n",
      "1212/1212 [==============================] - 41s 34ms/step - loss: 0.1250 - accuracy: 0.9520 - val_loss: 0.0783 - val_accuracy: 0.9620\n"
     ]
    },
    {
     "name": "stderr",
     "output_type": "stream",
     "text": [
      "WARNING:absl:Found untraced functions such as lstm_cell_layer_call_and_return_conditional_losses, lstm_cell_layer_call_fn, lstm_cell_1_layer_call_and_return_conditional_losses, lstm_cell_1_layer_call_fn, lstm_cell_2_layer_call_and_return_conditional_losses while saving (showing 5 of 25). These functions will not be directly callable after loading.\n",
      "WARNING:absl:Found untraced functions such as lstm_cell_layer_call_and_return_conditional_losses, lstm_cell_layer_call_fn, lstm_cell_1_layer_call_and_return_conditional_losses, lstm_cell_1_layer_call_fn, lstm_cell_2_layer_call_and_return_conditional_losses while saving (showing 5 of 25). These functions will not be directly callable after loading.\n"
     ]
    },
    {
     "name": "stdout",
     "output_type": "stream",
     "text": [
      "INFO:tensorflow:Assets written to: models\\Model-final-RNN-10-0.962.model\\assets\n"
     ]
    },
    {
     "name": "stderr",
     "output_type": "stream",
     "text": [
      "INFO:tensorflow:Assets written to: models\\Model-final-RNN-10-0.962.model\\assets\n"
     ]
    }
   ],
   "source": [
    "history = model.fit(train_x, train_Y, \n",
    "        batch_size=BATCH_SIZE, \n",
    "        epochs=EPOCHS,\n",
    "        validation_data=(test_x, test_Y),\n",
    "        callbacks=[tensorboard, checkpoint])"
   ]
  },
  {
   "cell_type": "markdown",
   "metadata": {},
   "source": [
    "# Evaluarea si salvarea modelului"
   ]
  },
  {
   "cell_type": "code",
   "execution_count": 19,
   "metadata": {},
   "outputs": [
    {
     "name": "stdout",
     "output_type": "stream",
     "text": [
      "Test loss: 0.07825560867786407\n",
      "Test accuracy: 0.9619628190994263\n"
     ]
    },
    {
     "name": "stderr",
     "output_type": "stream",
     "text": [
      "WARNING:absl:Found untraced functions such as lstm_cell_layer_call_and_return_conditional_losses, lstm_cell_layer_call_fn, lstm_cell_1_layer_call_and_return_conditional_losses, lstm_cell_1_layer_call_fn, lstm_cell_2_layer_call_and_return_conditional_losses while saving (showing 5 of 25). These functions will not be directly callable after loading.\n",
      "WARNING:absl:Found untraced functions such as lstm_cell_layer_call_and_return_conditional_losses, lstm_cell_layer_call_fn, lstm_cell_1_layer_call_and_return_conditional_losses, lstm_cell_1_layer_call_fn, lstm_cell_2_layer_call_and_return_conditional_losses while saving (showing 5 of 25). These functions will not be directly callable after loading.\n"
     ]
    },
    {
     "name": "stdout",
     "output_type": "stream",
     "text": [
      "INFO:tensorflow:Assets written to: models/Model-final-arhitectura-mare\\assets\n"
     ]
    },
    {
     "name": "stderr",
     "output_type": "stream",
     "text": [
      "INFO:tensorflow:Assets written to: models/Model-final-arhitectura-mare\\assets\n"
     ]
    }
   ],
   "source": [
    "# Scoring\n",
    "score = model.evaluate(test_x, test_Y, verbose=0)\n",
    "print('Test loss:', score[0])\n",
    "print('Test accuracy:', score[1])\n",
    "\n",
    "# Saving\n",
    "model.save(f\"models/{NAME}\")"
   ]
  },
  {
   "cell_type": "code",
   "execution_count": 20,
   "metadata": {},
   "outputs": [
    {
     "name": "stdout",
     "output_type": "stream",
     "text": [
      "Model: \"sequential\"\n",
      "_________________________________________________________________\n",
      "Layer (type)                 Output Shape              Param #   \n",
      "=================================================================\n",
      "lstm (LSTM)                  (None, 16, 128)           70656     \n",
      "_________________________________________________________________\n",
      "dropout (Dropout)            (None, 16, 128)           0         \n",
      "_________________________________________________________________\n",
      "batch_normalization (BatchNo (None, 16, 128)           512       \n",
      "_________________________________________________________________\n",
      "lstm_1 (LSTM)                (None, 16, 128)           131584    \n",
      "_________________________________________________________________\n",
      "dropout_1 (Dropout)          (None, 16, 128)           0         \n",
      "_________________________________________________________________\n",
      "batch_normalization_1 (Batch (None, 16, 128)           512       \n",
      "_________________________________________________________________\n",
      "lstm_2 (LSTM)                (None, 16, 64)            49408     \n",
      "_________________________________________________________________\n",
      "dropout_2 (Dropout)          (None, 16, 64)            0         \n",
      "_________________________________________________________________\n",
      "batch_normalization_2 (Batch (None, 16, 64)            256       \n",
      "_________________________________________________________________\n",
      "lstm_3 (LSTM)                (None, 16, 64)            33024     \n",
      "_________________________________________________________________\n",
      "dropout_3 (Dropout)          (None, 16, 64)            0         \n",
      "_________________________________________________________________\n",
      "batch_normalization_3 (Batch (None, 16, 64)            256       \n",
      "_________________________________________________________________\n",
      "lstm_4 (LSTM)                (None, 32)                12416     \n",
      "_________________________________________________________________\n",
      "dropout_4 (Dropout)          (None, 32)                0         \n",
      "_________________________________________________________________\n",
      "batch_normalization_4 (Batch (None, 32)                128       \n",
      "_________________________________________________________________\n",
      "dense (Dense)                (None, 10)                330       \n",
      "_________________________________________________________________\n",
      "dropout_5 (Dropout)          (None, 10)                0         \n",
      "_________________________________________________________________\n",
      "dense_1 (Dense)              (None, 2)                 22        \n",
      "=================================================================\n",
      "Total params: 299,104\n",
      "Trainable params: 298,272\n",
      "Non-trainable params: 832\n",
      "_________________________________________________________________\n"
     ]
    }
   ],
   "source": [
    "model.summary()"
   ]
  }
 ],
 "metadata": {
  "kernelspec": {
   "display_name": "Python 3",
   "language": "python",
   "name": "python3"
  },
  "language_info": {
   "codemirror_mode": {
    "name": "ipython",
    "version": 3
   },
   "file_extension": ".py",
   "mimetype": "text/x-python",
   "name": "python",
   "nbconvert_exporter": "python",
   "pygments_lexer": "ipython3",
   "version": "3.7.9"
  }
 },
 "nbformat": 4,
 "nbformat_minor": 2
}
