{
 "cells": [
  {
   "cell_type": "markdown",
   "metadata": {},
   "source": [
    "## Imports"
   ]
  },
  {
   "cell_type": "code",
   "execution_count": 2,
   "metadata": {},
   "outputs": [],
   "source": [
    "import pandas as pd\n",
    "\n",
    "from sklearn import preprocessing\n",
    "from collections import deque\n",
    "import numpy as np\n",
    "import random\n",
    "import time\n",
    "\n",
    "import tensorflow as tf\n",
    "from tensorflow.keras.models import Sequential \n",
    "from tensorflow.keras.layers import Dense, Dropout, LSTM, BatchNormalization\n",
    "from tensorflow.keras.callbacks import TensorBoard, ModelCheckpoint, LearningRateScheduler\n",
    "from tensorflow.keras.optimizers import SGD, Adam\n",
    "from tensorflow.keras.optimizers.schedules import ExponentialDecay\n",
    "from tensorflow.keras.regularizers import l1\n",
    "from tensorflow.keras.regularizers import l2\n",
    "# pt CuDNNLSTM look at this https://stackoverflow.com/questions/60468385/is-there-cudnnlstm-or-cudnngru-alternative-in-tensorflow-2-0\n",
    "\n",
    "from tensorflow.compat.v1 import ConfigProto\n",
    "from tensorflow.compat.v1 import InteractiveSession"
   ]
  },
  {
   "cell_type": "markdown",
   "metadata": {},
   "source": [
    "The next steps are as follow:\n",
    "### 1. create the main dataframe\n",
    "### 2. load the data"
   ]
  },
  {
   "cell_type": "code",
   "execution_count": 3,
   "metadata": {},
   "outputs": [],
   "source": [
    "main_df = pd.DataFrame()\n",
    "\n",
    "ratios = [\"BCHUSDT-data\", \"BTCUSDT-data\", \"ETHUSDT-data\", \"LTCUSDT-data\"]\n",
    "# ratios = [\"BCH-USD\", \"BTC-USD\", \"ETH-USD\", \"LTC-USD\"]\n",
    "\n",
    "for ratio in ratios:\n",
    "    dataset = pd.read_csv(\n",
    "        f\"crypto_data/{ratio}.csv\")\n",
    "    # we only need the close and volume\n",
    "    dataset.rename(\n",
    "        columns={\"close\": f\"{ratio}-close\", \"volume\": f\"{ratio}-volume\"}, inplace=True\n",
    "    )\n",
    "    # print(dataset.head())\n",
    "\n",
    "    # set the time as the index\n",
    "    dataset.set_index(\"time\", inplace=True)\n",
    "\n",
    "    # drop the ones we don't need\n",
    "    dataset.drop([\"low\", \"high\", \"open\"], axis=1, inplace=True)\n",
    "\n",
    "    # merge all the columns on the index\n",
    "    if main_df.empty:\n",
    "        main_df = dataset\n",
    "    else:\n",
    "        main_df = main_df.join(dataset)"
   ]
  },
  {
   "cell_type": "code",
   "execution_count": 4,
   "metadata": {},
   "outputs": [
    {
     "data": {
      "text/html": [
       "<div>\n",
       "<style scoped>\n",
       "    .dataframe tbody tr th:only-of-type {\n",
       "        vertical-align: middle;\n",
       "    }\n",
       "\n",
       "    .dataframe tbody tr th {\n",
       "        vertical-align: top;\n",
       "    }\n",
       "\n",
       "    .dataframe thead th {\n",
       "        text-align: right;\n",
       "    }\n",
       "</style>\n",
       "<table border=\"1\" class=\"dataframe\">\n",
       "  <thead>\n",
       "    <tr style=\"text-align: right;\">\n",
       "      <th></th>\n",
       "      <th>BCHUSDT-data-close</th>\n",
       "      <th>BCHUSDT-data-volume</th>\n",
       "      <th>BTCUSDT-data-close</th>\n",
       "      <th>BTCUSDT-data-volume</th>\n",
       "      <th>ETHUSDT-data-close</th>\n",
       "      <th>ETHUSDT-data-volume</th>\n",
       "      <th>LTCUSDT-data-close</th>\n",
       "      <th>LTCUSDT-data-volume</th>\n",
       "    </tr>\n",
       "    <tr>\n",
       "      <th>time</th>\n",
       "      <th></th>\n",
       "      <th></th>\n",
       "      <th></th>\n",
       "      <th></th>\n",
       "      <th></th>\n",
       "      <th></th>\n",
       "      <th></th>\n",
       "      <th></th>\n",
       "    </tr>\n",
       "  </thead>\n",
       "  <tbody>\n",
       "    <tr>\n",
       "      <th>1577836800</th>\n",
       "      <td>203.95</td>\n",
       "      <td>409.10</td>\n",
       "      <td>7180.97</td>\n",
       "      <td>202.94</td>\n",
       "      <td>128.91</td>\n",
       "      <td>1883.58</td>\n",
       "      <td>41.19</td>\n",
       "      <td>1355.11</td>\n",
       "    </tr>\n",
       "    <tr>\n",
       "      <th>1577837700</th>\n",
       "      <td>203.95</td>\n",
       "      <td>158.42</td>\n",
       "      <td>7178.45</td>\n",
       "      <td>128.24</td>\n",
       "      <td>128.78</td>\n",
       "      <td>3686.07</td>\n",
       "      <td>41.20</td>\n",
       "      <td>649.58</td>\n",
       "    </tr>\n",
       "    <tr>\n",
       "      <th>1577838600</th>\n",
       "      <td>204.54</td>\n",
       "      <td>245.08</td>\n",
       "      <td>7179.56</td>\n",
       "      <td>83.49</td>\n",
       "      <td>128.86</td>\n",
       "      <td>1141.18</td>\n",
       "      <td>41.26</td>\n",
       "      <td>478.91</td>\n",
       "    </tr>\n",
       "    <tr>\n",
       "      <th>1577839500</th>\n",
       "      <td>204.43</td>\n",
       "      <td>60.74</td>\n",
       "      <td>7177.02</td>\n",
       "      <td>97.14</td>\n",
       "      <td>128.87</td>\n",
       "      <td>1058.34</td>\n",
       "      <td>41.28</td>\n",
       "      <td>344.47</td>\n",
       "    </tr>\n",
       "    <tr>\n",
       "      <th>1577840400</th>\n",
       "      <td>205.48</td>\n",
       "      <td>547.23</td>\n",
       "      <td>7190.86</td>\n",
       "      <td>103.52</td>\n",
       "      <td>129.13</td>\n",
       "      <td>1369.77</td>\n",
       "      <td>41.38</td>\n",
       "      <td>613.06</td>\n",
       "    </tr>\n",
       "  </tbody>\n",
       "</table>\n",
       "</div>"
      ],
      "text/plain": [
       "            BCHUSDT-data-close  BCHUSDT-data-volume  BTCUSDT-data-close  \\\n",
       "time                                                                      \n",
       "1577836800              203.95               409.10             7180.97   \n",
       "1577837700              203.95               158.42             7178.45   \n",
       "1577838600              204.54               245.08             7179.56   \n",
       "1577839500              204.43                60.74             7177.02   \n",
       "1577840400              205.48               547.23             7190.86   \n",
       "\n",
       "            BTCUSDT-data-volume  ETHUSDT-data-close  ETHUSDT-data-volume  \\\n",
       "time                                                                       \n",
       "1577836800               202.94              128.91              1883.58   \n",
       "1577837700               128.24              128.78              3686.07   \n",
       "1577838600                83.49              128.86              1141.18   \n",
       "1577839500                97.14              128.87              1058.34   \n",
       "1577840400               103.52              129.13              1369.77   \n",
       "\n",
       "            LTCUSDT-data-close  LTCUSDT-data-volume  \n",
       "time                                                 \n",
       "1577836800               41.19              1355.11  \n",
       "1577837700               41.20               649.58  \n",
       "1577838600               41.26               478.91  \n",
       "1577839500               41.28               344.47  \n",
       "1577840400               41.38               613.06  "
      ]
     },
     "execution_count": 4,
     "metadata": {},
     "output_type": "execute_result"
    }
   ],
   "source": [
    "main_df.head()"
   ]
  },
  {
   "cell_type": "code",
   "execution_count": 5,
   "metadata": {},
   "outputs": [
    {
     "data": {
      "text/plain": [
       "array(['BCHUSDT-data-close', 'BCHUSDT-data-volume', 'BTCUSDT-data-close',\n",
       "       'BTCUSDT-data-volume', 'ETHUSDT-data-close', 'ETHUSDT-data-volume',\n",
       "       'LTCUSDT-data-close', 'LTCUSDT-data-volume'], dtype=object)"
      ]
     },
     "execution_count": 5,
     "metadata": {},
     "output_type": "execute_result"
    }
   ],
   "source": [
    "main_df.columns.values"
   ]
  },
  {
   "cell_type": "markdown",
   "metadata": {},
   "source": [
    "## Define the parameters of the dataset."
   ]
  },
  {
   "cell_type": "code",
   "execution_count": 6,
   "metadata": {},
   "outputs": [],
   "source": [
    "SEQ_LEN = 16\n",
    "FUTURE_PRED = 4\n",
    "COIN = ratios[1] #BTC-USDT\n",
    "VAL_PCT = 0.15"
   ]
  },
  {
   "cell_type": "markdown",
   "metadata": {},
   "source": [
    "## Create a classifier that specifies when to buy/sell\n"
   ]
  },
  {
   "cell_type": "code",
   "execution_count": 7,
   "metadata": {},
   "outputs": [],
   "source": [
    "def classify(current, future):\n",
    "    if float(current) <= float(future):\n",
    "        return 1 # when the price is higher we buy\n",
    "    else:\n",
    "        return 0 # when the price is lower we sell"
   ]
  },
  {
   "cell_type": "markdown",
   "metadata": {},
   "source": [
    "## Let's do some feature engineering\n",
    "- add a 'future' column\n",
    "- add a 'target' column"
   ]
  },
  {
   "cell_type": "code",
   "execution_count": 8,
   "metadata": {},
   "outputs": [
    {
     "data": {
      "text/html": [
       "<div>\n",
       "<style scoped>\n",
       "    .dataframe tbody tr th:only-of-type {\n",
       "        vertical-align: middle;\n",
       "    }\n",
       "\n",
       "    .dataframe tbody tr th {\n",
       "        vertical-align: top;\n",
       "    }\n",
       "\n",
       "    .dataframe thead th {\n",
       "        text-align: right;\n",
       "    }\n",
       "</style>\n",
       "<table border=\"1\" class=\"dataframe\">\n",
       "  <thead>\n",
       "    <tr style=\"text-align: right;\">\n",
       "      <th></th>\n",
       "      <th>BTCUSDT-data-close</th>\n",
       "      <th>future</th>\n",
       "    </tr>\n",
       "    <tr>\n",
       "      <th>time</th>\n",
       "      <th></th>\n",
       "      <th></th>\n",
       "    </tr>\n",
       "  </thead>\n",
       "  <tbody>\n",
       "    <tr>\n",
       "      <th>1577836800</th>\n",
       "      <td>7180.97</td>\n",
       "      <td>7190.86</td>\n",
       "    </tr>\n",
       "    <tr>\n",
       "      <th>1577837700</th>\n",
       "      <td>7178.45</td>\n",
       "      <td>7212.10</td>\n",
       "    </tr>\n",
       "    <tr>\n",
       "      <th>1577838600</th>\n",
       "      <td>7179.56</td>\n",
       "      <td>7211.87</td>\n",
       "    </tr>\n",
       "    <tr>\n",
       "      <th>1577839500</th>\n",
       "      <td>7177.02</td>\n",
       "      <td>7216.27</td>\n",
       "    </tr>\n",
       "    <tr>\n",
       "      <th>1577840400</th>\n",
       "      <td>7190.86</td>\n",
       "      <td>7211.97</td>\n",
       "    </tr>\n",
       "  </tbody>\n",
       "</table>\n",
       "</div>"
      ],
      "text/plain": [
       "            BTCUSDT-data-close   future\n",
       "time                                   \n",
       "1577836800             7180.97  7190.86\n",
       "1577837700             7178.45  7212.10\n",
       "1577838600             7179.56  7211.87\n",
       "1577839500             7177.02  7216.27\n",
       "1577840400             7190.86  7211.97"
      ]
     },
     "execution_count": 8,
     "metadata": {},
     "output_type": "execute_result"
    }
   ],
   "source": [
    "main_df[\"future\"] = main_df[f\"{COIN}-close\"].shift(-FUTURE_PRED)\n",
    "main_df[[f'{COIN}-close', 'future']].head()"
   ]
  },
  {
   "cell_type": "code",
   "execution_count": 9,
   "metadata": {
    "scrolled": true
   },
   "outputs": [
    {
     "data": {
      "text/html": [
       "<div>\n",
       "<style scoped>\n",
       "    .dataframe tbody tr th:only-of-type {\n",
       "        vertical-align: middle;\n",
       "    }\n",
       "\n",
       "    .dataframe tbody tr th {\n",
       "        vertical-align: top;\n",
       "    }\n",
       "\n",
       "    .dataframe thead th {\n",
       "        text-align: right;\n",
       "    }\n",
       "</style>\n",
       "<table border=\"1\" class=\"dataframe\">\n",
       "  <thead>\n",
       "    <tr style=\"text-align: right;\">\n",
       "      <th></th>\n",
       "      <th>BCHUSDT-data-close</th>\n",
       "      <th>BCHUSDT-data-volume</th>\n",
       "      <th>BTCUSDT-data-close</th>\n",
       "      <th>BTCUSDT-data-volume</th>\n",
       "      <th>ETHUSDT-data-close</th>\n",
       "      <th>ETHUSDT-data-volume</th>\n",
       "      <th>LTCUSDT-data-close</th>\n",
       "      <th>LTCUSDT-data-volume</th>\n",
       "      <th>future</th>\n",
       "      <th>target</th>\n",
       "    </tr>\n",
       "    <tr>\n",
       "      <th>time</th>\n",
       "      <th></th>\n",
       "      <th></th>\n",
       "      <th></th>\n",
       "      <th></th>\n",
       "      <th></th>\n",
       "      <th></th>\n",
       "      <th></th>\n",
       "      <th></th>\n",
       "      <th></th>\n",
       "      <th></th>\n",
       "    </tr>\n",
       "  </thead>\n",
       "  <tbody>\n",
       "    <tr>\n",
       "      <th>1577836800</th>\n",
       "      <td>203.95</td>\n",
       "      <td>409.10</td>\n",
       "      <td>7180.97</td>\n",
       "      <td>202.94</td>\n",
       "      <td>128.91</td>\n",
       "      <td>1883.58</td>\n",
       "      <td>41.19</td>\n",
       "      <td>1355.11</td>\n",
       "      <td>7190.86</td>\n",
       "      <td>1</td>\n",
       "    </tr>\n",
       "    <tr>\n",
       "      <th>1577837700</th>\n",
       "      <td>203.95</td>\n",
       "      <td>158.42</td>\n",
       "      <td>7178.45</td>\n",
       "      <td>128.24</td>\n",
       "      <td>128.78</td>\n",
       "      <td>3686.07</td>\n",
       "      <td>41.20</td>\n",
       "      <td>649.58</td>\n",
       "      <td>7212.10</td>\n",
       "      <td>1</td>\n",
       "    </tr>\n",
       "    <tr>\n",
       "      <th>1577838600</th>\n",
       "      <td>204.54</td>\n",
       "      <td>245.08</td>\n",
       "      <td>7179.56</td>\n",
       "      <td>83.49</td>\n",
       "      <td>128.86</td>\n",
       "      <td>1141.18</td>\n",
       "      <td>41.26</td>\n",
       "      <td>478.91</td>\n",
       "      <td>7211.87</td>\n",
       "      <td>1</td>\n",
       "    </tr>\n",
       "    <tr>\n",
       "      <th>1577839500</th>\n",
       "      <td>204.43</td>\n",
       "      <td>60.74</td>\n",
       "      <td>7177.02</td>\n",
       "      <td>97.14</td>\n",
       "      <td>128.87</td>\n",
       "      <td>1058.34</td>\n",
       "      <td>41.28</td>\n",
       "      <td>344.47</td>\n",
       "      <td>7216.27</td>\n",
       "      <td>1</td>\n",
       "    </tr>\n",
       "    <tr>\n",
       "      <th>1577840400</th>\n",
       "      <td>205.48</td>\n",
       "      <td>547.23</td>\n",
       "      <td>7190.86</td>\n",
       "      <td>103.52</td>\n",
       "      <td>129.13</td>\n",
       "      <td>1369.77</td>\n",
       "      <td>41.38</td>\n",
       "      <td>613.06</td>\n",
       "      <td>7211.97</td>\n",
       "      <td>1</td>\n",
       "    </tr>\n",
       "  </tbody>\n",
       "</table>\n",
       "</div>"
      ],
      "text/plain": [
       "            BCHUSDT-data-close  BCHUSDT-data-volume  BTCUSDT-data-close  \\\n",
       "time                                                                      \n",
       "1577836800              203.95               409.10             7180.97   \n",
       "1577837700              203.95               158.42             7178.45   \n",
       "1577838600              204.54               245.08             7179.56   \n",
       "1577839500              204.43                60.74             7177.02   \n",
       "1577840400              205.48               547.23             7190.86   \n",
       "\n",
       "            BTCUSDT-data-volume  ETHUSDT-data-close  ETHUSDT-data-volume  \\\n",
       "time                                                                       \n",
       "1577836800               202.94              128.91              1883.58   \n",
       "1577837700               128.24              128.78              3686.07   \n",
       "1577838600                83.49              128.86              1141.18   \n",
       "1577839500                97.14              128.87              1058.34   \n",
       "1577840400               103.52              129.13              1369.77   \n",
       "\n",
       "            LTCUSDT-data-close  LTCUSDT-data-volume   future  target  \n",
       "time                                                                  \n",
       "1577836800               41.19              1355.11  7190.86       1  \n",
       "1577837700               41.20               649.58  7212.10       1  \n",
       "1577838600               41.26               478.91  7211.87       1  \n",
       "1577839500               41.28               344.47  7216.27       1  \n",
       "1577840400               41.38               613.06  7211.97       1  "
      ]
     },
     "execution_count": 9,
     "metadata": {},
     "output_type": "execute_result"
    }
   ],
   "source": [
    "main_df[\"target\"] = list(\n",
    "    map(classify, main_df[f\"{COIN}-close\"], main_df[\"future\"])\n",
    ")\n",
    "main_df.head()"
   ]
  },
  {
   "cell_type": "markdown",
   "metadata": {},
   "source": [
    "## Split the data into training and validation sets"
   ]
  },
  {
   "cell_type": "code",
   "execution_count": 10,
   "metadata": {},
   "outputs": [
    {
     "data": {
      "text/html": [
       "<div>\n",
       "<style scoped>\n",
       "    .dataframe tbody tr th:only-of-type {\n",
       "        vertical-align: middle;\n",
       "    }\n",
       "\n",
       "    .dataframe tbody tr th {\n",
       "        vertical-align: top;\n",
       "    }\n",
       "\n",
       "    .dataframe thead th {\n",
       "        text-align: right;\n",
       "    }\n",
       "</style>\n",
       "<table border=\"1\" class=\"dataframe\">\n",
       "  <thead>\n",
       "    <tr style=\"text-align: right;\">\n",
       "      <th></th>\n",
       "      <th>BCHUSDT-data-close</th>\n",
       "      <th>BCHUSDT-data-volume</th>\n",
       "      <th>BTCUSDT-data-close</th>\n",
       "      <th>BTCUSDT-data-volume</th>\n",
       "      <th>ETHUSDT-data-close</th>\n",
       "      <th>ETHUSDT-data-volume</th>\n",
       "      <th>LTCUSDT-data-close</th>\n",
       "      <th>LTCUSDT-data-volume</th>\n",
       "      <th>future</th>\n",
       "      <th>target</th>\n",
       "    </tr>\n",
       "    <tr>\n",
       "      <th>time</th>\n",
       "      <th></th>\n",
       "      <th></th>\n",
       "      <th></th>\n",
       "      <th></th>\n",
       "      <th></th>\n",
       "      <th></th>\n",
       "      <th></th>\n",
       "      <th></th>\n",
       "      <th></th>\n",
       "      <th></th>\n",
       "    </tr>\n",
       "  </thead>\n",
       "  <tbody>\n",
       "  </tbody>\n",
       "</table>\n",
       "</div>"
      ],
      "text/plain": [
       "Empty DataFrame\n",
       "Columns: [BCHUSDT-data-close, BCHUSDT-data-volume, BTCUSDT-data-close, BTCUSDT-data-volume, ETHUSDT-data-close, ETHUSDT-data-volume, LTCUSDT-data-close, LTCUSDT-data-volume, future, target]\n",
       "Index: []"
      ]
     },
     "execution_count": 10,
     "metadata": {},
     "output_type": "execute_result"
    }
   ],
   "source": [
    "times = main_df.index.values\n",
    "last_x_pct = main_df.index.values[-int(VAL_PCT * len(times))]\n",
    "\n",
    "validation_main_df = main_df[main_df.index >= last_x_pct]\n",
    "main_df = main_df[main_df.index < last_x_pct]\n",
    "\n",
    "main_df.loc[main_df.index == last_x_pct] #the splitting place"
   ]
  },
  {
   "cell_type": "code",
   "execution_count": 11,
   "metadata": {},
   "outputs": [
    {
     "data": {
      "text/html": [
       "<div>\n",
       "<style scoped>\n",
       "    .dataframe tbody tr th:only-of-type {\n",
       "        vertical-align: middle;\n",
       "    }\n",
       "\n",
       "    .dataframe tbody tr th {\n",
       "        vertical-align: top;\n",
       "    }\n",
       "\n",
       "    .dataframe thead th {\n",
       "        text-align: right;\n",
       "    }\n",
       "</style>\n",
       "<table border=\"1\" class=\"dataframe\">\n",
       "  <thead>\n",
       "    <tr style=\"text-align: right;\">\n",
       "      <th></th>\n",
       "      <th>BCHUSDT-data-close</th>\n",
       "      <th>BCHUSDT-data-volume</th>\n",
       "      <th>BTCUSDT-data-close</th>\n",
       "      <th>BTCUSDT-data-volume</th>\n",
       "      <th>ETHUSDT-data-close</th>\n",
       "      <th>ETHUSDT-data-volume</th>\n",
       "      <th>LTCUSDT-data-close</th>\n",
       "      <th>LTCUSDT-data-volume</th>\n",
       "      <th>future</th>\n",
       "      <th>target</th>\n",
       "    </tr>\n",
       "  </thead>\n",
       "  <tbody>\n",
       "    <tr>\n",
       "      <th>count</th>\n",
       "      <td>40332.000000</td>\n",
       "      <td>40332.000000</td>\n",
       "      <td>40332.000000</td>\n",
       "      <td>40332.000000</td>\n",
       "      <td>40332.000000</td>\n",
       "      <td>40332.000000</td>\n",
       "      <td>40332.000000</td>\n",
       "      <td>40332.000000</td>\n",
       "      <td>40332.000000</td>\n",
       "      <td>40332.000000</td>\n",
       "    </tr>\n",
       "    <tr>\n",
       "      <th>mean</th>\n",
       "      <td>299.436652</td>\n",
       "      <td>2330.671071</td>\n",
       "      <td>14784.185081</td>\n",
       "      <td>777.312977</td>\n",
       "      <td>452.283792</td>\n",
       "      <td>10022.202875</td>\n",
       "      <td>70.050401</td>\n",
       "      <td>10253.371268</td>\n",
       "      <td>14788.519364</td>\n",
       "      <td>0.519191</td>\n",
       "    </tr>\n",
       "    <tr>\n",
       "      <th>std</th>\n",
       "      <td>100.622552</td>\n",
       "      <td>3234.735330</td>\n",
       "      <td>10716.512124</td>\n",
       "      <td>821.647219</td>\n",
       "      <td>415.871782</td>\n",
       "      <td>10997.464335</td>\n",
       "      <td>41.504259</td>\n",
       "      <td>13392.203600</td>\n",
       "      <td>10722.280384</td>\n",
       "      <td>0.499638</td>\n",
       "    </tr>\n",
       "    <tr>\n",
       "      <th>min</th>\n",
       "      <td>132.540000</td>\n",
       "      <td>0.000000</td>\n",
       "      <td>3882.220000</td>\n",
       "      <td>0.000000</td>\n",
       "      <td>88.350000</td>\n",
       "      <td>0.000000</td>\n",
       "      <td>24.510000</td>\n",
       "      <td>0.000000</td>\n",
       "      <td>3882.220000</td>\n",
       "      <td>0.000000</td>\n",
       "    </tr>\n",
       "    <tr>\n",
       "      <th>25%</th>\n",
       "      <td>234.540000</td>\n",
       "      <td>683.160000</td>\n",
       "      <td>9083.087500</td>\n",
       "      <td>354.247500</td>\n",
       "      <td>207.900000</td>\n",
       "      <td>3990.375000</td>\n",
       "      <td>44.510000</td>\n",
       "      <td>2709.150000</td>\n",
       "      <td>9083.875000</td>\n",
       "      <td>0.000000</td>\n",
       "    </tr>\n",
       "    <tr>\n",
       "      <th>50%</th>\n",
       "      <td>260.805000</td>\n",
       "      <td>1283.610000</td>\n",
       "      <td>10258.815000</td>\n",
       "      <td>546.875000</td>\n",
       "      <td>321.900000</td>\n",
       "      <td>6741.490000</td>\n",
       "      <td>54.220000</td>\n",
       "      <td>5602.440000</td>\n",
       "      <td>10259.570000</td>\n",
       "      <td>1.000000</td>\n",
       "    </tr>\n",
       "    <tr>\n",
       "      <th>75%</th>\n",
       "      <td>329.210000</td>\n",
       "      <td>2644.552500</td>\n",
       "      <td>15687.430000</td>\n",
       "      <td>885.190000</td>\n",
       "      <td>459.602500</td>\n",
       "      <td>11686.922500</td>\n",
       "      <td>74.390000</td>\n",
       "      <td>12395.805000</td>\n",
       "      <td>15700.280000</td>\n",
       "      <td>1.000000</td>\n",
       "    </tr>\n",
       "    <tr>\n",
       "      <th>max</th>\n",
       "      <td>983.680000</td>\n",
       "      <td>66794.940000</td>\n",
       "      <td>58261.480000</td>\n",
       "      <td>20821.080000</td>\n",
       "      <td>2976.380000</td>\n",
       "      <td>194198.970000</td>\n",
       "      <td>271.370000</td>\n",
       "      <td>232497.380000</td>\n",
       "      <td>58261.480000</td>\n",
       "      <td>1.000000</td>\n",
       "    </tr>\n",
       "  </tbody>\n",
       "</table>\n",
       "</div>"
      ],
      "text/plain": [
       "       BCHUSDT-data-close  BCHUSDT-data-volume  BTCUSDT-data-close  \\\n",
       "count        40332.000000         40332.000000        40332.000000   \n",
       "mean           299.436652          2330.671071        14784.185081   \n",
       "std            100.622552          3234.735330        10716.512124   \n",
       "min            132.540000             0.000000         3882.220000   \n",
       "25%            234.540000           683.160000         9083.087500   \n",
       "50%            260.805000          1283.610000        10258.815000   \n",
       "75%            329.210000          2644.552500        15687.430000   \n",
       "max            983.680000         66794.940000        58261.480000   \n",
       "\n",
       "       BTCUSDT-data-volume  ETHUSDT-data-close  ETHUSDT-data-volume  \\\n",
       "count         40332.000000        40332.000000         40332.000000   \n",
       "mean            777.312977          452.283792         10022.202875   \n",
       "std             821.647219          415.871782         10997.464335   \n",
       "min               0.000000           88.350000             0.000000   \n",
       "25%             354.247500          207.900000          3990.375000   \n",
       "50%             546.875000          321.900000          6741.490000   \n",
       "75%             885.190000          459.602500         11686.922500   \n",
       "max           20821.080000         2976.380000        194198.970000   \n",
       "\n",
       "       LTCUSDT-data-close  LTCUSDT-data-volume        future        target  \n",
       "count        40332.000000         40332.000000  40332.000000  40332.000000  \n",
       "mean            70.050401         10253.371268  14788.519364      0.519191  \n",
       "std             41.504259         13392.203600  10722.280384      0.499638  \n",
       "min             24.510000             0.000000   3882.220000      0.000000  \n",
       "25%             44.510000          2709.150000   9083.875000      0.000000  \n",
       "50%             54.220000          5602.440000  10259.570000      1.000000  \n",
       "75%             74.390000         12395.805000  15700.280000      1.000000  \n",
       "max            271.370000        232497.380000  58261.480000      1.000000  "
      ]
     },
     "execution_count": 11,
     "metadata": {},
     "output_type": "execute_result"
    }
   ],
   "source": [
    "main_df.describe()"
   ]
  },
  {
   "cell_type": "code",
   "execution_count": 12,
   "metadata": {},
   "outputs": [
    {
     "name": "stdout",
     "output_type": "stream",
     "text": [
      "0.0%\n"
     ]
    }
   ],
   "source": [
    "missing_target_values_pct = main_df['future'].isna().sum() * 100 /len(main_df['future'])\n",
    "print(f'{missing_target_values_pct:0.3}%')"
   ]
  },
  {
   "cell_type": "markdown",
   "metadata": {},
   "source": [
    "There are 6% missing values in the target column alone."
   ]
  },
  {
   "cell_type": "code",
   "execution_count": 13,
   "metadata": {},
   "outputs": [
    {
     "data": {
      "text/plain": [
       "BCHUSDT-data-close     0\n",
       "BCHUSDT-data-volume    0\n",
       "BTCUSDT-data-close     0\n",
       "BTCUSDT-data-volume    0\n",
       "ETHUSDT-data-close     0\n",
       "ETHUSDT-data-volume    0\n",
       "LTCUSDT-data-close     0\n",
       "LTCUSDT-data-volume    0\n",
       "future                 0\n",
       "target                 0\n",
       "dtype: int64"
      ]
     },
     "execution_count": 13,
     "metadata": {},
     "output_type": "execute_result"
    }
   ],
   "source": [
    "main_df.isna().sum()"
   ]
  },
  {
   "cell_type": "code",
   "execution_count": 14,
   "metadata": {},
   "outputs": [
    {
     "data": {
      "text/plain": [
       "(40332, 10)"
      ]
     },
     "execution_count": 14,
     "metadata": {},
     "output_type": "execute_result"
    }
   ],
   "source": [
    "main_df.shape"
   ]
  },
  {
   "cell_type": "markdown",
   "metadata": {},
   "source": [
    "## We now remove/fill in the missing values with values that we believe to be correct."
   ]
  },
  {
   "cell_type": "code",
   "execution_count": 15,
   "metadata": {},
   "outputs": [
    {
     "data": {
      "text/plain": [
       "(BCHUSDT-data-close     0\n",
       " BCHUSDT-data-volume    0\n",
       " BTCUSDT-data-close     0\n",
       " BTCUSDT-data-volume    0\n",
       " ETHUSDT-data-close     0\n",
       " ETHUSDT-data-volume    0\n",
       " LTCUSDT-data-close     0\n",
       " LTCUSDT-data-volume    0\n",
       " future                 0\n",
       " target                 0\n",
       " dtype: int64,\n",
       " BCHUSDT-data-close     0\n",
       " BCHUSDT-data-volume    0\n",
       " BTCUSDT-data-close     0\n",
       " BTCUSDT-data-volume    0\n",
       " ETHUSDT-data-close     0\n",
       " ETHUSDT-data-volume    0\n",
       " LTCUSDT-data-close     0\n",
       " LTCUSDT-data-volume    0\n",
       " future                 0\n",
       " target                 0\n",
       " dtype: int64)"
      ]
     },
     "execution_count": 15,
     "metadata": {},
     "output_type": "execute_result"
    }
   ],
   "source": [
    "main_df.fillna(method=\"ffill\", inplace=True)\n",
    "validation_main_df.fillna(method=\"ffill\", inplace=True)\n",
    "\n",
    "main_df.dropna(inplace=True)\n",
    "validation_main_df.dropna(inplace=True)\n",
    "main_df.isna().sum(), validation_main_df.isna().sum()"
   ]
  },
  {
   "cell_type": "markdown",
   "metadata": {},
   "source": [
    "### The data is still not ready for processing. There is one last step required: preprocessing.\n",
    "# Normalizing, Scaling and Balancing the dataset\n",
    "\n",
    "The steps required are: dropping the future column, creating pct_change so that the data is clearer and normalizare + scale the data.\n",
    "\n",
    "# SEQ_LEN\n",
    "With a normal dataset, we would randomize the order in which the data is so that the model doesn't overfit; instead it learns on random data.\n",
    "\n",
    "We can't do that here cuz the data would be too random and the model can't learn. Instead, what we'll do is take sequences of predefined lengths then shuffle those sequences. It's a really smart thing to do. We get continuous 1 hour (60 mins) periods and then shuffle them around."
   ]
  },
  {
   "cell_type": "code",
   "execution_count": 16,
   "metadata": {},
   "outputs": [],
   "source": [
    "def preprocessing_df(df):\n",
    "    df.drop(\"future\", axis=1)  # we drop the future column\n",
    "\n",
    "    # use pct change to figure the change in price\n",
    "    for col in df.columns:\n",
    "        if col != \"target\":\n",
    "            df[col] = df[col].pct_change()\n",
    "            df.dropna(inplace=True)\n",
    "            \n",
    "            df.replace([np.inf, -np.inf], np.nan, inplace=True)\n",
    "            \n",
    "            \n",
    "            df.dropna(inplace=True)\n",
    "\n",
    "            # normalize the data 0 -> 1 NOTE: normalization is a form of scaling\n",
    "            df[col] = preprocessing.scale(df[col])\n",
    "    df.dropna(inplace=True)\n",
    "    sequencial_data = []\n",
    "    prev_days = deque(maxlen=SEQ_LEN)\n",
    "    for row in df.values:\n",
    "        prev_days.append([x for x in row[:-1]])\n",
    "        if len(prev_days) == SEQ_LEN:\n",
    "            #separate the label/target\n",
    "            sequencial_data.append([np.array(prev_days), row[-1]])\n",
    "\n",
    "    random.shuffle(sequencial_data)\n",
    "\n",
    "    \"\"\"\n",
    "    the last step in our preprocessing will be to balance the learning set\n",
    "    \"\"\"\n",
    "    buys = []\n",
    "    sells = []\n",
    "\n",
    "    for seq, target in sequencial_data:\n",
    "        if target == 0: # you need to sell\n",
    "            sells.append([seq, target])\n",
    "        elif target == 1: # you need to buy\n",
    "            buys.append([seq, target])\n",
    "\n",
    "    random.shuffle(buys)\n",
    "    random.shuffle(sells)\n",
    "\n",
    "    # how do we balance? Simple. we remove the excess\n",
    "\n",
    "    lower_nr = min(len(buys), len(sells))\n",
    "\n",
    "    buys = buys[:lower_nr]\n",
    "    sells = sells[:lower_nr]\n",
    "\n",
    "    sequencial_data = buys + sells\n",
    "\n",
    "    random.shuffle(sequencial_data)\n",
    "\n",
    "    # split into x and Y\n",
    "    x = []\n",
    "    Y = []\n",
    "\n",
    "    for seq, target in sequencial_data:\n",
    "        x.append(seq)\n",
    "        Y.append(target)\n",
    "    return np.array(x), np.array(Y)"
   ]
  },
  {
   "cell_type": "code",
   "execution_count": 17,
   "metadata": {},
   "outputs": [],
   "source": [
    "train_x, train_Y = preprocessing_df(main_df)\n",
    "test_x, test_Y = preprocessing_df(validation_main_df)"
   ]
  },
  {
   "cell_type": "code",
   "execution_count": 18,
   "metadata": {},
   "outputs": [
    {
     "name": "stdout",
     "output_type": "stream",
     "text": [
      "Training data: 38766, Validation data: 6888\n",
      " Training set Sells: 19383, Buys: 19383\n",
      " Validation set Sells: 3444, Buys: 3444\n"
     ]
    }
   ],
   "source": [
    "print(f\"Training data: {len(train_x)}, Validation data: {len(test_x)}\")\n",
    "print(f\" Training set Sells: {(train_Y.astype('int32') == 0).sum()}, Buys: {(train_Y.astype('int32') == 1).sum()}\")\n",
    "print(f\" Validation set Sells: {(test_Y.astype('int32') == 0).sum()}, Buys: {(test_Y.astype('int32') == 1).sum()}\")"
   ]
  },
  {
   "cell_type": "markdown",
   "metadata": {},
   "source": [
    "As we can see, the total of entries is 68.010 + 17.120 = 85130 (after filling/dropping the missing values) and the ratio is 80/20.\n",
    "\n",
    "# Now that the preprocessing is complete, we can go and train the model."
   ]
  },
  {
   "cell_type": "code",
   "execution_count": 19,
   "metadata": {},
   "outputs": [],
   "source": [
    "config = ConfigProto()\n",
    "config.gpu_options.allow_growth = True\n",
    "session = InteractiveSession(config=config)\n",
    "\n",
    "model = Sequential()\n",
    "model.add(LSTM(64, kernel_regularizer=l2(1e-6), recurrent_regularizer=l2(1e-6), bias_regularizer=l2(1e-6), return_sequences=True))\n",
    "model.add(Dropout(0.2))\n",
    "model.add(BatchNormalization())\n",
    "\n",
    "model.add(LSTM(64, kernel_regularizer=l2(1e-6), recurrent_regularizer=l2(1e-6), bias_regularizer=l2(1e-6), return_sequences=True))\n",
    "model.add(Dropout(0.2))\n",
    "model.add(BatchNormalization())\n",
    "\n",
    "model.add(LSTM(64, kernel_regularizer=l2(1e-6), recurrent_regularizer=l2(1e-6), bias_regularizer=l2(1e-6)))\n",
    "model.add(Dropout(0.2))\n",
    "model.add(BatchNormalization())\n",
    "\n",
    "model.add(Dense(10, activation='relu'))\n",
    "model.add(Dropout(0.2))\n",
    "\n",
    "model.add(Dense(2, activation='softmax'))"
   ]
  },
  {
   "cell_type": "markdown",
   "metadata": {},
   "source": [
    "# Learning rate Finder"
   ]
  },
  {
   "cell_type": "code",
   "execution_count": 20,
   "metadata": {},
   "outputs": [],
   "source": [
    "from matplotlib import pyplot as plt\n",
    "import math\n",
    "from keras.callbacks import LambdaCallback\n",
    "import keras.backend as K\n",
    "\n",
    "class LRFinder:\n",
    "    \"\"\"\n",
    "    Plots the change of the loss function of a Keras model when the learning rate is exponentially increasing.\n",
    "    See for details:\n",
    "    https://towardsdatascience.com/estimating-optimal-learning-rate-for-a-deep-neural-network-ce32f2556ce0\n",
    "    \"\"\"\n",
    "    def __init__(self, model):\n",
    "        self.model = model\n",
    "        self.losses = []\n",
    "        self.lrs = []\n",
    "        self.best_loss = 1e9\n",
    "\n",
    "    def on_batch_end(self, batch, logs):\n",
    "        # Log the learning rate\n",
    "        lr = K.get_value(self.model.optimizer.lr)\n",
    "        self.lrs.append(lr)\n",
    "\n",
    "        # Log the loss\n",
    "        loss = logs['loss']\n",
    "        self.losses.append(loss)\n",
    "\n",
    "        # Check whether the loss got too large or NaN\n",
    "        if math.isnan(loss) or loss > self.best_loss * 4:\n",
    "            self.model.stop_training = True\n",
    "            return\n",
    "\n",
    "        if loss < self.best_loss:\n",
    "            self.best_loss = loss\n",
    "\n",
    "        # Increase the learning rate for the next batch\n",
    "        lr *= self.lr_mult\n",
    "        K.set_value(self.model.optimizer.lr, lr)\n",
    "\n",
    "    def find(self, x_train, y_train, start_lr, end_lr, batch_size=64, epochs=1):\n",
    "        num_batches = epochs * x_train.shape[0] / batch_size\n",
    "        self.lr_mult = (end_lr / start_lr) ** (1 / num_batches)\n",
    "\n",
    "        # Remember the original learning rate\n",
    "        original_lr = K.get_value(self.model.optimizer.lr)\n",
    "\n",
    "        # Set the initial learning rate\n",
    "        K.set_value(self.model.optimizer.lr, start_lr)\n",
    "\n",
    "        callback = LambdaCallback(on_batch_end=lambda batch, logs: self.on_batch_end(batch, logs))\n",
    "\n",
    "        self.model.fit(x_train, y_train,\n",
    "                        batch_size=batch_size, epochs=epochs,\n",
    "                        callbacks=[tensorboard, callback])\n",
    "\n",
    "        # Restore the original learning rate\n",
    "        K.set_value(self.model.optimizer.lr, original_lr)\n",
    "\n",
    "    def plot_loss(self, n_skip_beginning=10, n_skip_end=5):\n",
    "        \"\"\"\n",
    "        Plots the loss.\n",
    "        Parameters:\n",
    "            n_skip_beginning - number of batches to skip on the left.\n",
    "            n_skip_end - number of batches to skip on the right.\n",
    "        \"\"\"\n",
    "        plt.ylabel(\"loss\")\n",
    "        plt.xlabel(\"learning rate (log scale)\")\n",
    "        plt.plot(self.lrs[n_skip_beginning:-n_skip_end], self.losses[n_skip_beginning:-n_skip_end])\n",
    "        plt.xscale('log')\n",
    "\n",
    "    def plot_loss_change(self, sma=1, n_skip_beginning=10, n_skip_end=5, y_lim=(-0.01, 0.01)):\n",
    "        \"\"\"\n",
    "        Plots rate of change of the loss function.\n",
    "        Parameters:\n",
    "            sma - number of batches for simple moving average to smooth out the curve.\n",
    "            n_skip_beginning - number of batches to skip on the left.\n",
    "            n_skip_end - number of batches to skip on the right.\n",
    "            y_lim - limits for the y axis.\n",
    "        \"\"\"\n",
    "        assert sma >= 1\n",
    "        derivatives = [0] * sma\n",
    "        for i in range(sma, len(self.lrs)):\n",
    "            derivative = (self.losses[i] - self.losses[i - sma]) / sma\n",
    "            derivatives.append(derivative)\n",
    "\n",
    "        plt.ylabel(\"rate of loss change\")\n",
    "        plt.xlabel(\"learning rate (log scale)\")\n",
    "        plt.plot(self.lrs[n_skip_beginning:-n_skip_end], derivatives[n_skip_beginning:-n_skip_end])\n",
    "        plt.xscale('log')\n",
    "        plt.ylim(y_lim)"
   ]
  },
  {
   "cell_type": "code",
   "execution_count": 21,
   "metadata": {},
   "outputs": [],
   "source": [
    "opt = Adam(learning_rate=1e-4, decay=1e-7)\n",
    "\n",
    "# opt = Adam(learning_rate=0.01)\n",
    "# tf.summary.scalar('learning rate', data=1e-10)\n",
    "lr = ExponentialDecay(initial_learning_rate=1e-2, decay_steps=10, decay_rate=.1)\n",
    "# opt = SGD(learning_rate=learning_rate)\n",
    "LOSS='sparse_categorical_crossentropy'\n",
    "\n",
    "# learning_rate = tf.compat.v1.train.exponential_decay(1e-10, global_step=global_step, decay_steps=100, decay_rate=1.3)\n",
    "\n",
    "model.compile(loss=LOSS, optimizer=opt, metrics=['accuracy'])"
   ]
  },
  {
   "cell_type": "markdown",
   "metadata": {},
   "source": [
    "## Hyperparameters, tensorboard and checkpoint"
   ]
  },
  {
   "cell_type": "code",
   "execution_count": 22,
   "metadata": {},
   "outputs": [],
   "source": [
    "EPOCHS = 10\n",
    "BATCH_SIZE = 32\n",
    "# NAME = f\"{COIN}-{SEQ_LEN}-{FUTURE_PRED}-VALID-PCT-{VAL_PCT}-LOSS-{LOSS}-OPT-{'Adam'}-{int(time.time())}\"\n",
    "# NAME = f\"{COIN}-{SEQ_LEN}-{FUTURE_PRED}-VALID-PCT-model-without-normalization-LOSS-{LOSS}-OPT-{'SGD'}-{int(time.time())}\"\n",
    "# NAME = f\"LRFinder-{COIN}-{SEQ_LEN}-{FUTURE_PRED}-{int(time.time())}\"\n",
    "NAME = f\"Experiment-Binance-{SEQ_LEN}-{FUTURE_PRED}\""
   ]
  },
  {
   "cell_type": "code",
   "execution_count": 23,
   "metadata": {},
   "outputs": [],
   "source": [
    "tensorboard = TensorBoard(log_dir=f'logs/{NAME}')\n",
    "filepath = \"RNN_Final-{epoch:02d}-{val_accuracy:.3f}\"\n",
    "checkpoint = ModelCheckpoint(\"models/{}.model\".format(filepath, monitor='val_accuracy', verbose=1, save_best_only=True, mode='max')) # saves only the best ones"
   ]
  },
  {
   "cell_type": "markdown",
   "metadata": {},
   "source": [
    "# Fitting the model"
   ]
  },
  {
   "cell_type": "code",
   "execution_count": 24,
   "metadata": {},
   "outputs": [
    {
     "name": "stdout",
     "output_type": "stream",
     "text": [
      "Epoch 1/10\n",
      "1212/1212 [==============================] - 35s 22ms/step - loss: 0.6525 - accuracy: 0.6365 - val_loss: 0.2857 - val_accuracy: 0.8799\n",
      "Epoch 2/10\n",
      "1212/1212 [==============================] - 27s 23ms/step - loss: 0.3792 - accuracy: 0.8229 - val_loss: 0.1700 - val_accuracy: 0.9267\n",
      "Epoch 3/10\n",
      "1212/1212 [==============================] - 27s 22ms/step - loss: 0.2784 - accuracy: 0.8760 - val_loss: 0.1340 - val_accuracy: 0.9429\n",
      "Epoch 4/10\n",
      "1212/1212 [==============================] - 29s 24ms/step - loss: 0.2328 - accuracy: 0.8994 - val_loss: 0.1127 - val_accuracy: 0.9514\n",
      "Epoch 5/10\n",
      "1212/1212 [==============================] - 27s 22ms/step - loss: 0.1979 - accuracy: 0.9149 - val_loss: 0.0908 - val_accuracy: 0.9634\n",
      "Epoch 6/10\n",
      "1212/1212 [==============================] - 27s 22ms/step - loss: 0.1744 - accuracy: 0.9288 - val_loss: 0.0839 - val_accuracy: 0.9653\n",
      "Epoch 7/10\n",
      "1212/1212 [==============================] - 27s 23ms/step - loss: 0.1644 - accuracy: 0.9313 - val_loss: 0.0759 - val_accuracy: 0.9681\n",
      "Epoch 8/10\n",
      "1212/1212 [==============================] - 27s 22ms/step - loss: 0.1498 - accuracy: 0.9387 - val_loss: 0.0689 - val_accuracy: 0.9708\n",
      "Epoch 9/10\n",
      "1212/1212 [==============================] - 27s 22ms/step - loss: 0.1354 - accuracy: 0.9435 - val_loss: 0.0669 - val_accuracy: 0.9742\n",
      "Epoch 10/10\n",
      "1212/1212 [==============================] - 27s 22ms/step - loss: 0.1363 - accuracy: 0.9441 - val_loss: 0.0675 - val_accuracy: 0.9759\n"
     ]
    }
   ],
   "source": [
    "history = model.fit(train_x, train_Y, \n",
    "        batch_size=BATCH_SIZE, \n",
    "        epochs=EPOCHS,\n",
    "        validation_data=(test_x, test_Y),\n",
    "        # callbacks=[tensorboard, checkpoint])\n",
    "        callbacks=[tensorboard])\n"
   ]
  },
  {
   "cell_type": "code",
   "execution_count": 25,
   "metadata": {},
   "outputs": [
    {
     "data": {
      "text/plain": [
       "'\\nlr_finder = LRFinder(model)\\nlr_finder.find(train_x,train_Y, start_lr=1e-10, end_lr=100, batch_size=128, epochs=20)\\nlr_finder.plot_loss(n_skip_beginning=20, n_skip_end=5)\\nplt.show()\\n'"
      ]
     },
     "execution_count": 25,
     "metadata": {},
     "output_type": "execute_result"
    }
   ],
   "source": [
    "\"\"\"\n",
    "lr_finder = LRFinder(model)\n",
    "lr_finder.find(train_x,train_Y, start_lr=1e-10, end_lr=100, batch_size=128, epochs=20)\n",
    "lr_finder.plot_loss(n_skip_beginning=20, n_skip_end=5)\n",
    "plt.show()\n",
    "\"\"\""
   ]
  },
  {
   "cell_type": "markdown",
   "metadata": {},
   "source": [
    "# Score and saving the model"
   ]
  },
  {
   "cell_type": "code",
   "execution_count": 26,
   "metadata": {},
   "outputs": [
    {
     "name": "stdout",
     "output_type": "stream",
     "text": [
      "Test loss: 0.06746745854616165\n",
      "Test accuracy: 0.9759001135826111\n"
     ]
    },
    {
     "name": "stderr",
     "output_type": "stream",
     "text": [
      "WARNING:absl:Found untraced functions such as lstm_cell_layer_call_and_return_conditional_losses, lstm_cell_layer_call_fn, lstm_cell_1_layer_call_and_return_conditional_losses, lstm_cell_1_layer_call_fn, lstm_cell_2_layer_call_and_return_conditional_losses while saving (showing 5 of 15). These functions will not be directly callable after loading.\n",
      "WARNING:absl:Found untraced functions such as lstm_cell_layer_call_and_return_conditional_losses, lstm_cell_layer_call_fn, lstm_cell_1_layer_call_and_return_conditional_losses, lstm_cell_1_layer_call_fn, lstm_cell_2_layer_call_and_return_conditional_losses while saving (showing 5 of 15). These functions will not be directly callable after loading.\n"
     ]
    },
    {
     "name": "stdout",
     "output_type": "stream",
     "text": [
      "INFO:tensorflow:Assets written to: models/Experiment-Binance-16-4\\assets\n"
     ]
    },
    {
     "name": "stderr",
     "output_type": "stream",
     "text": [
      "INFO:tensorflow:Assets written to: models/Experiment-Binance-16-4\\assets\n"
     ]
    }
   ],
   "source": [
    "# Scoring\n",
    "score = model.evaluate(test_x, test_Y, verbose=0)\n",
    "print('Test loss:', score[0])\n",
    "print('Test accuracy:', score[1])\n",
    "\n",
    "# Saving\n",
    "model.save(f\"models/{NAME}\")"
   ]
  },
  {
   "cell_type": "code",
   "execution_count": 27,
   "metadata": {},
   "outputs": [
    {
     "name": "stdout",
     "output_type": "stream",
     "text": [
      "Model: \"sequential\"\n",
      "_________________________________________________________________\n",
      "Layer (type)                 Output Shape              Param #   \n",
      "=================================================================\n",
      "lstm (LSTM)                  (None, 16, 64)            18944     \n",
      "_________________________________________________________________\n",
      "dropout (Dropout)            (None, 16, 64)            0         \n",
      "_________________________________________________________________\n",
      "batch_normalization (BatchNo (None, 16, 64)            256       \n",
      "_________________________________________________________________\n",
      "lstm_1 (LSTM)                (None, 16, 64)            33024     \n",
      "_________________________________________________________________\n",
      "dropout_1 (Dropout)          (None, 16, 64)            0         \n",
      "_________________________________________________________________\n",
      "batch_normalization_1 (Batch (None, 16, 64)            256       \n",
      "_________________________________________________________________\n",
      "lstm_2 (LSTM)                (None, 64)                33024     \n",
      "_________________________________________________________________\n",
      "dropout_2 (Dropout)          (None, 64)                0         \n",
      "_________________________________________________________________\n",
      "batch_normalization_2 (Batch (None, 64)                256       \n",
      "_________________________________________________________________\n",
      "dense (Dense)                (None, 10)                650       \n",
      "_________________________________________________________________\n",
      "dropout_3 (Dropout)          (None, 10)                0         \n",
      "_________________________________________________________________\n",
      "dense_1 (Dense)              (None, 2)                 22        \n",
      "=================================================================\n",
      "Total params: 86,432\n",
      "Trainable params: 86,048\n",
      "Non-trainable params: 384\n",
      "_________________________________________________________________\n"
     ]
    }
   ],
   "source": [
    "model.summary()"
   ]
  },
  {
   "cell_type": "code",
   "execution_count": 28,
   "metadata": {},
   "outputs": [
    {
     "data": {
      "text/plain": [
       "array([0.10787908, 0.89212096], dtype=float32)"
      ]
     },
     "execution_count": 28,
     "metadata": {},
     "output_type": "execute_result"
    }
   ],
   "source": [
    "predicted = model.predict(test_x)\n",
    "expected = test_Y\n",
    "expected[0]\n",
    "predicted[0]"
   ]
  },
  {
   "cell_type": "code",
   "execution_count": 29,
   "metadata": {},
   "outputs": [
    {
     "data": {
      "text/plain": [
       "array([[3348,   96],\n",
       "       [  70, 3374]], dtype=int64)"
      ]
     },
     "execution_count": 29,
     "metadata": {},
     "output_type": "execute_result"
    }
   ],
   "source": [
    "from sklearn.metrics import confusion_matrix\n",
    "\n",
    "\n",
    "predicted_final = np.argmax(predicted, axis=1)\n",
    "confusion_matrix(expected, predicted_final)"
   ]
  },
  {
   "cell_type": "code",
   "execution_count": 30,
   "metadata": {},
   "outputs": [
    {
     "data": {
      "text/plain": [
       "0"
      ]
     },
     "execution_count": 30,
     "metadata": {},
     "output_type": "execute_result"
    }
   ],
   "source": [
    "(test_x==1).sum()"
   ]
  },
  {
   "cell_type": "markdown",
   "metadata": {},
   "source": [
    "## According to the documentation, C1,0 is the value of the false negatives and C0,1 is the value of the false positives.\n",
    "\n",
    "## The top row contains the actual class and the column contains the predicted class.\n",
    "<pre>\n",
    "predicted\\ Actual|          |\n",
    "class     \\ class|  1(buy)  | 0(sell)   \n",
    "___________\\_____|__________|_________\n",
    "1(buy)           |   8701   |    1\n",
    "_________________|__________|_________\n",
    "0(sell)          |   3968   |   4734\n",
    "_________________|__________|_________\n",
    "</pre>      \n"
   ]
  },
  {
   "cell_type": "markdown",
   "metadata": {},
   "source": [
    "## Interpreting the model we understand that the model bought when it should have sold 1 time and sold ~4000 times when it should have bought."
   ]
  },
  {
   "cell_type": "code",
   "execution_count": 31,
   "metadata": {},
   "outputs": [
    {
     "ename": "ModuleNotFoundError",
     "evalue": "No module named 'fastai'",
     "output_type": "error",
     "traceback": [
      "\u001b[1;31m---------------------------------------------------------------------------\u001b[0m",
      "\u001b[1;31mModuleNotFoundError\u001b[0m                       Traceback (most recent call last)",
      "\u001b[1;32m<ipython-input-31-dee1b1da7d89>\u001b[0m in \u001b[0;36m<module>\u001b[1;34m\u001b[0m\n\u001b[0;32m      1\u001b[0m \u001b[0mget_ipython\u001b[0m\u001b[1;33m(\u001b[0m\u001b[1;33m)\u001b[0m\u001b[1;33m.\u001b[0m\u001b[0mrun_line_magic\u001b[0m\u001b[1;33m(\u001b[0m\u001b[1;34m'matplotlib'\u001b[0m\u001b[1;33m,\u001b[0m \u001b[1;34m'inline'\u001b[0m\u001b[1;33m)\u001b[0m\u001b[1;33m\u001b[0m\u001b[1;33m\u001b[0m\u001b[0m\n\u001b[1;32m----> 2\u001b[1;33m \u001b[1;32mfrom\u001b[0m \u001b[0mfastai\u001b[0m\u001b[1;33m.\u001b[0m\u001b[0mvision\u001b[0m\u001b[1;33m.\u001b[0m\u001b[0mall\u001b[0m \u001b[1;32mimport\u001b[0m \u001b[1;33m*\u001b[0m\u001b[1;33m\u001b[0m\u001b[1;33m\u001b[0m\u001b[0m\n\u001b[0m\u001b[0;32m      3\u001b[0m \u001b[1;32mfrom\u001b[0m \u001b[0mfastbook\u001b[0m \u001b[1;32mimport\u001b[0m \u001b[1;33m*\u001b[0m\u001b[1;33m\u001b[0m\u001b[1;33m\u001b[0m\u001b[0m\n\u001b[0;32m      4\u001b[0m \u001b[1;33m\u001b[0m\u001b[0m\n\u001b[0;32m      5\u001b[0m \u001b[0mplot_function\u001b[0m\u001b[1;33m(\u001b[0m\u001b[0mtorch\u001b[0m\u001b[1;33m.\u001b[0m\u001b[0mrelu\u001b[0m\u001b[1;33m)\u001b[0m\u001b[1;33m\u001b[0m\u001b[1;33m\u001b[0m\u001b[0m\n",
      "\u001b[1;31mModuleNotFoundError\u001b[0m: No module named 'fastai'"
     ]
    }
   ],
   "source": [
    "%matplotlib inline\n",
    "from fastai.vision.all import *\n",
    "from fastbook import *\n",
    "\n",
    "plot_function(torch.relu)"
   ]
  }
 ],
 "metadata": {
  "kernelspec": {
   "display_name": "Python 3",
   "language": "python",
   "name": "python3"
  },
  "language_info": {
   "codemirror_mode": {
    "name": "ipython",
    "version": 3
   },
   "file_extension": ".py",
   "mimetype": "text/x-python",
   "name": "python",
   "nbconvert_exporter": "python",
   "pygments_lexer": "ipython3",
   "version": "3.7.9"
  }
 },
 "nbformat": 4,
 "nbformat_minor": 2
}
